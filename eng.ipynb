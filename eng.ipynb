{
 "cells": [
  {
   "cell_type": "markdown",
   "metadata": {},
   "source": [
    "# Ethan's notebook\n",
    "Used for building additional visuals"
   ]
  },
  {
   "cell_type": "code",
   "execution_count": 1,
   "metadata": {},
   "outputs": [
    {
     "name": "stdout",
     "output_type": "stream",
     "text": [
      "import successful\n"
     ]
    }
   ],
   "source": [
    "import numpy as np\n",
    "import pandas as pd\n",
    "%matplotlib inline\n",
    "import matplotlib.pyplot as plt\n",
    "import seaborn as sns\n",
    "from helper_code import *\n",
    "print(\"import successful\")"
   ]
  },
  {
   "cell_type": "code",
   "execution_count": 2,
   "metadata": {},
   "outputs": [
    {
     "name": "stdout",
     "output_type": "stream",
     "text": [
      "import successful\n"
     ]
    }
   ],
   "source": [
    "from eng_helper_code import *\n",
    "print(\"import successful\")"
   ]
  },
  {
   "cell_type": "markdown",
   "metadata": {},
   "source": [
    "# Part 1 : Loading in Datasets"
   ]
  },
  {
   "cell_type": "markdown",
   "metadata": {},
   "source": [
    "# Load National Survey on Drug Use and Health Datasets"
   ]
  },
  {
   "cell_type": "code",
   "execution_count": null,
   "metadata": {},
   "outputs": [],
   "source": [
    "NSDUH2018df = buildNSDUH2018df()\n",
    "NSDUH2019df = buildNSDUH2019df()\n",
    "NSDUH2021df = buildNSDUH2021df()\n",
    "print(NSDUH2018df.head())\n",
    "print(NSDUH2019df.head())\n",
    "print(NSDUH2021df.head())"
   ]
  },
  {
   "cell_type": "markdown",
   "metadata": {},
   "source": [
    "# Load Core Trends Datasets"
   ]
  },
  {
   "cell_type": "code",
   "execution_count": null,
   "metadata": {},
   "outputs": [],
   "source": [
    "coreTrends2018df = buildCoreTrends2018df()\n",
    "coreTrends2019df = buildCoreTrends2019df()\n",
    "coreTrends2021df = buildCoreTrends2021df()\n",
    "print(coreTrends2018df.head())\n",
    "print(coreTrends2019df.head())\n",
    "print(coreTrends2021df.head())"
   ]
  },
  {
   "cell_type": "markdown",
   "metadata": {},
   "source": [
    "# Part 2 : Visual Graphs"
   ]
  },
  {
   "cell_type": "markdown",
   "metadata": {},
   "source": [
    "# Graph 1: People by age and frequency of social media usage\n",
    "This first shows people by age, and their frequency of social media usage.\\\n",
    "Each line shows the data from each year"
   ]
  },
  {
   "cell_type": "code",
   "execution_count": null,
   "metadata": {},
   "outputs": [],
   "source": [
    "def snsPlot(df, label, ax, color='blue', linestyle='--'):\n",
    "    # Calculate the sum of all columns starting with 'Sns'\n",
    "    sns_columns = df.filter(like='Sns_').columns\n",
    "    sns_columns = sns_columns.drop('Sns_YouTube')  # Exclude Sns_YouTube from the analysis because it's questionable social media status\n",
    "    df['sns_sum'] = df[sns_columns].sum(axis=1, min_count=1)  # min_count=1 ensures NaN if all are NaN\n",
    "\n",
    "    # Define age groups\n",
    "    df['age_group'] = pd.cut(df['age'], bins=[0, 25, 34, 49, 64, float('inf')], labels=['18-25', '26-34', '35-49', '50-64', '65+'])\n",
    "    \n",
    "    # Determine the number of people with SNS sum >= 5.0 in each age group\n",
    "    high_sns = df[df['sns_sum'] >= 5.0].groupby('age_group').size().reset_index(name='high_sns_count')\n",
    "\n",
    "    # Calculate total people in each age group\n",
    "    total_counts = df.groupby('age_group').size().reset_index(name='total')\n",
    "\n",
    "    # Merge to get total counts in the high_sns DataFrame\n",
    "    high_sns = pd.merge(high_sns, total_counts, on='age_group', how='right')\n",
    "\n",
    "    # Fill NaN with 0 where there are no counts\n",
    "    high_sns['high_sns_count'] = high_sns['high_sns_count'].fillna(0)\n",
    "\n",
    "    # Calculate the percentage\n",
    "    high_sns['percentage'] = (high_sns['high_sns_count'] / high_sns['total']) * 100\n",
    "\n",
    "    # Optional: Apply a moving average for smoothing\n",
    "    high_sns['smoothed_percentage'] = high_sns['percentage'].rolling(window=3, min_periods=1).mean()\n",
    "\n",
    "    # Plot using seaborn on the given axis object\n",
    "    sns.lineplot(data=high_sns, x='age_group', y='smoothed_percentage', ax=ax, label=f\"High Social Media Usage {label}\", color=color, linestyle=linestyle)\n",
    "\n",
    "# Create a single figure and axis for all plots\n",
    "fig, ax = plt.subplots(figsize=(10, 6))\n",
    "\n",
    "# Call snsPlot for each DataFrame and year\n",
    "snsPlot(coreTrends2018df, '2018', ax, 'blue')\n",
    "snsPlot(coreTrends2019df, '2019', ax, 'orange')\n",
    "snsPlot(coreTrends2021df, '2021', ax, 'green')\n",
    "\n",
    "# Set titles and labels\n",
    "sns.set_palette(\"dark\")\n",
    "plt.title('Percentage of People with High Social Media Usage by Age Group Across Years')\n",
    "plt.xlabel('Age Group')\n",
    "plt.ylabel('Percentage of People')\n",
    "plt.legend()\n",
    "\n",
    "# Show the plot\n",
    "plt.show()"
   ]
  },
  {
   "cell_type": "markdown",
   "metadata": {},
   "source": [
    "# Graph 2: People by Age and Mental health that affects social activities \n",
    "This second graph shows the percentage of people by age that have mental health issues that affect their social activities"
   ]
  },
  {
   "cell_type": "code",
   "execution_count": null,
   "metadata": {
    "scrolled": true
   },
   "outputs": [],
   "source": [
    "def diffSocialPlot(df, ax, label, color='blue', linestyle='-'):\n",
    "    # Determine if diff_social is 3 or higher\n",
    "    df['diff_social_high'] = (df['diff_social']) >= 3\n",
    "\n",
    "    # Group by age and count how many meet the criteria\n",
    "    group_counts = df.groupby('age')['diff_social_high'].sum()\n",
    "\n",
    "    # Calculate total people in each age group\n",
    "    total_counts = df.groupby('age').size()\n",
    "\n",
    "    # Calculate the percentage\n",
    "    percentages = (group_counts / total_counts) * 100\n",
    "\n",
    "    # Create a DataFrame for plotting\n",
    "    plot_data = pd.DataFrame({\n",
    "        'Age Group': percentages.index,\n",
    "        'Percentage': percentages.values\n",
    "    })\n",
    "\n",
    "    # Calculate moving average for smoothing (e.g., over 3 data points)\n",
    "    plot_data['Moving Avg'] = plot_data['Percentage'].rolling(window=3, min_periods=1).mean()\n",
    "\n",
    "    # Plot using seaborn with optional smoothing on the given axis\n",
    "    sns.lineplot(data=plot_data, x='Age Group', y='Moving Avg', ax=ax, label=f\"Social Life impacted by Mental Health {label}\", color=color, linestyle=linestyle)\n",
    "\n",
    "# Create a single figure and axis for all plots\n",
    "fig, ax = plt.subplots(figsize=(10, 6))\n",
    "\n",
    "# Call diffSocialPlot for each DataFrame and year, using the same axis\n",
    "diffSocialPlot(NSDUH2018df, ax, '2018', 'blue')\n",
    "diffSocialPlot(NSDUH2019df, ax, '2019', 'orange')\n",
    "diffSocialPlot(NSDUH2021df, ax, '2021', 'green')\n",
    "\n",
    "# Set the title and labels, and show the legend\n",
    "sns.set_palette(\"dark\")\n",
    "plt.title('Percentage of People whose Social Life is impacted by their Mental Health by Age Group Across Years')\n",
    "plt.xlabel('Age Group')\n",
    "plt.ylabel('Percentage of People')\n",
    "plt.legend(title='Year')\n",
    "\n",
    "# Show the plot\n",
    "plt.show()"
   ]
  },
  {
   "cell_type": "markdown",
   "metadata": {},
   "source": [
    "# Graph 3: Combining Graphs 1 and 2 to show a Correlation between Social Media Usage and Mental Health affecting Social Activities"
   ]
  },
  {
   "cell_type": "code",
   "execution_count": null,
   "metadata": {},
   "outputs": [],
   "source": [
    "# Create a single figure and axis for all plots\n",
    "fig, ax = plt.subplots(figsize=(10, 6))\n",
    "\n",
    "# Call snsPlot for each DataFrame and year\n",
    "snsPlot(coreTrends2018df, '2018', ax, 'blue')\n",
    "snsPlot(coreTrends2019df, '2019', ax, 'orange')\n",
    "snsPlot(coreTrends2021df, '2021', ax, 'green')\n",
    "\n",
    "# Call diffSocialPlot for each DataFrame and year, using the same axis\n",
    "diffSocialPlot(NSDUH2018df, ax, '2018', 'blue')\n",
    "diffSocialPlot(NSDUH2019df, ax, '2019', 'orange')\n",
    "diffSocialPlot(NSDUH2021df, ax, '2021', 'green')\n",
    "\n",
    "# Set the title and labels, and show the legend\n",
    "sns.set_palette(\"dark\")\n",
    "plt.title('Percentage of People whose Social Life is impacted by Mental Health against Social Media Use')\n",
    "plt.xlabel('Age Group')\n",
    "plt.ylabel('Percentage of People')\n",
    "plt.legend(title='Year')\n",
    "\n",
    "# Show the plot\n",
    "plt.show()"
   ]
  },
  {
   "cell_type": "markdown",
   "metadata": {},
   "source": [
    "# Graph 4 : People by and Age and Feelings of Worthlessness"
   ]
  },
  {
   "cell_type": "code",
   "execution_count": null,
   "metadata": {},
   "outputs": [],
   "source": [
    "def worthlessPlot(df, ax, label, color='blue', linestyle='-'):\n",
    "    # Determine if worse_worthless is 3 or higher\n",
    "    df['worthless_high'] = df['worse_worthless'] >= 3\n",
    "\n",
    "    # Group by age and count how many meet the criteria\n",
    "    group_counts = df.groupby('age')['worthless_high'].sum()\n",
    "\n",
    "    # Calculate total people in each age group\n",
    "    total_counts = df.groupby('age').size()\n",
    "\n",
    "    # Calculate the percentage\n",
    "    percentages = (group_counts / total_counts) * 100\n",
    "\n",
    "    # Create a DataFrame for plotting\n",
    "    plot_data = pd.DataFrame({\n",
    "        'Age Group': percentages.index,\n",
    "        'Percentage': percentages.values\n",
    "    })\n",
    "\n",
    "    # Calculate moving average for smoothing (e.g., over 3 data points)\n",
    "    plot_data['Moving Avg'] = plot_data['Percentage'].rolling(window=3, min_periods=1).mean()\n",
    "\n",
    "    # Plot using seaborn with optional smoothing on the given axis\n",
    "    sns.lineplot(data=plot_data, x='Age Group', y='Moving Avg', ax=ax, label=f\"Feelings of Worthlessness {label}\", color=color, linestyle=linestyle)\n",
    "\n",
    "# Create a single figure and axis for all plots\n",
    "fig, ax = plt.subplots(figsize=(10, 6))\n",
    "\n",
    "# Call snsPlot for each DataFrame and year\n",
    "snsPlot(coreTrends2018df, '2018', ax, 'green')\n",
    "snsPlot(coreTrends2019df, '2019', ax, 'red')\n",
    "snsPlot(coreTrends2021df, '2021', ax, 'blue')\n",
    "\n",
    "# Call diffSocialPlot for each DataFrame and year, using the same axis\n",
    "worthlessPlot(NSDUH2018df, ax, '2018', 'green', '-')\n",
    "worthlessPlot(NSDUH2019df, ax, '2019', 'red', '-')\n",
    "worthlessPlot(NSDUH2021df, ax, '2021', 'blue', '-')\n",
    "\n",
    "# Set the title and labels, and show the legend\n",
    "plt.title('Percentage of People who have had feelings of worthlessness by Age Group Across Years')\n",
    "plt.xlabel('Age Group')\n",
    "plt.ylabel('Percentage of People')\n",
    "plt.legend(title='Year')\n",
    "\n",
    "# Show the plot\n",
    "plt.show()"
   ]
  },
  {
   "cell_type": "markdown",
   "metadata": {},
   "source": [
    "# Graph Alternatives"
   ]
  },
  {
   "cell_type": "markdown",
   "metadata": {},
   "source": [
    "First combining all data sets, with a column which states the year"
   ]
  },
  {
   "cell_type": "code",
   "execution_count": null,
   "metadata": {},
   "outputs": [],
   "source": [
    "coreTrends2018df['year'] = \"2018\"\n",
    "coreTrends2019df['year'] = \"2019\"\n",
    "coreTrends2021df['year'] = \"2021\"\n",
    "\n",
    "coreTrendsAlldf = pd.concat([coreTrends2018df, coreTrends2019df, coreTrends2021df])\n",
    "print(coreTrendsAlldf.head())"
   ]
  },
  {
   "cell_type": "code",
   "execution_count": null,
   "metadata": {},
   "outputs": [],
   "source": [
    "NSDUH2018df['year'] = \"2018\"\n",
    "NSDUH2019df['year'] = \"2019\"\n",
    "NSDUH2021df['year'] = \"2021\"\n",
    "\n",
    "NSDUHAlldf = pd.concat([NSDUH2018df, NSDUH2019df, NSDUH2021df])\n",
    "print(NSDUHAlldf.head())"
   ]
  },
  {
   "cell_type": "markdown",
   "metadata": {},
   "source": [
    "# Graph 1b"
   ]
  },
  {
   "cell_type": "code",
   "execution_count": null,
   "metadata": {},
   "outputs": [],
   "source": [
    "def snsAllPlot(df, window=3):\n",
    "    # Calculating sns_sum only if it is not already calculated in your data\n",
    "    if 'sns_sum' not in df.columns:\n",
    "        sns_columns = df.filter(like='Sns_').columns\n",
    "        sns_columns = sns_columns.drop('Sns_YouTube')\n",
    "        df['sns_sum'] = df[sns_columns].sum(axis=1)\n",
    "\n",
    "    # Grouping by year and age_group\n",
    "    grouped = df.groupby(['year', 'age_group'])\n",
    "\n",
    "    # Calculating the percentage of people with sns_sum >= 5\n",
    "    percentage_df = grouped.apply(lambda x: (x['sns_sum'] >= 5).mean() * 100).reset_index()\n",
    "    percentage_df.columns = ['year', 'age_group', 'percentage']\n",
    "\n",
    "    # Sorting the data to ensure the rolling mean is applied correctly\n",
    "    percentage_df.sort_values(by=['age_group', 'year'], inplace=True)\n",
    "\n",
    "    # Calculating the moving average\n",
    "    percentage_df['smoothed_percentage'] = percentage_df.groupby('age_group')['percentage'].rolling(window=window, min_periods=1).mean().reset_index(level=0, drop=True)\n",
    "\n",
    "    # Plotting using the smoothed data\n",
    "    sns.lineplot(x='year', y='smoothed_percentage', hue='age_group', data=percentage_df)\n",
    "    plt.title('Smoothed Percentage of People with SNS Sum ≥ 5 by Year and Age Group')\n",
    "    plt.xlabel('Year')\n",
    "    plt.ylabel('Smoothed Percentage')\n",
    "    plt.legend(title='Age Group')\n",
    "    plt.show()\n",
    "\n",
    "    \n",
    "snsAllPlot(coreTrendsAlldf)"
   ]
  },
  {
   "cell_type": "markdown",
   "metadata": {},
   "source": [
    "# Graph 2b"
   ]
  },
  {
   "cell_type": "code",
   "execution_count": null,
   "metadata": {},
   "outputs": [],
   "source": [
    "def diffSocialAllPlot(df):\n",
    "    # Define a new column to check if diff_social is 3 or higher\n",
    "    df['diff_social_high'] = df['diff_social'] >= 3\n",
    "\n",
    "    # Group by year and age, calculate total and number meeting criteria\n",
    "    grouped = df.groupby(['year', 'age']).agg(\n",
    "        total=('diff_social_high', 'size'),\n",
    "        high_social_count=('diff_social_high', 'sum')\n",
    "    ).reset_index()\n",
    "\n",
    "    # Calculate percentage\n",
    "    grouped['percentage'] = (grouped['high_social_count'] / grouped['total']) * 100\n",
    "\n",
    "    # Plotting\n",
    "    plt.figure(figsize=(12, 8))\n",
    "    sns.lineplot(data=grouped, x='year', y='percentage', hue='age')\n",
    "    plt.title('Percentage of People with Diff_Social >= 3 by Year and Age Group')\n",
    "    plt.xlabel('Year')\n",
    "    plt.ylabel('Percentage with Diff_Social >= 3')\n",
    "    plt.legend(title='Age Group')\n",
    "\n",
    "    # Show the plot\n",
    "    plt.show()\n",
    "\n",
    "    \n",
    "diffSocialAllPlot(NSDUHAlldf)"
   ]
  },
  {
   "cell_type": "markdown",
   "metadata": {},
   "source": [
    "# Graph 5 : Suicidal Thoughts "
   ]
  },
  {
   "cell_type": "markdown",
   "metadata": {},
   "source": [
    "The goal of this graph is to find a way of portraying the relationship between Suicidal Thoughts and Social Media use"
   ]
  },
  {
   "cell_type": "code",
   "execution_count": null,
   "metadata": {},
   "outputs": [],
   "source": [
    "# Rebuild Fresh Datasets\n",
    "coreTrends2018df = buildCoreTrends2018df()\n",
    "coreTrends2019df = buildCoreTrends2019df()\n",
    "coreTrends2021df = buildCoreTrends2021df()\n",
    "\n",
    "NSDUH2018df = buildNSDUH2018df()\n",
    "NSDUH2019df = buildNSDUH2019df()\n",
    "NSDUH2021df = buildNSDUH2021df()\n",
    "\n",
    "# Merge Datasets\n",
    "coreTrends2018df['year'] = \"2018\"\n",
    "coreTrends2019df['year'] = \"2019\"\n",
    "coreTrends2021df['year'] = \"2021\"\n",
    "\n",
    "NSDUH2018df['year'] = \"2018\"\n",
    "NSDUH2019df['year'] = \"2019\"\n",
    "NSDUH2021df['year'] = \"2021\"\n",
    "\n",
    "NSDUHAlldf = pd.concat([NSDUH2018df, NSDUH2019df, NSDUH2021df])\n",
    "print(NSDUHAlldf.head())\n",
    "\n",
    "coreTrendsAlldf = pd.concat([coreTrends2018df, coreTrends2019df, coreTrends2021df])\n",
    "print(coreTrendsAlldf.head())\n"
   ]
  },
  {
   "cell_type": "code",
   "execution_count": null,
   "metadata": {},
   "outputs": [],
   "source": [
    "# Build Dataset for Suicidal Thoughts\n",
    "suicidalThoughtsdf = NSDUHAlldf.filter(['age', 'year', 'suicidal_think'])\n",
    "\n",
    "# only have rows where they answered yes\n",
    "suicidalThoughtsdf = suicidalThoughtsdf[suicidalThoughtsdf['suicidal_think'] == 1]\n",
    "\n",
    "# drop 65 + cause there are none\n",
    "suicidalThoughtsdf = suicidalThoughtsdf[suicidalThoughtsdf['age'] != '65+']\n",
    "count_data = suicidalThoughtsdf.groupby(['age', 'year']).size().reset_index(name='count')\n",
    "print(count_data)\n",
    "print(suicidalThoughtsdf.head(10))"
   ]
  },
  {
   "cell_type": "markdown",
   "metadata": {},
   "source": [
    "While there is an increase in the 26-34 age group from year to year.\n",
    "The fluctuating values in the other age groups makes it difficult to determine a relationship between years for the other age groups."
   ]
  },
  {
   "cell_type": "code",
   "execution_count": null,
   "metadata": {},
   "outputs": [],
   "source": [
    "# making a sns graph specifically for comparing with suicidal thoughts\n",
    "STsnsdf = coreTrendsAlldf.filter(['age', 'year'])\n",
    "sns_columns = coreTrendsAlldf.filter(like='Sns_').columns\n",
    "STsnsdf['sns_sum'] = coreTrendsAlldf[sns_columns].sum(axis=1)\n",
    "# filter only those in the age group\n",
    "STsnsdf = STsnsdf[STsnsdf['age'] >= 26]\n",
    "STsnsdf = STsnsdf[STsnsdf['age'] <= 34]\n",
    "print(STsnsdf.head(), STsnsdf.count())"
   ]
  },
  {
   "cell_type": "code",
   "execution_count": null,
   "metadata": {},
   "outputs": [],
   "source": [
    "plt.figure(figsize=(10, 6))\n",
    "sns.barplot(data=STsnsdf, x='age', y='sns_sum', hue='year')\n",
    "plt.title('Box Plot of sns_sum vs Age')\n",
    "plt.xlabel('Age')\n",
    "plt.ylabel('sns_sum')\n",
    "plt.show()"
   ]
  },
  {
   "cell_type": "markdown",
   "metadata": {},
   "source": [
    "Comparing the social media usage between the yearas for the 26-34 age group, there doesn't seem to be a consistent pattern in any of it connect it to suicidal thoughts."
   ]
  },
  {
   "cell_type": "code",
   "execution_count": null,
   "metadata": {},
   "outputs": [],
   "source": []
  }
 ],
 "metadata": {
  "kernelspec": {
   "display_name": "Python 3 (ipykernel)",
   "language": "python",
   "name": "python3"
  },
  "language_info": {
   "codemirror_mode": {
    "name": "ipython",
    "version": 3
   },
   "file_extension": ".py",
   "mimetype": "text/x-python",
   "name": "python",
   "nbconvert_exporter": "python",
   "pygments_lexer": "ipython3",
   "version": "3.11.5"
  }
 },
 "nbformat": 4,
 "nbformat_minor": 2
}
