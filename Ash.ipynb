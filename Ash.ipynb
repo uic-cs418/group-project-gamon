{
 "cells": [
  {
   "cell_type": "code",
   "execution_count": 78,
   "metadata": {},
   "outputs": [],
   "source": [
    "import numpy as np\n",
    "import pandas as pd\n",
    "%matplotlib inline\n",
    "import matplotlib.pyplot as plt\n",
    "import seaborn as sns\n",
    "from helper_code import *\n",
    "import plotly.express as px"
   ]
  },
  {
   "cell_type": "code",
   "execution_count": 79,
   "metadata": {},
   "outputs": [],
   "source": [
    "columns_of_interest = ['age', 'educ2', 'web1a', 'web1b', 'web1c', 'sns2a', 'sns2b', 'sns2c']"
   ]
  },
  {
   "cell_type": "code",
   "execution_count": 80,
   "metadata": {},
   "outputs": [],
   "source": [
    "# Load the data\n",
    "data_2018 = pd.read_csv('datasets/Jan-25-Feb-8-2021-Core-Trends-Survey/Jan 25-Feb 8, 2021 - Core Trends Survey - CSV.csv')\n",
    "data_2019 = pd.read_csv('datasets/January 3-10, 2018 - Core Trends Survey/January 3-10, 2018 - Core Trends Survey - CSV.csv')\n",
    "data_2021 = pd.read_csv('datasets/January-8-February-7-2019-Core-Trends-Survey-SPSS/January 8-February 7, 2019 - Core Trends Survey - CSV.csv')"
   ]
  },
  {
   "cell_type": "code",
   "execution_count": 81,
   "metadata": {},
   "outputs": [],
   "source": [
    "# Extract the relevant data\n",
    "data_2018 = data_2018[columns_of_interest]\n",
    "data_2019 = data_2019[columns_of_interest]\n",
    "data_2021 = data_2021[columns_of_interest]"
   ]
  },
  {
   "cell_type": "code",
   "execution_count": 82,
   "metadata": {},
   "outputs": [
    {
     "name": "stdout",
     "output_type": "stream",
     "text": [
      "   educ2 sns2a\n",
      "0      4      \n",
      "1      3      \n",
      "2      4     3\n",
      "3      8      \n",
      "4      8      \n",
      "[ 4  3  8  6  5  7 99  2  1 98]\n",
      "[' ' '3' '2' '1' '4' '5' '8' '9']\n"
     ]
    }
   ],
   "source": [
    "# Combine the data from different years\n",
    "combined_data = pd.concat([data_2018, data_2019, data_2021])\n",
    "print(combined_data[['educ2', 'sns2a']].dropna().head())\n",
    "print(combined_data['educ2'].unique())\n",
    "print(combined_data['sns2a'].unique())"
   ]
  },
  {
   "cell_type": "code",
   "execution_count": 83,
   "metadata": {},
   "outputs": [],
   "source": [
    "# checking for the head to see if there are any Nans\n",
    "\n",
    "# print(combined_data[['educ2', 'sns2a']].isnull().sum())\n",
    "# combined_data['educ2'] = combined_data['educ2'].astype(str)\n",
    "# combined_data['sns2a'] = combined_data['sns2a'].astype(str)"
   ]
  },
  {
   "cell_type": "code",
   "execution_count": 84,
   "metadata": {},
   "outputs": [],
   "source": [
    "# Define age bins and labels\n",
    "age_bins = [18, 24, 34, 44, 54, 64, 74, 84, 94, 104]\n",
    "age_labels = ['18-23', '24-33', '34-43', '44-53', '54-63', '64-73', '74-83', '84-93', '94+']"
   ]
  },
  {
   "cell_type": "code",
   "execution_count": 85,
   "metadata": {},
   "outputs": [],
   "source": [
    "combined_data['Age Group'] = pd.cut(combined_data['age'], bins=age_bins, labels=age_labels)"
   ]
  },
  {
   "cell_type": "code",
   "execution_count": 86,
   "metadata": {},
   "outputs": [
    {
     "data": {
      "image/png": "[encoded data removed]",
      "text/plain": [
       "<Figure size 1000x600 with 1 Axes>"
      ]
     },
     "metadata": {},
     "output_type": "display_data"
    }
   ],
   "source": [
    "# Visualization: Age Group Technology Engagement\n",
    "plt.figure(figsize=(10, 6))\n",
    "sns.countplot(x='Age Group', hue='web1a', data=combined_data, palette='viridis')\n",
    "plt.title('Internet Activity by Age Group')\n",
    "plt.xlabel('Age Group')\n",
    "plt.ylabel('Count')\n",
    "plt.legend(title='Internet Use', bbox_to_anchor=(1.05, 1), loc='upper left')\n",
    "plt.tight_layout()\n",
    "plt.show()"
   ]
  },
  {
   "cell_type": "code",
   "execution_count": 98,
   "metadata": {},
   "outputs": [
    {
     "name": "stdout",
     "output_type": "stream",
     "text": [
      "Unique values in 'educ2' before mapping: [4 3 5 2 1]\n",
      "Mapped education levels: [\"Bachelor's degree\" 'Some college' 'Post-graduate' 'High school graduate'\n",
      " 'Less than HS diploma']\n",
      "Data after filtering: Education Level\n",
      "Some college            1111\n",
      "Bachelor's degree        779\n",
      "Post-graduate            524\n",
      "High school graduate     227\n",
      "Less than HS diploma     121\n",
      "Name: count, dtype: int64\n",
      "Mapped social media usage: [nan]\n",
      "Social media usage scores: [nan]\n",
      "NaN counts after mapping: age                            0\n",
      "educ2                          0\n",
      "web1a                          0\n",
      "web1b                          0\n",
      "web1c                          0\n",
      "sns2a                          0\n",
      "sns2b                          0\n",
      "sns2c                          0\n",
      "Age Group                     81\n",
      "Education Level                0\n",
      "Social Media Usage          2762\n",
      "Social Media Usage Score    2762\n",
      "dtype: int64\n",
      "Average usage by education level:         Education Level  Social Media Usage Score\n",
      "0     Bachelor's degree                       NaN\n",
      "1  High school graduate                       NaN\n",
      "2  Less than HS diploma                       NaN\n",
      "3         Post-graduate                       NaN\n",
      "4          Some college                       NaN\n",
      "Unique values in 'sns2a': [' ' '3' '2' '4' '1' '5' '8' '9']\n",
      "Mapped social media usage with NaNs: [nan]\n",
      "NaNs in 'Social Media Usage': 2762\n",
      "Average usage by education level: Empty DataFrame\n",
      "Columns: [Education Level, Social Media Usage Score]\n",
      "Index: []\n",
      "No data to plot.\n"
     ]
    }
   ],
   "source": [
    "# # Visualization: Education Level and Technology Engagement\n",
    "# plt.figure(figsize=(10, 6))\n",
    "# sns.countplot(x='educ2', hue='sns2a', data=combined_data, palette='viridis')\n",
    "# plt.title('Social Media Usage by Education Level')\n",
    "# plt.xlabel('Education Level')\n",
    "# plt.ylabel('Count')\n",
    "# plt.legend(title='Social Media Use', bbox_to_anchor=(1.05, 1), loc='upper left')\n",
    "# plt.tight_layout()\n",
    "# plt.show()\n",
    "\n",
    "education_level_mapping = {\n",
    "    1: 'Less than HS diploma',\n",
    "    2: 'High school graduate',\n",
    "    3: 'Some college',\n",
    "    4: 'Bachelor\\'s degree',\n",
    "    5: 'Post-graduate'\n",
    "}\n",
    "combined_data['Education Level'] = combined_data['educ2'].map(education_level_mapping)\n",
    "\n",
    "# Mapping for social media usage categories to scores\n",
    "social_media_usage_mapping = {\n",
    "    1: 'Never',\n",
    "    2: 'Rarely',\n",
    "    3: 'Occasionally',\n",
    "    4: 'Frequently',\n",
    "    5: 'Always'\n",
    "}\n",
    "social_media_usage_scores = {\n",
    "    'Never': 1,\n",
    "    'Rarely': 2,\n",
    "    'Occasionally': 3,\n",
    "    'Frequently': 4,\n",
    "    'Always': 5\n",
    "}\n",
    "# combined_data['Social Media Usage'] = combined_data['sns2a'].map(social_media_usage_mapping)\n",
    "# combined_data['Social Media Usage Score'] = combined_data['Social Media Usage'].map(social_media_usage_scores)\n",
    "\n",
    "# Calculate the average social media usage score by education level\n",
    "# average_usage_by_education = combined_data.groupby('Education Level')['Social Media Usage Score'].mean().reset_index()\n",
    "\n",
    "# Create a bar plot with the average social media usage score by education level\n",
    "# plt.figure(figsize=(10, 6))\n",
    "# sns.countplot(x='educ2', data=combined_data)\n",
    "# plt.title('Check Data Rendering')\n",
    "# plt.xlabel('Education Level')\n",
    "# plt.show()\n",
    "\n",
    "# Ensure the keys of the mapping match the data type in 'educ2'\n",
    "print(\"Unique values in 'educ2' before mapping:\", combined_data['educ2'].unique())\n",
    "combined_data['Education Level'] = combined_data['educ2'].map(education_level_mapping)\n",
    "print(\"Mapped education levels:\", combined_data['Education Level'].unique())\n",
    "\n",
    "# Exclude placeholder or outlier values if they exist and are not meaningful\n",
    "filtered_combined_data = combined_data[combined_data['educ2'].isin(education_level_mapping.keys())]\n",
    "print(\"Data after filtering:\", filtered_combined_data['Education Level'].value_counts())\n",
    "\n",
    "# Apply the social media usage mapping\n",
    "combined_data['Social Media Usage'] = combined_data['sns2a'].map(social_media_usage_mapping)\n",
    "print(\"Mapped social media usage:\", combined_data['Social Media Usage'].unique())\n",
    "\n",
    "# Convert social media usage to numerical scores\n",
    "combined_data['Social Media Usage Score'] = combined_data['Social Media Usage'].map(social_media_usage_scores)\n",
    "print(\"Social media usage scores:\", combined_data['Social Media Usage Score'].unique())\n",
    "\n",
    "# Check if any NaN values are present after mapping\n",
    "print(\"NaN counts after mapping:\", combined_data.isnull().sum())\n",
    "\n",
    "# Calculate the average social media usage score by education level\n",
    "average_usage_by_education = filtered_combined_data.groupby('Education Level')['Social Media Usage Score'].mean().reset_index()\n",
    "print(\"Average usage by education level:\", average_usage_by_education)\n",
    "\n",
    "\n",
    "# Check the unique values in the 'sns2a' column\n",
    "print(\"Unique values in 'sns2a':\", combined_data['sns2a'].unique())\n",
    "\n",
    "# Assuming the mappings are defined as before\n",
    "# Apply the mapping for social media usage\n",
    "combined_data['Social Media Usage'] = combined_data['sns2a'].map(social_media_usage_mapping)\n",
    "\n",
    "# Check if there are any NaNs after the mapping and the unique values of 'Social Media Usage'\n",
    "print(\"Mapped social media usage with NaNs:\", combined_data['Social Media Usage'].unique())\n",
    "print(\"NaNs in 'Social Media Usage':\", combined_data['Social Media Usage'].isna().sum())\n",
    "\n",
    "# Apply the scores mapping only to the non-NaN values\n",
    "combined_data['Social Media Usage Score'] = combined_data['Social Media Usage'].dropna().map(social_media_usage_scores)\n",
    "\n",
    "# Recalculate the average social media usage score by education level, excluding NaN scores\n",
    "average_usage_by_education = (\n",
    "    combined_data.dropna(subset=['Social Media Usage Score'])\n",
    "    .groupby('Education Level')['Social Media Usage Score']\n",
    "    .mean()\n",
    "    .reset_index()\n",
    ")\n",
    "\n",
    "# Verify that average_usage_by_education has data\n",
    "print(\"Average usage by education level:\", average_usage_by_education)\n",
    "\n",
    "# If average_usage_by_education is not empty, plot the graph\n",
    "if not average_usage_by_education.empty:\n",
    "    plt.figure(figsize=(10, 6))\n",
    "    sns.barplot(x='Education Level', y='Social Media Usage Score', data=average_usage_by_education, palette='viridis')\n",
    "    plt.title('Average Social Media Usage by Education Level')\n",
    "    plt.xlabel('Education Level')\n",
    "    plt.ylabel('Average Social Media Usage Score')\n",
    "    plt.xticks(rotation=45)\n",
    "    plt.tight_layout()\n",
    "    plt.show()\n",
    "else:\n",
    "    print(\"No data to plot.\")"
   ]
  }
 ],
 "metadata": {
  "kernelspec": {
   "display_name": "cs418env",
   "language": "python",
   "name": "python3"
  },
  "language_info": {
   "codemirror_mode": {
    "name": "ipython",
    "version": 3
   },
   "file_extension": ".py",
   "mimetype": "text/x-python",
   "name": "python",
   "nbconvert_exporter": "python",
   "pygments_lexer": "ipython3",
   "version": "3.11.5"
  }
 },
 "nbformat": 4,
 "nbformat_minor": 2
}
