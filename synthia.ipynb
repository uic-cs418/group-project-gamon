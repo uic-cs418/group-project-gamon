{
 "cells": [
  {
   "cell_type": "markdown",
   "metadata": {},
   "source": [
    "# Synthia's notebook to experiment with the data "
   ]
  },
  {
   "cell_type": "code",
   "execution_count": 1,
   "metadata": {},
   "outputs": [],
   "source": [
    "import numpy as np\n",
    "import pandas as pd\n",
    "%matplotlib inline\n",
    "import matplotlib.pyplot as plt\n",
    "import seaborn as sns\n",
    "from helper_code import *\n",
    "import plotly.express as px"
   ]
  },
  {
   "cell_type": "markdown",
   "metadata": {},
   "source": [
    "## Load Datasets"
   ]
  },
  {
   "cell_type": "code",
   "execution_count": 2,
   "metadata": {},
   "outputs": [
    {
     "name": "stderr",
     "output_type": "stream",
     "text": [
      "/Users/synth/Documents/UNI/418/group-project-gamon/helper_code.py:17: DtypeWarning: Columns (2799) have mixed types. Specify dtype option on import or set low_memory=False.\n",
      "  data = pd.read_table(path)\n",
      "/Users/synth/Documents/UNI/418/group-project-gamon/helper_code.py:17: DtypeWarning: Columns (2575) have mixed types. Specify dtype option on import or set low_memory=False.\n",
      "  data = pd.read_table(path)\n",
      "/Users/synth/Documents/UNI/418/group-project-gamon/helper_code.py:17: DtypeWarning: Columns (2525) have mixed types. Specify dtype option on import or set low_memory=False.\n",
      "  data = pd.read_table(path)\n"
     ]
    }
   ],
   "source": [
    "NSDUH2021 = readInData(\"datasets/National Survey on Drug Use and Health 2021/NSDUH_2021_Tab.txt\", \"txt\")\n",
    "NSDUH2019 = readInData(\"datasets/National Survey on Drug Use and Health 2019/NSDUH_2019_Tab.txt\", \"txt\")\n",
    "NSDUH2018 = readInData(\"datasets/National Survey on Drug Use and Health 2018/NSDUH_2018_Tab.tsv\", \"tsv\")\n"
   ]
  },
  {
   "cell_type": "code",
   "execution_count": 3,
   "metadata": {},
   "outputs": [],
   "source": [
    "CoreTrends2021 = readInData(\"datasets/Jan-25-Feb-8-2021-Core-Trends-Survey/Jan 25-Feb 8, 2021 - Core Trends Survey - CSV.csv\", \"csv\")\n",
    "CoreTrends2019 = readInData(\"datasets/January-8-February-7-2019-Core-Trends-Survey-SPSS/January 8-February 7, 2019 - Core Trends Survey - CSV.csv\", \"csv\")\n",
    "CoreTrends2018 = readInData(\"datasets/January 3-10, 2018 - Core Trends Survey/January 3-10, 2018 - Core Trends Survey - CSV.csv\", \"csv\")"
   ]
  },
  {
   "cell_type": "markdown",
   "metadata": {},
   "source": [
    "## Clean up data"
   ]
  },
  {
   "cell_type": "markdown",
   "metadata": {},
   "source": [
    "\n",
    "###ADMT16 - ADMT21  : How many visits to various types of outpatient facilities for mental health\n",
    "\n",
    "<br>AGE3: age (intervals of 2, e.g. 1 = age 12 or 13, up to age 65)\n",
    "<br>IRSEX: gender 1=male, 2=female\n",
    "\n",
    "<br>ADMT01 : AUINPYR : stayed in hospital for mental health\n",
    "<br>ADMT25/ADMTREF25 : AURXYR : taken any medication for mental health\n",
    "\n",
    "<br>YE09 : YEATNDYR : HAs attended some sort of school\n",
    "<br>YE10 : YESCHFLT : how much they like going to school (1-4, 4=hated it)\n",
    "<br>YE23b : YEPRBSLV : participated in self-esteem group\n",
    "\n",
    "<br>NERVE30 : DSTNRV30 : How often felt nervous (1-5, 5=never) in past 30 days\n",
    "<br>HOPE30 : DSTHOP30 : How often feel hopeless\n",
    "<br>NOCHR30 : DSTCHR30 : How often felt depressed\n",
    "<br>DOWN30 : DSTNGD30 : How often feeling down/worthless\n",
    "<br>WORST30 : DSTWORST : In past year has there been a worse month than current (1-2, 2=No)\n",
    "<br>DSNERV1 : DSTNRV12 : in WORST30 month, how often felt nervous\n",
    "<br>DSHOPE : DSTHOP12 : In WORST30 month, how often felt hopeless\n",
    "<br>DSNOCHR : DSTCHR12 : in WORST30 month, how often felt depressed\n",
    "<br>DSDOWN : DSTNGD12 : in WORST30 month, how often felt worthless\n",
    "\n",
    "<br>LICONCEN : IMPCONCN : Difficulty concentrating in their worst month (1-4, 4= severe)\n",
    "<br>LIGOOUT1 : IMPGOUT : Difficulty leaving house\n",
    "<br>LISTRAN1 : IMPPEOP : Difficulty dealing with less known people\n",
    "<br>LISOC1 : IMPSOC : Difficulty participating in social activites\n",
    "<br>LISOC2 : IMPSOCM : Did mental health problems keep from participating socially\n",
    "\n",
    "<br>SUI01 : SUICTHNK : Think about suicide in past year\n",
    "<br>SUI02 : SUIPLANYR :  Plans for suicide\n",
    "\n",
    "<br>ASC21 : ADDPREV : Long periods of feeling sad\n"
   ]
  },
  {
   "cell_type": "code",
   "execution_count": 4,
   "metadata": {},
   "outputs": [],
   "source": [
    "cols = [\"AGE3\",\"IRSEX\",\"AUINPYR\",\"AURXYR\",\"YEATNDYR\",\"YESCHFLT\",\"YEPRBSLV\",\"DSTNRV30\",\"DSTHOP30\",\"DSTCHR30\",\"DSTNGD30\",\"DSTWORST\",\"DSTNRV12\",\"DSTHOP12\",\"DSTCHR12\",\"DSTNGD12\",\"IMPCONCN\",\"IMPGOUT\",\"IMPPEOP\",\"IMPSOC\",\"IMPSOCM\",\"SUICTHNK\",\"SUIPLANYR\",\"ADDPREV\"]\n",
    "cols1819 = [\"AGE2\", \"IRSEX\", \"AUINPYR\",\"AURXYR\",\"YEATNDYR\",\"YESCHFLT\",\"YEPRBSLV\",\"DSTNRV30\",\"DSTHOP30\",\"DSTCHR30\",\"DSTNGD30\",\"DSTWORST\",\"DSTNRV12\",\"DSTHOP12\",\"DSTCHR12\",\"DSTNGD12\",\"IMPCONCN\",\"IMPGOUT\",\"IMPPEOP\",\"IMPSOC\",\"IMPSOCM\",\"SUICTHNK\",\"ADDPREV\"]\n",
    "\n",
    "NSDUH2019_wantedCols = getWantedColumns(NSDUH2019, cols1819)\n",
    "NSDUH2018_wantedCols = getWantedColumns(NSDUH2018, cols1819)\n",
    "NSDUH2021_wantedCols = getWantedColumns(NSDUH2021, cols)"
   ]
  },
  {
   "cell_type": "markdown",
   "metadata": {},
   "source": [
    "Core trends variables:\n",
    "\n",
    "web1a    -\tTwitter\n",
    "web1b    -\tInstagram\n",
    "web1c    -\tFacebook \n",
    "web1d    -\tSnapchat\n",
    "web1e    -\tYouTube\n",
    "\n",
    "How often use social media, 1-5, 5=less often\n",
    "\n",
    "sns2a    -\tTwitter\n",
    "sns2b    -\tInstagram\n",
    "sns2c    -\tFacebook \n",
    "sns2d    -\tSnapchat\n",
    "sns2e    -\tYouTube\n",
    "\n",
    "gender  - gender\n",
    "age     - age\n",
    "\n"
   ]
  },
  {
   "cell_type": "code",
   "execution_count": 5,
   "metadata": {},
   "outputs": [],
   "source": [
    "CoreTrends2021Cols = [\"web1a\", \"web1b\", \"web1c\", \"web1d\", \"web1e\",\"sns2a\", \"sns2b\", \"sns2c\", \"sns2d\", \"sns2e\",\"gender\", \"age\"]\n",
    "CoreTrends2019Cols = [\"web1a\", \"web1b\", \"web1c\", \"web1d\", \"web1e\",\"sns2a\", \"sns2b\", \"sns2c\", \"sns2d\", \"sns2e\",\"sex\", \"age\"]\n",
    "CoreTrends2018Cols = [\"web1a\", \"web1b\", \"web1c\", \"web1d\", \"web1e\",\"sns2a\", \"sns2b\", \"sns2c\", \"sns2d\", \"sns2e\",\"sex\", \"age\"]\n",
    "\n",
    "CoreTrends2021_wantedCols = getWantedColumns(CoreTrends2021, CoreTrends2021Cols)\n",
    "CoreTrends2019_wantedCols = getWantedColumns(CoreTrends2019, CoreTrends2019Cols)\n",
    "CoreTrends2018_wantedCols = getWantedColumns(CoreTrends2018, CoreTrends2018Cols)"
   ]
  },
  {
   "cell_type": "code",
   "execution_count": 6,
   "metadata": {},
   "outputs": [],
   "source": [
    "# CoreTrends2018_long = cleanUpCoreTrends(CoreTrends2018_wantedCols)\n",
    "# CoreTrends2018_wantedCols = CoreTrends2018_wantedCols.drop(columns=['sns2a'])\n",
    "id = ['age']\n",
    "values = [\"web1a\", \"web1b\", \"web1c\", \"web1d\", \"web1e\"]\n",
    "CoreTrends2018_long = cleanUpCoreTrends(CoreTrends2018_wantedCols, id, values, 2018, False)\n",
    "CoreTrends2019_long = cleanUpCoreTrends(CoreTrends2019_wantedCols, id, values, 2019, False)\n",
    "CoreTrends2021_long = cleanUpCoreTrends(CoreTrends2021_wantedCols, id, values, 2021, False)"
   ]
  },
  {
   "cell_type": "code",
   "execution_count": 7,
   "metadata": {},
   "outputs": [],
   "source": [
    "# SMUse_sum_CoreTrends2018 = CoreTrends2018_long.groupby(['age']).agg(count=('value', 'count'))\n",
    "# SMUse_sum_CoreTrends2019 = CoreTrends2019_long.groupby(['age']).agg(count=('value', 'count'))\n",
    "# SMUse_sum_CoreTrends2021 = CoreTrends2021_long.groupby(['age']).agg(count=('value', 'count'))\n",
    "totalcount_CoreTrends2018 = CoreTrends2018_long.groupby(['age']).agg(count=('value', 'count'))\n",
    "totalcount_CoreTrends2019 = CoreTrends2019_long.groupby(['age']).agg(count=('value', 'count'))\n",
    "totalcount_CoreTrends2021 = CoreTrends2021_long.groupby(['age']).agg(count=('value', 'count'))\n"
   ]
  },
  {
   "cell_type": "code",
   "execution_count": 8,
   "metadata": {},
   "outputs": [],
   "source": [
    "filtered2018 = CoreTrends2018_long[CoreTrends2018_long['value'] == '1']\n",
    "filtered2019 = CoreTrends2019_long[CoreTrends2019_long['value'] == 1]\n",
    "filtered2021 = CoreTrends2021_long[CoreTrends2021_long['value'] == 1]\n",
    "\n",
    "\n",
    "SMUse_sum_CoreTrends2018 = filtered2018.groupby(['age']).agg(count=('value', 'count'))\n",
    "SMUse_sum_CoreTrends2019 = filtered2019.groupby(['age']).agg(count=('value', 'count'))\n",
    "SMUse_sum_CoreTrends2021 = filtered2021.groupby(['age']).agg(count=('value', 'count'))\n",
    "\n"
   ]
  },
  {
   "cell_type": "code",
   "execution_count": 9,
   "metadata": {},
   "outputs": [
    {
     "data": {
      "text/html": [
       "<div>\n",
       "<style scoped>\n",
       "    .dataframe tbody tr th:only-of-type {\n",
       "        vertical-align: middle;\n",
       "    }\n",
       "\n",
       "    .dataframe tbody tr th {\n",
       "        vertical-align: top;\n",
       "    }\n",
       "\n",
       "    .dataframe thead th {\n",
       "        text-align: right;\n",
       "    }\n",
       "</style>\n",
       "<table border=\"1\" class=\"dataframe\">\n",
       "  <thead>\n",
       "    <tr style=\"text-align: right;\">\n",
       "      <th></th>\n",
       "      <th>count</th>\n",
       "    </tr>\n",
       "    <tr>\n",
       "      <th>age</th>\n",
       "      <th></th>\n",
       "    </tr>\n",
       "  </thead>\n",
       "  <tbody>\n",
       "    <tr>\n",
       "      <th>18-25</th>\n",
       "      <td>1280</td>\n",
       "    </tr>\n",
       "    <tr>\n",
       "      <th>26-34</th>\n",
       "      <td>1305</td>\n",
       "    </tr>\n",
       "    <tr>\n",
       "      <th>35-49</th>\n",
       "      <td>2055</td>\n",
       "    </tr>\n",
       "    <tr>\n",
       "      <th>50-64</th>\n",
       "      <td>2705</td>\n",
       "    </tr>\n",
       "    <tr>\n",
       "      <th>65+</th>\n",
       "      <td>2420</td>\n",
       "    </tr>\n",
       "  </tbody>\n",
       "</table>\n",
       "</div>"
      ],
      "text/plain": [
       "       count\n",
       "age         \n",
       "18-25   1280\n",
       "26-34   1305\n",
       "35-49   2055\n",
       "50-64   2705\n",
       "65+     2420"
      ]
     },
     "execution_count": 9,
     "metadata": {},
     "output_type": "execute_result"
    }
   ],
   "source": [
    "totalcount_CoreTrends2018"
   ]
  },
  {
   "cell_type": "code",
   "execution_count": 10,
   "metadata": {},
   "outputs": [],
   "source": [
    "perc_CoreTrends2018 = pd.merge(totalcount_CoreTrends2018, SMUse_sum_CoreTrends2018, left_on='age', right_index=True, suffixes=('_total', '_uses'))\n",
    "perc_CoreTrends2018['percentage'] = (perc_CoreTrends2018['count_uses'] / perc_CoreTrends2018['count_total']) * 100\n",
    "\n",
    "perc_CoreTrends2019 = pd.merge(totalcount_CoreTrends2019, SMUse_sum_CoreTrends2019, left_on='age', right_index=True, suffixes=('_total', '_uses'))\n",
    "perc_CoreTrends2019['percentage'] = (perc_CoreTrends2019['count_uses'] / perc_CoreTrends2019['count_total']) * 100\n",
    "\n",
    "perc_CoreTrends2021 = pd.merge(totalcount_CoreTrends2021, SMUse_sum_CoreTrends2021, left_on='age', right_index=True, suffixes=('_total', '_uses'))\n",
    "perc_CoreTrends2021['percentage'] = (perc_CoreTrends2021['count_uses'] / perc_CoreTrends2021['count_total']) * 100"
   ]
  },
  {
   "cell_type": "code",
   "execution_count": 11,
   "metadata": {},
   "outputs": [
    {
     "data": {
      "text/html": [
       "<div>\n",
       "<style scoped>\n",
       "    .dataframe tbody tr th:only-of-type {\n",
       "        vertical-align: middle;\n",
       "    }\n",
       "\n",
       "    .dataframe tbody tr th {\n",
       "        vertical-align: top;\n",
       "    }\n",
       "\n",
       "    .dataframe thead th {\n",
       "        text-align: right;\n",
       "    }\n",
       "</style>\n",
       "<table border=\"1\" class=\"dataframe\">\n",
       "  <thead>\n",
       "    <tr style=\"text-align: right;\">\n",
       "      <th></th>\n",
       "      <th>count_total</th>\n",
       "      <th>count_uses</th>\n",
       "      <th>percentage</th>\n",
       "    </tr>\n",
       "    <tr>\n",
       "      <th>age</th>\n",
       "      <th></th>\n",
       "      <th></th>\n",
       "      <th></th>\n",
       "    </tr>\n",
       "  </thead>\n",
       "  <tbody>\n",
       "    <tr>\n",
       "      <th>18-25</th>\n",
       "      <td>865</td>\n",
       "      <td>599</td>\n",
       "      <td>69.248555</td>\n",
       "    </tr>\n",
       "    <tr>\n",
       "      <th>26-34</th>\n",
       "      <td>875</td>\n",
       "      <td>515</td>\n",
       "      <td>58.857143</td>\n",
       "    </tr>\n",
       "    <tr>\n",
       "      <th>35-49</th>\n",
       "      <td>1575</td>\n",
       "      <td>821</td>\n",
       "      <td>52.126984</td>\n",
       "    </tr>\n",
       "    <tr>\n",
       "      <th>50-64</th>\n",
       "      <td>2015</td>\n",
       "      <td>848</td>\n",
       "      <td>42.084367</td>\n",
       "    </tr>\n",
       "    <tr>\n",
       "      <th>65+</th>\n",
       "      <td>1905</td>\n",
       "      <td>505</td>\n",
       "      <td>26.509186</td>\n",
       "    </tr>\n",
       "  </tbody>\n",
       "</table>\n",
       "</div>"
      ],
      "text/plain": [
       "       count_total  count_uses  percentage\n",
       "age                                       \n",
       "18-25          865         599   69.248555\n",
       "26-34          875         515   58.857143\n",
       "35-49         1575         821   52.126984\n",
       "50-64         2015         848   42.084367\n",
       "65+           1905         505   26.509186"
      ]
     },
     "execution_count": 11,
     "metadata": {},
     "output_type": "execute_result"
    }
   ],
   "source": [
    "perc_CoreTrends2021"
   ]
  },
  {
   "cell_type": "code",
   "execution_count": 12,
   "metadata": {},
   "outputs": [],
   "source": [
    "SMUse_sum_CoreTrends2018 = perc_CoreTrends2018.reset_index()\n",
    "SMUse_sum_CoreTrends2019 = perc_CoreTrends2019.reset_index()\n",
    "SMUse_sum_CoreTrends2021 = perc_CoreTrends2021.reset_index()\n",
    "\n",
    "SMUse_sum_CoreTrends2018['dataset'] = '2018 - Uses Social Media'\n",
    "SMUse_sum_CoreTrends2019['dataset'] = '2019 - Uses Social Media'\n",
    "SMUse_sum_CoreTrends2021['dataset'] = '2021 - Uses Social Media'\n",
    "\n",
    "CoreTrends_SMUseSum_concat = pd.concat([SMUse_sum_CoreTrends2018,SMUse_sum_CoreTrends2019, SMUse_sum_CoreTrends2021])"
   ]
  },
  {
   "cell_type": "code",
   "execution_count": 13,
   "metadata": {},
   "outputs": [
    {
     "data": {
      "text/html": [
       "<div>\n",
       "<style scoped>\n",
       "    .dataframe tbody tr th:only-of-type {\n",
       "        vertical-align: middle;\n",
       "    }\n",
       "\n",
       "    .dataframe tbody tr th {\n",
       "        vertical-align: top;\n",
       "    }\n",
       "\n",
       "    .dataframe thead th {\n",
       "        text-align: right;\n",
       "    }\n",
       "</style>\n",
       "<table border=\"1\" class=\"dataframe\">\n",
       "  <thead>\n",
       "    <tr style=\"text-align: right;\">\n",
       "      <th></th>\n",
       "      <th>age</th>\n",
       "      <th>count_total</th>\n",
       "      <th>count_uses</th>\n",
       "      <th>percentage</th>\n",
       "      <th>dataset</th>\n",
       "    </tr>\n",
       "  </thead>\n",
       "  <tbody>\n",
       "    <tr>\n",
       "      <th>0</th>\n",
       "      <td>18-25</td>\n",
       "      <td>1280</td>\n",
       "      <td>909</td>\n",
       "      <td>71.015625</td>\n",
       "      <td>2018 - Uses Social Media</td>\n",
       "    </tr>\n",
       "    <tr>\n",
       "      <th>1</th>\n",
       "      <td>26-34</td>\n",
       "      <td>1305</td>\n",
       "      <td>745</td>\n",
       "      <td>57.088123</td>\n",
       "      <td>2018 - Uses Social Media</td>\n",
       "    </tr>\n",
       "    <tr>\n",
       "      <th>2</th>\n",
       "      <td>35-49</td>\n",
       "      <td>2055</td>\n",
       "      <td>975</td>\n",
       "      <td>47.445255</td>\n",
       "      <td>2018 - Uses Social Media</td>\n",
       "    </tr>\n",
       "    <tr>\n",
       "      <th>3</th>\n",
       "      <td>50-64</td>\n",
       "      <td>2705</td>\n",
       "      <td>1044</td>\n",
       "      <td>38.595194</td>\n",
       "      <td>2018 - Uses Social Media</td>\n",
       "    </tr>\n",
       "    <tr>\n",
       "      <th>4</th>\n",
       "      <td>65+</td>\n",
       "      <td>2420</td>\n",
       "      <td>564</td>\n",
       "      <td>23.305785</td>\n",
       "      <td>2018 - Uses Social Media</td>\n",
       "    </tr>\n",
       "    <tr>\n",
       "      <th>0</th>\n",
       "      <td>18-25</td>\n",
       "      <td>895</td>\n",
       "      <td>625</td>\n",
       "      <td>69.832402</td>\n",
       "      <td>2019 - Uses Social Media</td>\n",
       "    </tr>\n",
       "    <tr>\n",
       "      <th>1</th>\n",
       "      <td>26-34</td>\n",
       "      <td>920</td>\n",
       "      <td>518</td>\n",
       "      <td>56.304348</td>\n",
       "      <td>2019 - Uses Social Media</td>\n",
       "    </tr>\n",
       "    <tr>\n",
       "      <th>2</th>\n",
       "      <td>35-49</td>\n",
       "      <td>1560</td>\n",
       "      <td>776</td>\n",
       "      <td>49.743590</td>\n",
       "      <td>2019 - Uses Social Media</td>\n",
       "    </tr>\n",
       "    <tr>\n",
       "      <th>3</th>\n",
       "      <td>50-64</td>\n",
       "      <td>2100</td>\n",
       "      <td>777</td>\n",
       "      <td>37.000000</td>\n",
       "      <td>2019 - Uses Social Media</td>\n",
       "    </tr>\n",
       "    <tr>\n",
       "      <th>4</th>\n",
       "      <td>65+</td>\n",
       "      <td>1755</td>\n",
       "      <td>403</td>\n",
       "      <td>22.962963</td>\n",
       "      <td>2019 - Uses Social Media</td>\n",
       "    </tr>\n",
       "    <tr>\n",
       "      <th>0</th>\n",
       "      <td>18-25</td>\n",
       "      <td>865</td>\n",
       "      <td>599</td>\n",
       "      <td>69.248555</td>\n",
       "      <td>2021 - Uses Social Media</td>\n",
       "    </tr>\n",
       "    <tr>\n",
       "      <th>1</th>\n",
       "      <td>26-34</td>\n",
       "      <td>875</td>\n",
       "      <td>515</td>\n",
       "      <td>58.857143</td>\n",
       "      <td>2021 - Uses Social Media</td>\n",
       "    </tr>\n",
       "    <tr>\n",
       "      <th>2</th>\n",
       "      <td>35-49</td>\n",
       "      <td>1575</td>\n",
       "      <td>821</td>\n",
       "      <td>52.126984</td>\n",
       "      <td>2021 - Uses Social Media</td>\n",
       "    </tr>\n",
       "    <tr>\n",
       "      <th>3</th>\n",
       "      <td>50-64</td>\n",
       "      <td>2015</td>\n",
       "      <td>848</td>\n",
       "      <td>42.084367</td>\n",
       "      <td>2021 - Uses Social Media</td>\n",
       "    </tr>\n",
       "    <tr>\n",
       "      <th>4</th>\n",
       "      <td>65+</td>\n",
       "      <td>1905</td>\n",
       "      <td>505</td>\n",
       "      <td>26.509186</td>\n",
       "      <td>2021 - Uses Social Media</td>\n",
       "    </tr>\n",
       "  </tbody>\n",
       "</table>\n",
       "</div>"
      ],
      "text/plain": [
       "     age  count_total  count_uses  percentage                   dataset\n",
       "0  18-25         1280         909   71.015625  2018 - Uses Social Media\n",
       "1  26-34         1305         745   57.088123  2018 - Uses Social Media\n",
       "2  35-49         2055         975   47.445255  2018 - Uses Social Media\n",
       "3  50-64         2705        1044   38.595194  2018 - Uses Social Media\n",
       "4    65+         2420         564   23.305785  2018 - Uses Social Media\n",
       "0  18-25          895         625   69.832402  2019 - Uses Social Media\n",
       "1  26-34          920         518   56.304348  2019 - Uses Social Media\n",
       "2  35-49         1560         776   49.743590  2019 - Uses Social Media\n",
       "3  50-64         2100         777   37.000000  2019 - Uses Social Media\n",
       "4    65+         1755         403   22.962963  2019 - Uses Social Media\n",
       "0  18-25          865         599   69.248555  2021 - Uses Social Media\n",
       "1  26-34          875         515   58.857143  2021 - Uses Social Media\n",
       "2  35-49         1575         821   52.126984  2021 - Uses Social Media\n",
       "3  50-64         2015         848   42.084367  2021 - Uses Social Media\n",
       "4    65+         1905         505   26.509186  2021 - Uses Social Media"
      ]
     },
     "execution_count": 13,
     "metadata": {},
     "output_type": "execute_result"
    }
   ],
   "source": [
    "CoreTrends_SMUseSum_concat"
   ]
  },
  {
   "cell_type": "code",
   "execution_count": 14,
   "metadata": {},
   "outputs": [
    {
     "data": {
      "text/plain": [
       "<Axes: xlabel='age', ylabel='percentage'>"
      ]
     },
     "execution_count": 14,
     "metadata": {},
     "output_type": "execute_result"
    },
    {
     "data": {
      "image/png": "[encoded data removed]",
      "text/plain": [
       "<Figure size 640x480 with 1 Axes>"
      ]
     },
     "metadata": {},
     "output_type": "display_data"
    }
   ],
   "source": [
    "sns.barplot(data=CoreTrends_SMUseSum_concat, x='age', y='percentage', hue='dataset' ,palette='viridis')\n"
   ]
  },
  {
   "cell_type": "code",
   "execution_count": 15,
   "metadata": {},
   "outputs": [],
   "source": [
    "id=['AGE2']\n",
    "id2=['AGE3']\n",
    "# values = ['IRSEX', 'AUINPYR', 'AURXYR', 'YEATNDYR', 'YESCHFLT',\n",
    "#             'YEPRBSLV', 'DSTNRV30', 'DSTHOP30', 'DSTCHR30', 'DSTNGD30', 'DSTWORST',\n",
    "#             'DSTNRV12', 'DSTHOP12', 'DSTCHR12', 'DSTNGD12', 'IMPCONCN', 'IMPGOUT',\n",
    "#             'IMPPEOP', 'IMPSOC', 'IMPSOCM', 'SUICTHNK', 'ADDPREV']\n",
    "values = ['DSTCHR12']\n",
    "\n",
    "NSDUH2018_long = cleanUpNSDUH(NSDUH2018_wantedCols,id,values, 2018)\n",
    "NSDUH2019_long = cleanUpNSDUH(NSDUH2019_wantedCols,id,values, 2019)\n",
    "NSDUH2021_long = cleanUpNSDUH(NSDUH2021_wantedCols,id2,values, 2021)\n"
   ]
  },
  {
   "cell_type": "code",
   "execution_count": 16,
   "metadata": {},
   "outputs": [
    {
     "data": {
      "text/html": [
       "<div>\n",
       "<style scoped>\n",
       "    .dataframe tbody tr th:only-of-type {\n",
       "        vertical-align: middle;\n",
       "    }\n",
       "\n",
       "    .dataframe tbody tr th {\n",
       "        vertical-align: top;\n",
       "    }\n",
       "\n",
       "    .dataframe thead th {\n",
       "        text-align: right;\n",
       "    }\n",
       "</style>\n",
       "<table border=\"1\" class=\"dataframe\">\n",
       "  <thead>\n",
       "    <tr style=\"text-align: right;\">\n",
       "      <th></th>\n",
       "      <th>age</th>\n",
       "      <th>variable</th>\n",
       "      <th>value</th>\n",
       "    </tr>\n",
       "  </thead>\n",
       "  <tbody>\n",
       "    <tr>\n",
       "      <th>2</th>\n",
       "      <td>18-25</td>\n",
       "      <td>DSTNRV12</td>\n",
       "      <td>Nervous</td>\n",
       "    </tr>\n",
       "    <tr>\n",
       "      <th>10</th>\n",
       "      <td>26-34</td>\n",
       "      <td>DSTNRV12</td>\n",
       "      <td>Not Nervous</td>\n",
       "    </tr>\n",
       "    <tr>\n",
       "      <th>22</th>\n",
       "      <td>26-34</td>\n",
       "      <td>DSTNRV12</td>\n",
       "      <td>Nervous</td>\n",
       "    </tr>\n",
       "    <tr>\n",
       "      <th>28</th>\n",
       "      <td>35-49</td>\n",
       "      <td>DSTNRV12</td>\n",
       "      <td>Nervous</td>\n",
       "    </tr>\n",
       "    <tr>\n",
       "      <th>31</th>\n",
       "      <td>18-25</td>\n",
       "      <td>DSTNRV12</td>\n",
       "      <td>Nervous</td>\n",
       "    </tr>\n",
       "    <tr>\n",
       "      <th>...</th>\n",
       "      <td>...</td>\n",
       "      <td>...</td>\n",
       "      <td>...</td>\n",
       "    </tr>\n",
       "    <tr>\n",
       "      <th>56283</th>\n",
       "      <td>18-25</td>\n",
       "      <td>DSTNRV12</td>\n",
       "      <td>Nervous</td>\n",
       "    </tr>\n",
       "    <tr>\n",
       "      <th>56299</th>\n",
       "      <td>35-49</td>\n",
       "      <td>DSTNRV12</td>\n",
       "      <td>Nervous</td>\n",
       "    </tr>\n",
       "    <tr>\n",
       "      <th>56302</th>\n",
       "      <td>26-34</td>\n",
       "      <td>DSTNRV12</td>\n",
       "      <td>Nervous</td>\n",
       "    </tr>\n",
       "    <tr>\n",
       "      <th>56304</th>\n",
       "      <td>26-34</td>\n",
       "      <td>DSTNRV12</td>\n",
       "      <td>Nervous</td>\n",
       "    </tr>\n",
       "    <tr>\n",
       "      <th>56305</th>\n",
       "      <td>26-34</td>\n",
       "      <td>DSTNRV12</td>\n",
       "      <td>Nervous</td>\n",
       "    </tr>\n",
       "  </tbody>\n",
       "</table>\n",
       "<p>13615 rows × 3 columns</p>\n",
       "</div>"
      ],
      "text/plain": [
       "         age  variable        value\n",
       "2      18-25  DSTNRV12      Nervous\n",
       "10     26-34  DSTNRV12  Not Nervous\n",
       "22     26-34  DSTNRV12      Nervous\n",
       "28     35-49  DSTNRV12      Nervous\n",
       "31     18-25  DSTNRV12      Nervous\n",
       "...      ...       ...          ...\n",
       "56283  18-25  DSTNRV12      Nervous\n",
       "56299  35-49  DSTNRV12      Nervous\n",
       "56302  26-34  DSTNRV12      Nervous\n",
       "56304  26-34  DSTNRV12      Nervous\n",
       "56305  26-34  DSTNRV12      Nervous\n",
       "\n",
       "[13615 rows x 3 columns]"
      ]
     },
     "execution_count": 16,
     "metadata": {},
     "output_type": "execute_result"
    }
   ],
   "source": [
    "NSDUH2018_long"
   ]
  },
  {
   "cell_type": "code",
   "execution_count": 17,
   "metadata": {},
   "outputs": [],
   "source": [
    "totalCountDepressed_NSDUH2018 = NSDUH2018_long.groupby(['age']).agg(count=('value', 'count'))\n",
    "totalCountDepressed_NSDUH2019 = NSDUH2019_long.groupby(['age']).agg(count=('value', 'count'))\n",
    "totalCountDepressed_NSDUH2021 = NSDUH2021_long.groupby(['age']).agg(count=('value', 'count'))"
   ]
  },
  {
   "cell_type": "code",
   "execution_count": 18,
   "metadata": {},
   "outputs": [],
   "source": [
    "filter_val = \"Depressed\"\n",
    "\n",
    "filtired_DepressedNSDUH2018 = NSDUH2018_long[NSDUH2018_long['value'] == filter_val]\n",
    "depressedNSDUH2018 = filtired_DepressedNSDUH2018.groupby(['age']).agg(count=('value', 'count'))\n",
    "percDepressed_NSDUH2018 = pd.merge(totalCountDepressed_NSDUH2018, depressedNSDUH2018, left_on='age', right_index=True, suffixes=('_total', '_uses'))\n",
    "percDepressed_NSDUH2018['percentage'] = (percDepressed_NSDUH2018['count_uses'] / percDepressed_NSDUH2018['count_total']) * 100\n",
    "\n",
    "filtired_DepressedNSDUH2019 = NSDUH2019_long[NSDUH2019_long['value'] == filter_val]\n",
    "depressedNSDUH2019 = filtired_DepressedNSDUH2019.groupby(['age']).agg(count=('value', 'count'))\n",
    "percDepressed_NSDUH2019 = pd.merge(totalCountDepressed_NSDUH2019, depressedNSDUH2019, left_on='age', right_index=True, suffixes=('_total', '_uses'))\n",
    "percDepressed_NSDUH2019['percentage'] = (percDepressed_NSDUH2019['count_uses'] / percDepressed_NSDUH2019['count_total']) * 100\n",
    "\n",
    "filtired_DepressedNSDUH2021 = NSDUH2021_long[NSDUH2021_long['value'] == filter_val]\n",
    "depressedNSDUH2021 = filtired_DepressedNSDUH2021.groupby(['age']).agg(count=('value', 'count'))\n",
    "percDepressed_NSDUH2021 = pd.merge(totalCountDepressed_NSDUH2021, depressedNSDUH2021, left_on='age', right_index=True, suffixes=('_total', '_uses'))\n",
    "percDepressed_NSDUH2021['percentage'] = (percDepressed_NSDUH2021['count_uses'] / percDepressed_NSDUH2021['count_total']) * 100"
   ]
  },
  {
   "cell_type": "code",
   "execution_count": 19,
   "metadata": {},
   "outputs": [],
   "source": [
    "percDepressed_NSDUH2018 = percDepressed_NSDUH2018.reset_index()\n",
    "percDepressed_NSDUH2019 = percDepressed_NSDUH2019.reset_index()\n",
    "percDepressed_NSDUH2021 = percDepressed_NSDUH2021.reset_index()\n",
    "\n",
    "percDepressed_NSDUH2018['dataset'] = '2018 - Depressed'\n",
    "percDepressed_NSDUH2019['dataset'] = '2019 - Depressed'\n",
    "percDepressed_NSDUH2021['dataset'] = '2021 - Depressed'\n",
    "\n",
    "NSDUH_concat = pd.concat([percDepressed_NSDUH2018,percDepressed_NSDUH2019,percDepressed_NSDUH2021])\n",
    "# NSDUH_concat = NSDUH_concat.rename(columns={'AGE2': 'age'})"
   ]
  },
  {
   "cell_type": "code",
   "execution_count": 20,
   "metadata": {},
   "outputs": [
    {
     "data": {
      "text/plain": [
       "<matplotlib.legend.Legend at 0x14dabe050>"
      ]
     },
     "execution_count": 20,
     "metadata": {},
     "output_type": "execute_result"
    },
    {
     "data": {
      "image/png": "[encoded data removed]",
      "text/plain": [
       "<Figure size 640x480 with 1 Axes>"
      ]
     },
     "metadata": {},
     "output_type": "display_data"
    }
   ],
   "source": [
    "sns.barplot(data=CoreTrends_SMUseSum_concat, x='age', y='percentage', hue='dataset' ,palette='bright')\n",
    "sns.barplot(data=NSDUH_concat, x='age', y='percentage',hue='dataset', palette='dark')\n",
    "\n",
    "plt.title(\"\")\n",
    "plt.ylabel(\"Percentage\")\n",
    "plt.xlabel(\"Age Group\")\n",
    "plt.legend(loc='upper right', bbox_to_anchor=(1.5, 1))"
   ]
  }
 ],
 "metadata": {
  "kernelspec": {
   "display_name": "cs418",
   "language": "python",
   "name": "python3"
  },
  "language_info": {
   "codemirror_mode": {
    "name": "ipython",
    "version": 3
   },
   "file_extension": ".py",
   "mimetype": "text/x-python",
   "name": "python",
   "nbconvert_exporter": "python",
   "pygments_lexer": "ipython3",
   "version": "3.11.5"
  }
 },
 "nbformat": 4,
 "nbformat_minor": 2
}
