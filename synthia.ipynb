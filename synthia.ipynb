{
 "cells": [
  {
   "cell_type": "markdown",
   "metadata": {},
   "source": [
    "# Synthia's notebook to experiment with the data "
   ]
  },
  {
   "cell_type": "code",
   "execution_count": 2,
   "metadata": {},
   "outputs": [],
   "source": [
    "import numpy as np\n",
    "import pandas as pd\n",
    "%matplotlib inline\n",
    "import matplotlib.pyplot as plt\n",
    "import seaborn as sns"
   ]
  },
  {
   "cell_type": "markdown",
   "metadata": {},
   "source": [
    "## Load Datasets"
   ]
  },
  {
   "cell_type": "code",
   "execution_count": 31,
   "metadata": {},
   "outputs": [
    {
     "name": "stderr",
     "output_type": "stream",
     "text": [
      "/var/folders/gb/6lz7ywcj7bv70m1184dmt2ym0000gn/T/ipykernel_69762/854916542.py:1: DtypeWarning: Columns (2799) have mixed types. Specify dtype option on import or set low_memory=False.\n",
      "  NSDUH2021 = pd.read_table(\"datasets/National Survey on Drug Use and Health 2021/NSDUH_2021_Tab.txt\")\n"
     ]
    }
   ],
   "source": [
    "NSDUH2021 = pd.read_table(\"datasets/National Survey on Drug Use and Health 2021/NSDUH_2021_Tab.txt\")\n",
    "# display(NSDUH2021.head())"
   ]
  },
  {
   "cell_type": "code",
   "execution_count": 12,
   "metadata": {},
   "outputs": [
    {
     "name": "stderr",
     "output_type": "stream",
     "text": [
      "/var/folders/gb/6lz7ywcj7bv70m1184dmt2ym0000gn/T/ipykernel_69762/884588277.py:1: DtypeWarning: Columns (2575) have mixed types. Specify dtype option on import or set low_memory=False.\n",
      "  NSDUH2019 = pd.read_table(\"datasets/National Survey on Drug Use and Health 2019/NSDUH_2019_Tab.txt\")\n"
     ]
    }
   ],
   "source": [
    "NSDUH2019 = pd.read_table(\"datasets/National Survey on Drug Use and Health 2019/NSDUH_2019_Tab.txt\")\n",
    "# display(NSDUH2019.head())"
   ]
  },
  {
   "cell_type": "code",
   "execution_count": 10,
   "metadata": {},
   "outputs": [
    {
     "name": "stderr",
     "output_type": "stream",
     "text": [
      "/var/folders/gb/6lz7ywcj7bv70m1184dmt2ym0000gn/T/ipykernel_69762/406517505.py:1: DtypeWarning: Columns (2525) have mixed types. Specify dtype option on import or set low_memory=False.\n",
      "  NSDUH2018 = pd.read_table(\"datasets/National Survey on Drug Use and Health 2018/NSDUH_2018_Tab.tsv\")\n"
     ]
    },
    {
     "data": {
      "text/html": [
       "<div>\n",
       "<style scoped>\n",
       "    .dataframe tbody tr th:only-of-type {\n",
       "        vertical-align: middle;\n",
       "    }\n",
       "\n",
       "    .dataframe tbody tr th {\n",
       "        vertical-align: top;\n",
       "    }\n",
       "\n",
       "    .dataframe thead th {\n",
       "        text-align: right;\n",
       "    }\n",
       "</style>\n",
       "<table border=\"1\" class=\"dataframe\">\n",
       "  <thead>\n",
       "    <tr style=\"text-align: right;\">\n",
       "      <th></th>\n",
       "      <th>QUESTID2</th>\n",
       "      <th>FILEDATE</th>\n",
       "      <th>CIGEVER</th>\n",
       "      <th>CIGOFRSM</th>\n",
       "      <th>CIGWILYR</th>\n",
       "      <th>CIGTRY</th>\n",
       "      <th>CIGYFU</th>\n",
       "      <th>CIGMFU</th>\n",
       "      <th>CIGREC</th>\n",
       "      <th>CIG30USE</th>\n",
       "      <th>...</th>\n",
       "      <th>POVERTY3</th>\n",
       "      <th>TOOLONG</th>\n",
       "      <th>TROUBUND</th>\n",
       "      <th>PDEN10</th>\n",
       "      <th>COUTYP4</th>\n",
       "      <th>MAIIN102</th>\n",
       "      <th>AIIND102</th>\n",
       "      <th>ANALWT_C</th>\n",
       "      <th>VESTR</th>\n",
       "      <th>VEREP</th>\n",
       "    </tr>\n",
       "  </thead>\n",
       "  <tbody>\n",
       "    <tr>\n",
       "      <th>0</th>\n",
       "      <td>11015143</td>\n",
       "      <td>10/08/2019</td>\n",
       "      <td>1</td>\n",
       "      <td>99</td>\n",
       "      <td>99</td>\n",
       "      <td>12</td>\n",
       "      <td>9999</td>\n",
       "      <td>99</td>\n",
       "      <td>1</td>\n",
       "      <td>20</td>\n",
       "      <td>...</td>\n",
       "      <td>3.0</td>\n",
       "      <td>2</td>\n",
       "      <td>2</td>\n",
       "      <td>1</td>\n",
       "      <td>1</td>\n",
       "      <td>2</td>\n",
       "      <td>2</td>\n",
       "      <td>20783.261908</td>\n",
       "      <td>40001</td>\n",
       "      <td>1</td>\n",
       "    </tr>\n",
       "    <tr>\n",
       "      <th>1</th>\n",
       "      <td>86325143</td>\n",
       "      <td>10/08/2019</td>\n",
       "      <td>2</td>\n",
       "      <td>99</td>\n",
       "      <td>99</td>\n",
       "      <td>991</td>\n",
       "      <td>9991</td>\n",
       "      <td>91</td>\n",
       "      <td>91</td>\n",
       "      <td>91</td>\n",
       "      <td>...</td>\n",
       "      <td>2.0</td>\n",
       "      <td>2</td>\n",
       "      <td>2</td>\n",
       "      <td>3</td>\n",
       "      <td>3</td>\n",
       "      <td>2</td>\n",
       "      <td>2</td>\n",
       "      <td>1095.884074</td>\n",
       "      <td>40004</td>\n",
       "      <td>1</td>\n",
       "    </tr>\n",
       "    <tr>\n",
       "      <th>2</th>\n",
       "      <td>35425143</td>\n",
       "      <td>10/08/2019</td>\n",
       "      <td>1</td>\n",
       "      <td>99</td>\n",
       "      <td>99</td>\n",
       "      <td>13</td>\n",
       "      <td>9999</td>\n",
       "      <td>99</td>\n",
       "      <td>4</td>\n",
       "      <td>93</td>\n",
       "      <td>...</td>\n",
       "      <td>3.0</td>\n",
       "      <td>2</td>\n",
       "      <td>2</td>\n",
       "      <td>2</td>\n",
       "      <td>2</td>\n",
       "      <td>2</td>\n",
       "      <td>2</td>\n",
       "      <td>374.445005</td>\n",
       "      <td>40017</td>\n",
       "      <td>2</td>\n",
       "    </tr>\n",
       "    <tr>\n",
       "      <th>3</th>\n",
       "      <td>98125143</td>\n",
       "      <td>10/08/2019</td>\n",
       "      <td>2</td>\n",
       "      <td>99</td>\n",
       "      <td>99</td>\n",
       "      <td>991</td>\n",
       "      <td>9991</td>\n",
       "      <td>91</td>\n",
       "      <td>91</td>\n",
       "      <td>91</td>\n",
       "      <td>...</td>\n",
       "      <td>2.0</td>\n",
       "      <td>2</td>\n",
       "      <td>2</td>\n",
       "      <td>2</td>\n",
       "      <td>2</td>\n",
       "      <td>2</td>\n",
       "      <td>2</td>\n",
       "      <td>2421.263435</td>\n",
       "      <td>40038</td>\n",
       "      <td>2</td>\n",
       "    </tr>\n",
       "    <tr>\n",
       "      <th>4</th>\n",
       "      <td>15945143</td>\n",
       "      <td>10/08/2019</td>\n",
       "      <td>2</td>\n",
       "      <td>99</td>\n",
       "      <td>99</td>\n",
       "      <td>991</td>\n",
       "      <td>9991</td>\n",
       "      <td>91</td>\n",
       "      <td>91</td>\n",
       "      <td>91</td>\n",
       "      <td>...</td>\n",
       "      <td>2.0</td>\n",
       "      <td>1</td>\n",
       "      <td>2</td>\n",
       "      <td>1</td>\n",
       "      <td>1</td>\n",
       "      <td>2</td>\n",
       "      <td>2</td>\n",
       "      <td>6637.319591</td>\n",
       "      <td>40040</td>\n",
       "      <td>2</td>\n",
       "    </tr>\n",
       "  </tbody>\n",
       "</table>\n",
       "<p>5 rows × 2691 columns</p>\n",
       "</div>"
      ],
      "text/plain": [
       "   QUESTID2    FILEDATE  CIGEVER  CIGOFRSM  CIGWILYR  CIGTRY  CIGYFU  CIGMFU  \\\n",
       "0  11015143  10/08/2019        1        99        99      12    9999      99   \n",
       "1  86325143  10/08/2019        2        99        99     991    9991      91   \n",
       "2  35425143  10/08/2019        1        99        99      13    9999      99   \n",
       "3  98125143  10/08/2019        2        99        99     991    9991      91   \n",
       "4  15945143  10/08/2019        2        99        99     991    9991      91   \n",
       "\n",
       "   CIGREC  CIG30USE  ...  POVERTY3  TOOLONG  TROUBUND  PDEN10  COUTYP4  \\\n",
       "0       1        20  ...       3.0        2         2       1        1   \n",
       "1      91        91  ...       2.0        2         2       3        3   \n",
       "2       4        93  ...       3.0        2         2       2        2   \n",
       "3      91        91  ...       2.0        2         2       2        2   \n",
       "4      91        91  ...       2.0        1         2       1        1   \n",
       "\n",
       "   MAIIN102  AIIND102      ANALWT_C  VESTR  VEREP  \n",
       "0         2         2  20783.261908  40001      1  \n",
       "1         2         2   1095.884074  40004      1  \n",
       "2         2         2    374.445005  40017      2  \n",
       "3         2         2   2421.263435  40038      2  \n",
       "4         2         2   6637.319591  40040      2  \n",
       "\n",
       "[5 rows x 2691 columns]"
      ]
     },
     "metadata": {},
     "output_type": "display_data"
    }
   ],
   "source": [
    "NSDUH2018 = pd.read_table(\"datasets/National Survey on Drug Use and Health 2018/NSDUH_2018_Tab.tsv\")\n",
    "display(NSDUH2018.head())"
   ]
  },
  {
   "cell_type": "code",
   "execution_count": 16,
   "metadata": {},
   "outputs": [],
   "source": [
    "CoreTrends2021 = pd.read_csv(\"datasets/Jan-25-Feb-8-2021-Core-Trends-Survey/Jan 25-Feb 8, 2021 - Core Trends Survey - CSV.csv\")\n",
    "# display(CoreTrends2021.head())"
   ]
  },
  {
   "cell_type": "code",
   "execution_count": 17,
   "metadata": {},
   "outputs": [],
   "source": [
    "CoreTrends2019 = pd.read_csv(\"datasets/January-8-February-7-2019-Core-Trends-Survey-SPSS/January 8-February 7, 2019 - Core Trends Survey - CSV.csv\")\n",
    "# display(CoreTrends2019.head())"
   ]
  },
  {
   "cell_type": "code",
   "execution_count": 15,
   "metadata": {},
   "outputs": [
    {
     "data": {
      "text/html": [
       "<div>\n",
       "<style scoped>\n",
       "    .dataframe tbody tr th:only-of-type {\n",
       "        vertical-align: middle;\n",
       "    }\n",
       "\n",
       "    .dataframe tbody tr th {\n",
       "        vertical-align: top;\n",
       "    }\n",
       "\n",
       "    .dataframe thead th {\n",
       "        text-align: right;\n",
       "    }\n",
       "</style>\n",
       "<table border=\"1\" class=\"dataframe\">\n",
       "  <thead>\n",
       "    <tr style=\"text-align: right;\">\n",
       "      <th></th>\n",
       "      <th>respid</th>\n",
       "      <th>sample</th>\n",
       "      <th>comp</th>\n",
       "      <th>int_date</th>\n",
       "      <th>lang</th>\n",
       "      <th>cregion</th>\n",
       "      <th>state</th>\n",
       "      <th>density</th>\n",
       "      <th>usr</th>\n",
       "      <th>qs1</th>\n",
       "      <th>...</th>\n",
       "      <th>inc</th>\n",
       "      <th>party</th>\n",
       "      <th>partyln</th>\n",
       "      <th>hh1</th>\n",
       "      <th>hh3</th>\n",
       "      <th>ql1</th>\n",
       "      <th>ql1a</th>\n",
       "      <th>qc1</th>\n",
       "      <th>weight</th>\n",
       "      <th>cellweight</th>\n",
       "    </tr>\n",
       "  </thead>\n",
       "  <tbody>\n",
       "    <tr>\n",
       "      <th>0</th>\n",
       "      <td>1</td>\n",
       "      <td>1</td>\n",
       "      <td>1</td>\n",
       "      <td>180103</td>\n",
       "      <td>1</td>\n",
       "      <td>1</td>\n",
       "      <td>42</td>\n",
       "      <td>5</td>\n",
       "      <td>U</td>\n",
       "      <td></td>\n",
       "      <td>...</td>\n",
       "      <td>6</td>\n",
       "      <td>2</td>\n",
       "      <td></td>\n",
       "      <td>5</td>\n",
       "      <td>4</td>\n",
       "      <td>1</td>\n",
       "      <td></td>\n",
       "      <td></td>\n",
       "      <td>1.746359</td>\n",
       "      <td></td>\n",
       "    </tr>\n",
       "    <tr>\n",
       "      <th>1</th>\n",
       "      <td>2</td>\n",
       "      <td>1</td>\n",
       "      <td>1</td>\n",
       "      <td>180103</td>\n",
       "      <td>1</td>\n",
       "      <td>3</td>\n",
       "      <td>45</td>\n",
       "      <td>2</td>\n",
       "      <td>S</td>\n",
       "      <td></td>\n",
       "      <td>...</td>\n",
       "      <td>4</td>\n",
       "      <td>3</td>\n",
       "      <td>8</td>\n",
       "      <td>2</td>\n",
       "      <td>2</td>\n",
       "      <td>2</td>\n",
       "      <td>2</td>\n",
       "      <td></td>\n",
       "      <td>1.659764</td>\n",
       "      <td></td>\n",
       "    </tr>\n",
       "    <tr>\n",
       "      <th>2</th>\n",
       "      <td>3</td>\n",
       "      <td>1</td>\n",
       "      <td>1</td>\n",
       "      <td>180103</td>\n",
       "      <td>1</td>\n",
       "      <td>1</td>\n",
       "      <td>34</td>\n",
       "      <td>5</td>\n",
       "      <td>S</td>\n",
       "      <td></td>\n",
       "      <td>...</td>\n",
       "      <td>4</td>\n",
       "      <td>1</td>\n",
       "      <td></td>\n",
       "      <td>1</td>\n",
       "      <td></td>\n",
       "      <td>1</td>\n",
       "      <td></td>\n",
       "      <td></td>\n",
       "      <td>0.490804</td>\n",
       "      <td></td>\n",
       "    </tr>\n",
       "    <tr>\n",
       "      <th>3</th>\n",
       "      <td>4</td>\n",
       "      <td>1</td>\n",
       "      <td>1</td>\n",
       "      <td>180103</td>\n",
       "      <td>1</td>\n",
       "      <td>3</td>\n",
       "      <td>24</td>\n",
       "      <td>4</td>\n",
       "      <td>S</td>\n",
       "      <td></td>\n",
       "      <td>...</td>\n",
       "      <td>2</td>\n",
       "      <td>2</td>\n",
       "      <td></td>\n",
       "      <td>2</td>\n",
       "      <td>2</td>\n",
       "      <td>1</td>\n",
       "      <td></td>\n",
       "      <td></td>\n",
       "      <td>0.947965</td>\n",
       "      <td></td>\n",
       "    </tr>\n",
       "    <tr>\n",
       "      <th>4</th>\n",
       "      <td>5</td>\n",
       "      <td>1</td>\n",
       "      <td>1</td>\n",
       "      <td>180103</td>\n",
       "      <td>1</td>\n",
       "      <td>1</td>\n",
       "      <td>33</td>\n",
       "      <td>2</td>\n",
       "      <td>R</td>\n",
       "      <td></td>\n",
       "      <td>...</td>\n",
       "      <td>7</td>\n",
       "      <td>1</td>\n",
       "      <td></td>\n",
       "      <td>3</td>\n",
       "      <td>3</td>\n",
       "      <td>1</td>\n",
       "      <td></td>\n",
       "      <td></td>\n",
       "      <td>0.915959</td>\n",
       "      <td></td>\n",
       "    </tr>\n",
       "  </tbody>\n",
       "</table>\n",
       "<p>5 rows × 70 columns</p>\n",
       "</div>"
      ],
      "text/plain": [
       "   respid  sample  comp  int_date  lang  cregion  state  density usr qs1  ...  \\\n",
       "0       1       1     1    180103     1        1     42        5   U      ...   \n",
       "1       2       1     1    180103     1        3     45        2   S      ...   \n",
       "2       3       1     1    180103     1        1     34        5   S      ...   \n",
       "3       4       1     1    180103     1        3     24        4   S      ...   \n",
       "4       5       1     1    180103     1        1     33        2   R      ...   \n",
       "\n",
       "   inc  party  partyln hh1 hh3 ql1 ql1a qc1    weight  cellweight  \n",
       "0    6      2            5   4   1           1.746359              \n",
       "1    4      3        8   2   2   2    2      1.659764              \n",
       "2    4      1            1       1           0.490804              \n",
       "3    2      2            2   2   1           0.947965              \n",
       "4    7      1            3   3   1           0.915959              \n",
       "\n",
       "[5 rows x 70 columns]"
      ]
     },
     "metadata": {},
     "output_type": "display_data"
    }
   ],
   "source": [
    "CoreTrends2018 = pd.read_csv(\"datasets/January 3-10, 2018 - Core Trends Survey/January 3-10, 2018 - Core Trends Survey - CSV.csv\")\n",
    "display(CoreTrends2018.head())"
   ]
  },
  {
   "cell_type": "markdown",
   "metadata": {},
   "source": [
    "## Clean up data"
   ]
  },
  {
   "cell_type": "markdown",
   "metadata": {},
   "source": [
    "\n",
    "###ADMT16 - ADMT21  : How many visits to various types of outpatient facilities for mental health\n",
    "\n",
    "ADMT01 : AUINPYR : stayed in hospital for mental health\n",
    "ADMT25/ADMTREF25 : AURXYR : taken any medication for mental health\n",
    "\n",
    "YE09 : YEATNDYR : HAs attended some sort of school\n",
    "YE10 : YESCHFLT : how much they like going to school (1-4, 4=hated it)\n",
    "YE23b : YEPRBSLV : participated in self-esteem group\n",
    "\n",
    "NERVE30 : DSTNRV30 : How often felt nervous (1-5, 5=never) in past 30 days\n",
    "HOPE30 : DSTHOP30 : How often feel hopeless\n",
    "NOCHR30 : DSTCHR30 : How often felt depressed\n",
    "DOWN30 : DSTNGD30 : How often feeling down/worthless\n",
    "WORST30 : DSTWORST : In past year has there been a worse month than current (1-2, 2=No)\n",
    "DSNERV1 : DSTNRV12 : in WORST30 month, how often felt nervous\n",
    "DSHOPE : DSTHOP12 : In WORST30 month, how often felt hopeless\n",
    "DSNOCHR : DSTCHR12 : in WORST30 month, how often felt depressed\n",
    "DSDOWN : DSTNGD12 : in WORST30 month, how often felt worthless\n",
    "\n",
    "LICONCEN : IMPCONCN : Difficulty concentrating in their worst month (1-4, 4= severe)\n",
    "LIGOOUT1 : IMPGOUT : Difficulty leaving house\n",
    "LISTRAN1 : IMPPEOP : Difficulty dealing with less known people\n",
    "LISOC1 : IMPSOC : Difficulty participating in social activites\n",
    "LISOC2 : IMPSOCM : Did mental health problems keep from participating socially\n",
    "\n",
    "SUI01 : SUICTHNK : Think about suicide in past year\n",
    "SUI02 : SUIPLANYR :  Plans for suicide\n",
    "\n",
    "ASC21 : ADDPREV : Long periods of feeling sad\n"
   ]
  },
  {
   "cell_type": "code",
   "execution_count": 34,
   "metadata": {},
   "outputs": [
    {
     "name": "stdout",
     "output_type": "stream",
     "text": [
      "   AUINPYR  AURXYR  YEATNDYR  YESCHFLT  YEPRBSLV  DSTNRV30  DSTHOP30  \\\n",
      "0        2       2        99        99        99         4         3   \n",
      "1        2       2        99        99        99         5         5   \n",
      "2        2       1        99        99        99         4         5   \n",
      "3        2       2        99        99        99         2         3   \n",
      "4        2       2        99        99        99         5         5   \n",
      "\n",
      "   DSTCHR30  DSTNGD30  DSTWORST  ...  DSTCHR12  DSTNGD12  IMPCONCN  IMPGOUT  \\\n",
      "0         5         3         2  ...        99        99         1        2   \n",
      "1         5         5         2  ...        99        99        99       99   \n",
      "2         5         5         1  ...         4         3         2        3   \n",
      "3         3         2         2  ...        99        99         3        2   \n",
      "4         5         5         2  ...        99        99        99       99   \n",
      "\n",
      "   IMPPEOP  IMPSOC  IMPSOCM  SUICTHNK  SUIPLANYR  ADDPREV  \n",
      "0        1       1       99         2          2        2  \n",
      "1       99      99       99         2          2        2  \n",
      "2        3       4       99         2          2        2  \n",
      "3        3       2       99         2          2        1  \n",
      "4       99      99       99         2          2        2  \n",
      "\n",
      "[5 rows x 22 columns]\n"
     ]
    }
   ],
   "source": [
    "cols = [\n",
    "    \"AUINPYR\",\n",
    "    \"AURXYR\",\n",
    "    \"YEATNDYR\",\n",
    "    \"YESCHFLT\",\n",
    "    \"YEPRBSLV\",\n",
    "    \"DSTNRV30\",\n",
    "    \"DSTHOP30\",\n",
    "    \"DSTCHR30\",\n",
    "    \"DSTNGD30\",\n",
    "    \"DSTWORST\",\n",
    "    \"DSTNRV12\",\n",
    "    \"DSTHOP12\",\n",
    "    \"DSTCHR12\",\n",
    "    \"DSTNGD12\",\n",
    "    \"IMPCONCN\",\n",
    "    \"IMPGOUT\",\n",
    "    \"IMPPEOP\",\n",
    "    \"IMPSOC\",\n",
    "    \"IMPSOCM\",\n",
    "    \"SUICTHNK\",\n",
    "    \"SUIPLANYR\",\n",
    "    \"ADDPREV\"\n",
    "]\n",
    "\n",
    "NSDUH2021_copy = NSDUH2021.copy(deep=True)\n",
    "\n",
    "NSDUH2021_copy = NSDUH2021_copy[cols]\n",
    "NSDUH2021_copy.columns\n",
    "print(NSDUH2021_copy.head())"
   ]
  },
  {
   "cell_type": "code",
   "execution_count": 36,
   "metadata": {},
   "outputs": [
    {
     "data": {
      "text/plain": [
       "Index(['AUINPYR', 'AURXYR', 'YEATNDYR', 'YESCHFLT', 'YEPRBSLV', 'DSTNRV30',\n",
       "       'DSTHOP30', 'DSTCHR30', 'DSTNGD30', 'DSTWORST', 'DSTNRV12', 'DSTHOP12',\n",
       "       'DSTCHR12', 'DSTNGD12', 'IMPCONCN', 'IMPGOUT', 'IMPPEOP', 'IMPSOC',\n",
       "       'IMPSOCM', 'SUICTHNK', 'ADDPREV'],\n",
       "      dtype='object')"
      ]
     },
     "execution_count": 36,
     "metadata": {},
     "output_type": "execute_result"
    }
   ],
   "source": [
    "#Removed \"SUIPLANYR\" because its not present\n",
    "cols = [\n",
    "    \"AUINPYR\",\n",
    "    \"AURXYR\",\n",
    "    \"YEATNDYR\",\n",
    "    \"YESCHFLT\",\n",
    "    \"YEPRBSLV\",\n",
    "    \"DSTNRV30\",\n",
    "    \"DSTHOP30\",\n",
    "    \"DSTCHR30\",\n",
    "    \"DSTNGD30\",\n",
    "    \"DSTWORST\",\n",
    "    \"DSTNRV12\",\n",
    "    \"DSTHOP12\",\n",
    "    \"DSTCHR12\",\n",
    "    \"DSTNGD12\",\n",
    "    \"IMPCONCN\",\n",
    "    \"IMPGOUT\",\n",
    "    \"IMPPEOP\",\n",
    "    \"IMPSOC\",\n",
    "    \"IMPSOCM\",\n",
    "    \"SUICTHNK\",\n",
    "    \"ADDPREV\"\n",
    "]\n",
    "NSDUH2019_copy = NSDUH2019.copy(deep=True)\n",
    "NSDUH2019_copy = NSDUH2019_copy[cols]\n",
    "NSDUH2019_copy.columns"
   ]
  },
  {
   "cell_type": "code",
   "execution_count": 37,
   "metadata": {},
   "outputs": [
    {
     "data": {
      "text/plain": [
       "Index(['AUINPYR', 'AURXYR', 'YEATNDYR', 'YESCHFLT', 'YEPRBSLV', 'DSTNRV30',\n",
       "       'DSTHOP30', 'DSTCHR30', 'DSTNGD30', 'DSTWORST', 'DSTNRV12', 'DSTHOP12',\n",
       "       'DSTCHR12', 'DSTNGD12', 'IMPCONCN', 'IMPGOUT', 'IMPPEOP', 'IMPSOC',\n",
       "       'IMPSOCM', 'SUICTHNK', 'ADDPREV'],\n",
       "      dtype='object')"
      ]
     },
     "execution_count": 37,
     "metadata": {},
     "output_type": "execute_result"
    }
   ],
   "source": [
    "NSDUH2018_copy = NSDUH2018.copy(deep=True)\n",
    "NSDUH2018_copy = NSDUH2018_copy[cols]\n",
    "NSDUH2018_copy.columns"
   ]
  },
  {
   "cell_type": "markdown",
   "metadata": {},
   "source": [
    "Core trends variables:\n",
    "\n",
    "web1a    -\tTwitter\n",
    "web1b    -\tInstagram\n",
    "web1c    -\tFacebook \n",
    "web1d    -\tSnapchat\n",
    "web1e    -\tYouTube\n",
    "\n",
    "How often use social media, 1-5, 5=less often\n",
    "\n",
    "sns2a    -\tTwitter\n",
    "sns2b    -\tInstagram\n",
    "sns2c    -\tFacebook \n",
    "sns2d    -\tSnapchat\n",
    "sns2e    -\tYouTube\n",
    "\n",
    "gender  - gender\n",
    "age     - age\n",
    "\n"
   ]
  },
  {
   "cell_type": "code",
   "execution_count": 42,
   "metadata": {},
   "outputs": [
    {
     "data": {
      "text/plain": [
       "Index(['respid', 'web1a', 'web1b', 'web1c', 'web1d', 'web1e', 'sns2a', 'sns2b',\n",
       "       'sns2c', 'sns2d', 'sns2e', 'gender', 'age'],\n",
       "      dtype='object')"
      ]
     },
     "execution_count": 42,
     "metadata": {},
     "output_type": "execute_result"
    }
   ],
   "source": [
    "CoreTrends2021Cols = [\n",
    "    \"respid\", \"web1a\", \"web1b\", \"web1c\", \"web1d\", \"web1e\",\n",
    "    \"sns2a\", \"sns2b\", \"sns2c\", \"sns2d\", \"sns2e\",\n",
    "    \"gender\", \"age\"\n",
    "]\n",
    "CoreTrends2021_copy = CoreTrends2021.copy(deep=True)\n",
    "CoreTrends2021_copy = CoreTrends2021_copy[CoreTrends2021Cols]\n",
    "CoreTrends2021_copy.columns"
   ]
  },
  {
   "cell_type": "code",
   "execution_count": 44,
   "metadata": {},
   "outputs": [
    {
     "data": {
      "text/plain": [
       "Index(['respid', 'web1a', 'web1b', 'web1c', 'web1d', 'web1e', 'sns2a', 'sns2b',\n",
       "       'sns2c', 'sns2d', 'sns2e', 'sex', 'age'],\n",
       "      dtype='object')"
      ]
     },
     "execution_count": 44,
     "metadata": {},
     "output_type": "execute_result"
    }
   ],
   "source": [
    "CoreTrends2019Cols = [\n",
    "    \"respid\", \"web1a\", \"web1b\", \"web1c\", \"web1d\", \"web1e\",\n",
    "    \"sns2a\", \"sns2b\", \"sns2c\", \"sns2d\", \"sns2e\",\n",
    "    \"sex\", \"age\"\n",
    "]\n",
    "CoreTrends2019_copy = CoreTrends2019.copy(deep=True)\n",
    "CoreTrends2019_copy = CoreTrends2019_copy[CoreTrends2019Cols]\n",
    "CoreTrends2019_copy.columns"
   ]
  },
  {
   "cell_type": "code",
   "execution_count": 45,
   "metadata": {},
   "outputs": [
    {
     "data": {
      "text/plain": [
       "Index(['respid', 'web1a', 'web1b', 'web1c', 'web1d', 'web1e', 'sns2a', 'sns2b',\n",
       "       'sns2c', 'sns2d', 'sns2e', 'sex', 'age'],\n",
       "      dtype='object')"
      ]
     },
     "execution_count": 45,
     "metadata": {},
     "output_type": "execute_result"
    }
   ],
   "source": [
    "CoreTrends2021Cols = [\n",
    "    \"respid\", \"web1a\", \"web1b\", \"web1c\", \"web1d\", \"web1e\",\n",
    "    \"sns2a\", \"sns2b\", \"sns2c\", \"sns2d\", \"sns2e\",\n",
    "    \"sex\", \"age\"\n",
    "]\n",
    "CoreTrends2021_copy = CoreTrends2021.copy(deep=True)\n",
    "CoreTrends2021_copy = CoreTrends2021_copy[CoreTrends2021Cols]\n",
    "CoreTrends2021_copy.columns"
   ]
  }
 ],
 "metadata": {
  "kernelspec": {
   "display_name": "cs418",
   "language": "python",
   "name": "python3"
  },
  "language_info": {
   "codemirror_mode": {
    "name": "ipython",
    "version": 3
   },
   "file_extension": ".py",
   "mimetype": "text/x-python",
   "name": "python",
   "nbconvert_exporter": "python",
   "pygments_lexer": "ipython3",
   "version": "3.11.5"
  }
 },
 "nbformat": 4,
 "nbformat_minor": 2
}
