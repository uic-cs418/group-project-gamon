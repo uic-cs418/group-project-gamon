{
 "cells": [
  {
   "cell_type": "markdown",
   "metadata": {},
   "source": [
    "# Synthia's notebook to experiment with the data "
   ]
  },
  {
   "cell_type": "code",
   "execution_count": 1,
   "metadata": {},
   "outputs": [],
   "source": [
    "import numpy as np\n",
    "import pandas as pd\n",
    "%matplotlib inline\n",
    "import matplotlib.pyplot as plt\n",
    "import seaborn as sns\n",
    "from helper_code import *\n",
    "import plotly.express as px"
   ]
  },
  {
   "cell_type": "markdown",
   "metadata": {},
   "source": [
    "## Load Datasets"
   ]
  },
  {
   "cell_type": "code",
   "execution_count": 2,
   "metadata": {},
   "outputs": [
    {
     "name": "stderr",
     "output_type": "stream",
     "text": [
      "/Users/synth/Documents/UNI/418/group-project-gamon/helper_code.py:17: DtypeWarning: Columns (2799) have mixed types. Specify dtype option on import or set low_memory=False.\n",
      "  data = pd.read_table(path)\n",
      "/Users/synth/Documents/UNI/418/group-project-gamon/helper_code.py:17: DtypeWarning: Columns (2575) have mixed types. Specify dtype option on import or set low_memory=False.\n",
      "  data = pd.read_table(path)\n",
      "/Users/synth/Documents/UNI/418/group-project-gamon/helper_code.py:17: DtypeWarning: Columns (2525) have mixed types. Specify dtype option on import or set low_memory=False.\n",
      "  data = pd.read_table(path)\n"
     ]
    }
   ],
   "source": [
    "NSDUH2021 = readInData(\"datasets/National Survey on Drug Use and Health 2021/NSDUH_2021_Tab.txt\", \"txt\")\n",
    "NSDUH2019 = readInData(\"datasets/National Survey on Drug Use and Health 2019/NSDUH_2019_Tab.txt\", \"txt\")\n",
    "NSDUH2018 = readInData(\"datasets/National Survey on Drug Use and Health 2018/NSDUH_2018_Tab.tsv\", \"tsv\")\n"
   ]
  },
  {
   "cell_type": "code",
   "execution_count": 3,
   "metadata": {},
   "outputs": [],
   "source": [
    "CoreTrends2021 = readInData(\"datasets/Jan-25-Feb-8-2021-Core-Trends-Survey/Jan 25-Feb 8, 2021 - Core Trends Survey - CSV.csv\", \"csv\")\n",
    "CoreTrends2019 = readInData(\"datasets/January-8-February-7-2019-Core-Trends-Survey-SPSS/January 8-February 7, 2019 - Core Trends Survey - CSV.csv\", \"csv\")\n",
    "CoreTrends2018 = readInData(\"datasets/January 3-10, 2018 - Core Trends Survey/January 3-10, 2018 - Core Trends Survey - CSV.csv\", \"csv\")"
   ]
  },
  {
   "cell_type": "markdown",
   "metadata": {},
   "source": [
    "## Clean up data"
   ]
  },
  {
   "cell_type": "markdown",
   "metadata": {},
   "source": [
    "\n",
    "###ADMT16 - ADMT21  : How many visits to various types of outpatient facilities for mental health\n",
    "\n",
    "<br>AGE3: age (intervals of 2, e.g. 1 = age 12 or 13, up to age 65)\n",
    "<br>IRSEX: gender 1=male, 2=female\n",
    "\n",
    "<br>ADMT01 : AUINPYR : stayed in hospital for mental health\n",
    "<br>ADMT25/ADMTREF25 : AURXYR : taken any medication for mental health\n",
    "\n",
    "<br>YE09 : YEATNDYR : HAs attended some sort of school\n",
    "<br>YE10 : YESCHFLT : how much they like going to school (1-4, 4=hated it)\n",
    "<br>YE23b : YEPRBSLV : participated in self-esteem group\n",
    "\n",
    "<br>NERVE30 : DSTNRV30 : How often felt nervous (1-5, 5=never) in past 30 days\n",
    "<br>HOPE30 : DSTHOP30 : How often feel hopeless\n",
    "<br>NOCHR30 : DSTCHR30 : How often felt depressed\n",
    "<br>DOWN30 : DSTNGD30 : How often feeling down/worthless\n",
    "<br>WORST30 : DSTWORST : In past year has there been a worse month than current (1-2, 2=No)\n",
    "<br>DSNERV1 : DSTNRV12 : in WORST30 month, how often felt nervous\n",
    "<br>DSHOPE : DSTHOP12 : In WORST30 month, how often felt hopeless\n",
    "<br>DSNOCHR : DSTCHR12 : in WORST30 month, how often felt depressed\n",
    "<br>DSDOWN : DSTNGD12 : in WORST30 month, how often felt worthless\n",
    "\n",
    "<br>LICONCEN : IMPCONCN : Difficulty concentrating in their worst month (1-4, 4= severe)\n",
    "<br>LIGOOUT1 : IMPGOUT : Difficulty leaving house\n",
    "<br>LISTRAN1 : IMPPEOP : Difficulty dealing with less known people\n",
    "<br>LISOC1 : IMPSOC : Difficulty participating in social activites\n",
    "<br>LISOC2 : IMPSOCM : Did mental health problems keep from participating socially\n",
    "\n",
    "<br>SUI01 : SUICTHNK : Think about suicide in past year\n",
    "<br>SUI02 : SUIPLANYR :  Plans for suicide\n",
    "\n",
    "<br>ASC21 : ADDPREV : Long periods of feeling sad\n"
   ]
  },
  {
   "cell_type": "code",
   "execution_count": 4,
   "metadata": {},
   "outputs": [],
   "source": [
    "cols = [\"AGE3\",\"IRSEX\",\"AUINPYR\",\"AURXYR\",\"YEATNDYR\",\"YESCHFLT\",\"YEPRBSLV\",\"DSTNRV30\",\"DSTHOP30\",\"DSTCHR30\",\"DSTNGD30\",\"DSTWORST\",\"DSTNRV12\",\"DSTHOP12\",\"DSTCHR12\",\"DSTNGD12\",\"IMPCONCN\",\"IMPGOUT\",\"IMPPEOP\",\"IMPSOC\",\"IMPSOCM\",\"SUICTHNK\",\"SUIPLANYR\",\"ADDPREV\"]\n",
    "cols1819 = [\"AGE2\", \"IRSEX\", \"AUINPYR\",\"AURXYR\",\"YEATNDYR\",\"YESCHFLT\",\"YEPRBSLV\",\"DSTNRV30\",\"DSTHOP30\",\"DSTCHR30\",\"DSTNGD30\",\"DSTWORST\",\"DSTNRV12\",\"DSTHOP12\",\"DSTCHR12\",\"DSTNGD12\",\"IMPCONCN\",\"IMPGOUT\",\"IMPPEOP\",\"IMPSOC\",\"IMPSOCM\",\"SUICTHNK\",\"ADDPREV\"]\n",
    "\n",
    "NSDUH2019_wantedCols = getWantedColumns(NSDUH2019, cols1819)\n",
    "NSDUH2018_wantedCols = getWantedColumns(NSDUH2018, cols1819)\n",
    "NSDUH2021_wantedCols = getWantedColumns(NSDUH2021, cols)"
   ]
  },
  {
   "cell_type": "markdown",
   "metadata": {},
   "source": [
    "Core trends variables:\n",
    "\n",
    "web1a    -\tTwitter\n",
    "web1b    -\tInstagram\n",
    "web1c    -\tFacebook \n",
    "web1d    -\tSnapchat\n",
    "web1e    -\tYouTube\n",
    "\n",
    "How often use social media, 1-5, 5=less often\n",
    "\n",
    "sns2a    -\tTwitter\n",
    "sns2b    -\tInstagram\n",
    "sns2c    -\tFacebook \n",
    "sns2d    -\tSnapchat\n",
    "sns2e    -\tYouTube\n",
    "\n",
    "gender  - gender\n",
    "age     - age\n",
    "\n"
   ]
  },
  {
   "cell_type": "code",
   "execution_count": 5,
   "metadata": {},
   "outputs": [],
   "source": [
    "CoreTrends2021Cols = [\"web1a\", \"web1b\", \"web1c\", \"web1d\", \"web1e\",\"sns2a\", \"sns2b\", \"sns2c\", \"sns2d\", \"sns2e\",\"gender\", \"age\"]\n",
    "CoreTrends2019Cols = [\"web1a\", \"web1b\", \"web1c\", \"web1d\", \"web1e\",\"sns2a\", \"sns2b\", \"sns2c\", \"sns2d\", \"sns2e\",\"sex\", \"age\"]\n",
    "CoreTrends2018Cols = [\"web1a\", \"web1b\", \"web1c\", \"web1d\", \"web1e\",\"sns2a\", \"sns2b\", \"sns2c\", \"sns2d\", \"sns2e\",\"sex\", \"age\"]\n",
    "\n",
    "CoreTrends2021_wantedCols = getWantedColumns(CoreTrends2021, CoreTrends2021Cols)\n",
    "CoreTrends2019_wantedCols = getWantedColumns(CoreTrends2019, CoreTrends2019Cols)\n",
    "CoreTrends2018_wantedCols = getWantedColumns(CoreTrends2018, CoreTrends2018Cols)"
   ]
  },
  {
   "cell_type": "code",
   "execution_count": 6,
   "metadata": {},
   "outputs": [],
   "source": [
    "id = ['age']\n",
    "values = [\"web1a\", \"web1b\", \"web1c\", \"web1d\", \"web1e\"]\n",
    "CoreTrends2018_long = cleanUpCoreTrends(CoreTrends2018_wantedCols, id, values, 2018, False)\n",
    "CoreTrends2019_long = cleanUpCoreTrends(CoreTrends2019_wantedCols, id, values, 2019, False)\n",
    "CoreTrends2021_long = cleanUpCoreTrends(CoreTrends2021_wantedCols, id, values, 2021, False)"
   ]
  },
  {
   "cell_type": "code",
   "execution_count": 7,
   "metadata": {},
   "outputs": [
    {
     "data": {
      "text/html": [
       "<div>\n",
       "<style scoped>\n",
       "    .dataframe tbody tr th:only-of-type {\n",
       "        vertical-align: middle;\n",
       "    }\n",
       "\n",
       "    .dataframe tbody tr th {\n",
       "        vertical-align: top;\n",
       "    }\n",
       "\n",
       "    .dataframe thead th {\n",
       "        text-align: right;\n",
       "    }\n",
       "</style>\n",
       "<table border=\"1\" class=\"dataframe\">\n",
       "  <thead>\n",
       "    <tr style=\"text-align: right;\">\n",
       "      <th></th>\n",
       "      <th>age</th>\n",
       "      <th>variable</th>\n",
       "      <th>value</th>\n",
       "    </tr>\n",
       "  </thead>\n",
       "  <tbody>\n",
       "    <tr>\n",
       "      <th>0</th>\n",
       "      <td>65+</td>\n",
       "      <td>web1a</td>\n",
       "      <td>Doesnt Use Social Media</td>\n",
       "    </tr>\n",
       "    <tr>\n",
       "      <th>1</th>\n",
       "      <td>50-64</td>\n",
       "      <td>web1a</td>\n",
       "      <td>Doesnt Use Social Media</td>\n",
       "    </tr>\n",
       "    <tr>\n",
       "      <th>2</th>\n",
       "      <td>50-64</td>\n",
       "      <td>web1a</td>\n",
       "      <td>Uses Social Media</td>\n",
       "    </tr>\n",
       "    <tr>\n",
       "      <th>3</th>\n",
       "      <td>65+</td>\n",
       "      <td>web1a</td>\n",
       "      <td>Doesnt Use Social Media</td>\n",
       "    </tr>\n",
       "    <tr>\n",
       "      <th>4</th>\n",
       "      <td>50-64</td>\n",
       "      <td>web1a</td>\n",
       "      <td>Doesnt Use Social Media</td>\n",
       "    </tr>\n",
       "    <tr>\n",
       "      <th>...</th>\n",
       "      <td>...</td>\n",
       "      <td>...</td>\n",
       "      <td>...</td>\n",
       "    </tr>\n",
       "    <tr>\n",
       "      <th>7225</th>\n",
       "      <td>65+</td>\n",
       "      <td>web1e</td>\n",
       "      <td>Doesnt Use Social Media</td>\n",
       "    </tr>\n",
       "    <tr>\n",
       "      <th>7226</th>\n",
       "      <td>50-64</td>\n",
       "      <td>web1e</td>\n",
       "      <td>Uses Social Media</td>\n",
       "    </tr>\n",
       "    <tr>\n",
       "      <th>7227</th>\n",
       "      <td>18-25</td>\n",
       "      <td>web1e</td>\n",
       "      <td>Uses Social Media</td>\n",
       "    </tr>\n",
       "    <tr>\n",
       "      <th>7228</th>\n",
       "      <td>50-64</td>\n",
       "      <td>web1e</td>\n",
       "      <td>Uses Social Media</td>\n",
       "    </tr>\n",
       "    <tr>\n",
       "      <th>7229</th>\n",
       "      <td>26-34</td>\n",
       "      <td>web1e</td>\n",
       "      <td>Uses Social Media</td>\n",
       "    </tr>\n",
       "  </tbody>\n",
       "</table>\n",
       "<p>7230 rows × 3 columns</p>\n",
       "</div>"
      ],
      "text/plain": [
       "        age variable                    value\n",
       "0       65+    web1a  Doesnt Use Social Media\n",
       "1     50-64    web1a  Doesnt Use Social Media\n",
       "2     50-64    web1a        Uses Social Media\n",
       "3       65+    web1a  Doesnt Use Social Media\n",
       "4     50-64    web1a  Doesnt Use Social Media\n",
       "...     ...      ...                      ...\n",
       "7225    65+    web1e  Doesnt Use Social Media\n",
       "7226  50-64    web1e        Uses Social Media\n",
       "7227  18-25    web1e        Uses Social Media\n",
       "7228  50-64    web1e        Uses Social Media\n",
       "7229  26-34    web1e        Uses Social Media\n",
       "\n",
       "[7230 rows x 3 columns]"
      ]
     },
     "execution_count": 7,
     "metadata": {},
     "output_type": "execute_result"
    }
   ],
   "source": [
    "CoreTrends2019_long"
   ]
  },
  {
   "cell_type": "code",
   "execution_count": 8,
   "metadata": {},
   "outputs": [
    {
     "data": {
      "text/html": [
       "<div>\n",
       "<style scoped>\n",
       "    .dataframe tbody tr th:only-of-type {\n",
       "        vertical-align: middle;\n",
       "    }\n",
       "\n",
       "    .dataframe tbody tr th {\n",
       "        vertical-align: top;\n",
       "    }\n",
       "\n",
       "    .dataframe thead th {\n",
       "        text-align: right;\n",
       "    }\n",
       "</style>\n",
       "<table border=\"1\" class=\"dataframe\">\n",
       "  <thead>\n",
       "    <tr style=\"text-align: right;\">\n",
       "      <th></th>\n",
       "      <th>age</th>\n",
       "      <th>variable</th>\n",
       "      <th>value</th>\n",
       "    </tr>\n",
       "  </thead>\n",
       "  <tbody>\n",
       "    <tr>\n",
       "      <th>0</th>\n",
       "      <td>26-34</td>\n",
       "      <td>web1a</td>\n",
       "      <td>Doesnt Use Social Media</td>\n",
       "    </tr>\n",
       "    <tr>\n",
       "      <th>1</th>\n",
       "      <td>65+</td>\n",
       "      <td>web1a</td>\n",
       "      <td>Doesnt Use Social Media</td>\n",
       "    </tr>\n",
       "    <tr>\n",
       "      <th>2</th>\n",
       "      <td>50-64</td>\n",
       "      <td>web1a</td>\n",
       "      <td>Doesnt Use Social Media</td>\n",
       "    </tr>\n",
       "    <tr>\n",
       "      <th>3</th>\n",
       "      <td>50-64</td>\n",
       "      <td>web1a</td>\n",
       "      <td>Doesnt Use Social Media</td>\n",
       "    </tr>\n",
       "    <tr>\n",
       "      <th>4</th>\n",
       "      <td>50-64</td>\n",
       "      <td>web1a</td>\n",
       "      <td>Uses Social Media</td>\n",
       "    </tr>\n",
       "    <tr>\n",
       "      <th>...</th>\n",
       "      <td>...</td>\n",
       "      <td>...</td>\n",
       "      <td>...</td>\n",
       "    </tr>\n",
       "    <tr>\n",
       "      <th>9760</th>\n",
       "      <td>65+</td>\n",
       "      <td>web1e</td>\n",
       "      <td>Doesnt Use Social Media</td>\n",
       "    </tr>\n",
       "    <tr>\n",
       "      <th>9761</th>\n",
       "      <td>65+</td>\n",
       "      <td>web1e</td>\n",
       "      <td>Doesnt Use Social Media</td>\n",
       "    </tr>\n",
       "    <tr>\n",
       "      <th>9762</th>\n",
       "      <td>35-49</td>\n",
       "      <td>web1e</td>\n",
       "      <td>Doesnt Use Social Media</td>\n",
       "    </tr>\n",
       "    <tr>\n",
       "      <th>9763</th>\n",
       "      <td>65+</td>\n",
       "      <td>web1e</td>\n",
       "      <td>Doesnt Use Social Media</td>\n",
       "    </tr>\n",
       "    <tr>\n",
       "      <th>9764</th>\n",
       "      <td>26-34</td>\n",
       "      <td>web1e</td>\n",
       "      <td>Uses Social Media</td>\n",
       "    </tr>\n",
       "  </tbody>\n",
       "</table>\n",
       "<p>9765 rows × 3 columns</p>\n",
       "</div>"
      ],
      "text/plain": [
       "        age variable                    value\n",
       "0     26-34    web1a  Doesnt Use Social Media\n",
       "1       65+    web1a  Doesnt Use Social Media\n",
       "2     50-64    web1a  Doesnt Use Social Media\n",
       "3     50-64    web1a  Doesnt Use Social Media\n",
       "4     50-64    web1a        Uses Social Media\n",
       "...     ...      ...                      ...\n",
       "9760    65+    web1e  Doesnt Use Social Media\n",
       "9761    65+    web1e  Doesnt Use Social Media\n",
       "9762  35-49    web1e  Doesnt Use Social Media\n",
       "9763    65+    web1e  Doesnt Use Social Media\n",
       "9764  26-34    web1e        Uses Social Media\n",
       "\n",
       "[9765 rows x 3 columns]"
      ]
     },
     "execution_count": 8,
     "metadata": {},
     "output_type": "execute_result"
    }
   ],
   "source": [
    "CoreTrends2018_long"
   ]
  },
  {
   "cell_type": "code",
   "execution_count": 9,
   "metadata": {},
   "outputs": [],
   "source": [
    "SMUse_sum_CoreTrends2018 = getPercentage(CoreTrends2018_long, \"Uses Social Media\", \"age\", 2018)\n",
    "SMUse_sum_CoreTrends2019 = getPercentage(CoreTrends2019_long, \"Uses Social Media\", \"age\", 2019)\n",
    "SMUse_sum_CoreTrends2021 = getPercentage(CoreTrends2021_long, \"Uses Social Media\", \"age\", 2021)"
   ]
  },
  {
   "cell_type": "code",
   "execution_count": 10,
   "metadata": {},
   "outputs": [],
   "source": [
    "# SMUse_sum_CoreTrends2018['dataset'] = '2018 - Uses Social Media'\n",
    "# SMUse_sum_CoreTrends2019['dataset'] = '2019 - Uses Social Media'\n",
    "# SMUse_sum_CoreTrends2021['dataset'] = '2021 - Uses Social Media'\n",
    "\n",
    "CoreTrends_SMUseSum_concat = pd.concat([SMUse_sum_CoreTrends2018,SMUse_sum_CoreTrends2019, SMUse_sum_CoreTrends2021])"
   ]
  },
  {
   "cell_type": "code",
   "execution_count": 11,
   "metadata": {},
   "outputs": [
    {
     "data": {
      "text/plain": [
       "<Axes: xlabel='age', ylabel='percentage'>"
      ]
     },
     "execution_count": 11,
     "metadata": {},
     "output_type": "execute_result"
    },
    {
     "data": {
      "image/png": "[encoded data removed]",
      "text/plain": [
       "<Figure size 640x480 with 1 Axes>"
      ]
     },
     "metadata": {},
     "output_type": "display_data"
    }
   ],
   "source": [
    "sns.barplot(data=CoreTrends_SMUseSum_concat, x='age', y='percentage', hue='dataset' ,palette='viridis')\n"
   ]
  },
  {
   "cell_type": "code",
   "execution_count": 12,
   "metadata": {},
   "outputs": [],
   "source": [
    "id=['AGE2']\n",
    "id2=['AGE3']\n",
    "# values = ['IRSEX', 'AUINPYR', 'AURXYR', 'YEATNDYR', 'YESCHFLT',\n",
    "#             'YEPRBSLV', 'DSTNRV30', 'DSTHOP30', 'DSTCHR30', 'DSTNGD30', 'DSTWORST',\n",
    "#             'DSTNRV12', 'DSTHOP12', 'DSTCHR12', 'DSTNGD12', 'IMPCONCN', 'IMPGOUT',\n",
    "#             'IMPPEOP', 'IMPSOC', 'IMPSOCM', 'SUICTHNK', 'ADDPREV']\n",
    "values = ['DSTCHR12']\n",
    "\n",
    "NSDUH2018_long = cleanUpNSDUH(NSDUH2018_wantedCols,id,values, 2018)\n",
    "NSDUH2019_long = cleanUpNSDUH(NSDUH2019_wantedCols,id,values, 2019)\n",
    "NSDUH2021_long = cleanUpNSDUH(NSDUH2021_wantedCols,id2,values, 2021)\n"
   ]
  },
  {
   "cell_type": "code",
   "execution_count": 13,
   "metadata": {},
   "outputs": [],
   "source": [
    "percDepressed_NSDUH2018 = getPercentage(NSDUH2018_long, \"Depressed\", \"age\", 2018)\n",
    "percDepressed_NSDUH2019 = getPercentage(NSDUH2019_long, \"Depressed\", \"age\", 2019)\n",
    "percDepressed_NSDUH2021 = getPercentage(NSDUH2021_long, \"Depressed\", \"age\", 2021)"
   ]
  },
  {
   "cell_type": "code",
   "execution_count": 14,
   "metadata": {},
   "outputs": [],
   "source": [
    "# percDepressed_NSDUH2018['dataset'] = '2018 - Depressed'\n",
    "# percDepressed_NSDUH2019['dataset'] = '2019 - Depressed'\n",
    "# percDepressed_NSDUH2021['dataset'] = '2021 - Depressed'\n",
    "\n",
    "NSDUH_concat = pd.concat([percDepressed_NSDUH2018,percDepressed_NSDUH2019,percDepressed_NSDUH2021])"
   ]
  },
  {
   "cell_type": "code",
   "execution_count": 15,
   "metadata": {},
   "outputs": [
    {
     "data": {
      "text/plain": [
       "<matplotlib.legend.Legend at 0x1501be390>"
      ]
     },
     "execution_count": 15,
     "metadata": {},
     "output_type": "execute_result"
    },
    {
     "data": {
      "image/png": "[encoded data removed]",
      "text/plain": [
       "<Figure size 640x480 with 1 Axes>"
      ]
     },
     "metadata": {},
     "output_type": "display_data"
    }
   ],
   "source": [
    "sns.barplot(data=NSDUH_concat, x='age', y='percentage',hue='dataset', palette='bright')\n",
    "sns.barplot(data=CoreTrends_SMUseSum_concat, x='age', y='percentage', hue='dataset' ,palette='dark')\n",
    "\n",
    "plt.title(\"As social media use increases for Millenials & up, so does depression. Inversely so for Gen Z.\")\n",
    "plt.ylabel(\"Percentage\")\n",
    "plt.xlabel(\"Age Group\")\n",
    "plt.legend(loc='upper right', bbox_to_anchor=(1.5, 1))"
   ]
  }
 ],
 "metadata": {
  "kernelspec": {
   "display_name": "cs418",
   "language": "python",
   "name": "python3"
  },
  "language_info": {
   "codemirror_mode": {
    "name": "ipython",
    "version": 3
   },
   "file_extension": ".py",
   "mimetype": "text/x-python",
   "name": "python",
   "nbconvert_exporter": "python",
   "pygments_lexer": "ipython3",
   "version": "3.11.5"
  }
 },
 "nbformat": 4,
 "nbformat_minor": 2
}
