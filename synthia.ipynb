{
 "cells": [
  {
   "cell_type": "markdown",
   "metadata": {},
   "source": [
    "# Synthia's notebook to experiment with the data "
   ]
  },
  {
   "cell_type": "code",
   "execution_count": 1,
   "metadata": {},
   "outputs": [],
   "source": [
    "import numpy as np\n",
    "import pandas as pd\n",
    "%matplotlib inline\n",
    "import matplotlib.pyplot as plt\n",
    "import seaborn as sns\n",
    "from helper_code import *"
   ]
  },
  {
   "cell_type": "markdown",
   "metadata": {},
   "source": [
    "## Load Datasets"
   ]
  },
  {
   "cell_type": "code",
   "execution_count": 2,
   "metadata": {},
   "outputs": [
    {
     "name": "stderr",
     "output_type": "stream",
     "text": [
      "/Users/synth/Documents/UNI/418/group-project-gamon/helper_code.py:17: DtypeWarning: Columns (2799) have mixed types. Specify dtype option on import or set low_memory=False.\n",
      "  data = pd.read_table(path)\n"
     ]
    }
   ],
   "source": [
    "NSDUH2021 = readInData(\"datasets/National Survey on Drug Use and Health 2021/NSDUH_2021_Tab.txt\", \"txt\")\n",
    "# display(NSDUH2021.head())"
   ]
  },
  {
   "cell_type": "code",
   "execution_count": 3,
   "metadata": {},
   "outputs": [
    {
     "name": "stderr",
     "output_type": "stream",
     "text": [
      "/Users/synth/Documents/UNI/418/group-project-gamon/helper_code.py:17: DtypeWarning: Columns (2575) have mixed types. Specify dtype option on import or set low_memory=False.\n",
      "  data = pd.read_table(path)\n"
     ]
    },
    {
     "data": {
      "text/html": [
       "<div>\n",
       "<style scoped>\n",
       "    .dataframe tbody tr th:only-of-type {\n",
       "        vertical-align: middle;\n",
       "    }\n",
       "\n",
       "    .dataframe tbody tr th {\n",
       "        vertical-align: top;\n",
       "    }\n",
       "\n",
       "    .dataframe thead th {\n",
       "        text-align: right;\n",
       "    }\n",
       "</style>\n",
       "<table border=\"1\" class=\"dataframe\">\n",
       "  <thead>\n",
       "    <tr style=\"text-align: right;\">\n",
       "      <th></th>\n",
       "      <th>QUESTID2</th>\n",
       "      <th>FILEDATE</th>\n",
       "      <th>CIGEVER</th>\n",
       "      <th>CIGOFRSM</th>\n",
       "      <th>CIGWILYR</th>\n",
       "      <th>CIGTRY</th>\n",
       "      <th>CIGYFU</th>\n",
       "      <th>CIGMFU</th>\n",
       "      <th>CIGREC</th>\n",
       "      <th>CIG30USE</th>\n",
       "      <th>...</th>\n",
       "      <th>POVERTY3</th>\n",
       "      <th>TOOLONG</th>\n",
       "      <th>TROUBUND</th>\n",
       "      <th>PDEN10</th>\n",
       "      <th>COUTYP4</th>\n",
       "      <th>MAIIN102</th>\n",
       "      <th>AIIND102</th>\n",
       "      <th>ANALWT_C</th>\n",
       "      <th>VESTR</th>\n",
       "      <th>VEREP</th>\n",
       "    </tr>\n",
       "  </thead>\n",
       "  <tbody>\n",
       "    <tr>\n",
       "      <th>0</th>\n",
       "      <td>43295143</td>\n",
       "      <td>10/09/2020</td>\n",
       "      <td>1</td>\n",
       "      <td>99</td>\n",
       "      <td>99</td>\n",
       "      <td>13</td>\n",
       "      <td>9999</td>\n",
       "      <td>99</td>\n",
       "      <td>4</td>\n",
       "      <td>93</td>\n",
       "      <td>...</td>\n",
       "      <td>3.0</td>\n",
       "      <td>2</td>\n",
       "      <td>2</td>\n",
       "      <td>2</td>\n",
       "      <td>2</td>\n",
       "      <td>2</td>\n",
       "      <td>2</td>\n",
       "      <td>6613.865847</td>\n",
       "      <td>40004</td>\n",
       "      <td>2</td>\n",
       "    </tr>\n",
       "    <tr>\n",
       "      <th>1</th>\n",
       "      <td>65095143</td>\n",
       "      <td>10/09/2020</td>\n",
       "      <td>2</td>\n",
       "      <td>99</td>\n",
       "      <td>99</td>\n",
       "      <td>991</td>\n",
       "      <td>9991</td>\n",
       "      <td>91</td>\n",
       "      <td>91</td>\n",
       "      <td>91</td>\n",
       "      <td>...</td>\n",
       "      <td>3.0</td>\n",
       "      <td>2</td>\n",
       "      <td>2</td>\n",
       "      <td>2</td>\n",
       "      <td>2</td>\n",
       "      <td>2</td>\n",
       "      <td>2</td>\n",
       "      <td>6321.580570</td>\n",
       "      <td>40003</td>\n",
       "      <td>1</td>\n",
       "    </tr>\n",
       "    <tr>\n",
       "      <th>2</th>\n",
       "      <td>49405143</td>\n",
       "      <td>10/09/2020</td>\n",
       "      <td>1</td>\n",
       "      <td>99</td>\n",
       "      <td>99</td>\n",
       "      <td>22</td>\n",
       "      <td>9999</td>\n",
       "      <td>99</td>\n",
       "      <td>4</td>\n",
       "      <td>93</td>\n",
       "      <td>...</td>\n",
       "      <td>3.0</td>\n",
       "      <td>2</td>\n",
       "      <td>2</td>\n",
       "      <td>2</td>\n",
       "      <td>2</td>\n",
       "      <td>2</td>\n",
       "      <td>2</td>\n",
       "      <td>5045.607492</td>\n",
       "      <td>40008</td>\n",
       "      <td>1</td>\n",
       "    </tr>\n",
       "    <tr>\n",
       "      <th>3</th>\n",
       "      <td>51015143</td>\n",
       "      <td>10/09/2020</td>\n",
       "      <td>2</td>\n",
       "      <td>99</td>\n",
       "      <td>99</td>\n",
       "      <td>991</td>\n",
       "      <td>9991</td>\n",
       "      <td>91</td>\n",
       "      <td>91</td>\n",
       "      <td>91</td>\n",
       "      <td>...</td>\n",
       "      <td>1.0</td>\n",
       "      <td>2</td>\n",
       "      <td>2</td>\n",
       "      <td>2</td>\n",
       "      <td>2</td>\n",
       "      <td>2</td>\n",
       "      <td>2</td>\n",
       "      <td>2419.558820</td>\n",
       "      <td>40031</td>\n",
       "      <td>1</td>\n",
       "    </tr>\n",
       "    <tr>\n",
       "      <th>4</th>\n",
       "      <td>31825143</td>\n",
       "      <td>10/09/2020</td>\n",
       "      <td>2</td>\n",
       "      <td>99</td>\n",
       "      <td>99</td>\n",
       "      <td>991</td>\n",
       "      <td>9991</td>\n",
       "      <td>91</td>\n",
       "      <td>91</td>\n",
       "      <td>91</td>\n",
       "      <td>...</td>\n",
       "      <td>3.0</td>\n",
       "      <td>2</td>\n",
       "      <td>2</td>\n",
       "      <td>2</td>\n",
       "      <td>2</td>\n",
       "      <td>2</td>\n",
       "      <td>2</td>\n",
       "      <td>575.225454</td>\n",
       "      <td>40010</td>\n",
       "      <td>2</td>\n",
       "    </tr>\n",
       "  </tbody>\n",
       "</table>\n",
       "<p>5 rows × 2741 columns</p>\n",
       "</div>"
      ],
      "text/plain": [
       "   QUESTID2    FILEDATE  CIGEVER  CIGOFRSM  CIGWILYR  CIGTRY  CIGYFU  CIGMFU  \\\n",
       "0  43295143  10/09/2020        1        99        99      13    9999      99   \n",
       "1  65095143  10/09/2020        2        99        99     991    9991      91   \n",
       "2  49405143  10/09/2020        1        99        99      22    9999      99   \n",
       "3  51015143  10/09/2020        2        99        99     991    9991      91   \n",
       "4  31825143  10/09/2020        2        99        99     991    9991      91   \n",
       "\n",
       "   CIGREC  CIG30USE  ...  POVERTY3  TOOLONG  TROUBUND  PDEN10  COUTYP4  \\\n",
       "0       4        93  ...       3.0        2         2       2        2   \n",
       "1      91        91  ...       3.0        2         2       2        2   \n",
       "2       4        93  ...       3.0        2         2       2        2   \n",
       "3      91        91  ...       1.0        2         2       2        2   \n",
       "4      91        91  ...       3.0        2         2       2        2   \n",
       "\n",
       "   MAIIN102  AIIND102     ANALWT_C  VESTR  VEREP  \n",
       "0         2         2  6613.865847  40004      2  \n",
       "1         2         2  6321.580570  40003      1  \n",
       "2         2         2  5045.607492  40008      1  \n",
       "3         2         2  2419.558820  40031      1  \n",
       "4         2         2   575.225454  40010      2  \n",
       "\n",
       "[5 rows x 2741 columns]"
      ]
     },
     "execution_count": 3,
     "metadata": {},
     "output_type": "execute_result"
    }
   ],
   "source": [
    "NSDUH2019 = readInData(\"datasets/National Survey on Drug Use and Health 2019/NSDUH_2019_Tab.txt\", \"txt\")\n",
    "# display(NSDUH2019.head())\n",
    "NSDUH2019.head()"
   ]
  },
  {
   "cell_type": "code",
   "execution_count": 4,
   "metadata": {},
   "outputs": [
    {
     "name": "stderr",
     "output_type": "stream",
     "text": [
      "/Users/synth/Documents/UNI/418/group-project-gamon/helper_code.py:17: DtypeWarning: Columns (2525) have mixed types. Specify dtype option on import or set low_memory=False.\n",
      "  data = pd.read_table(path)\n"
     ]
    },
    {
     "data": {
      "text/html": [
       "<div>\n",
       "<style scoped>\n",
       "    .dataframe tbody tr th:only-of-type {\n",
       "        vertical-align: middle;\n",
       "    }\n",
       "\n",
       "    .dataframe tbody tr th {\n",
       "        vertical-align: top;\n",
       "    }\n",
       "\n",
       "    .dataframe thead th {\n",
       "        text-align: right;\n",
       "    }\n",
       "</style>\n",
       "<table border=\"1\" class=\"dataframe\">\n",
       "  <thead>\n",
       "    <tr style=\"text-align: right;\">\n",
       "      <th></th>\n",
       "      <th>QUESTID2</th>\n",
       "      <th>FILEDATE</th>\n",
       "      <th>CIGEVER</th>\n",
       "      <th>CIGOFRSM</th>\n",
       "      <th>CIGWILYR</th>\n",
       "      <th>CIGTRY</th>\n",
       "      <th>CIGYFU</th>\n",
       "      <th>CIGMFU</th>\n",
       "      <th>CIGREC</th>\n",
       "      <th>CIG30USE</th>\n",
       "      <th>...</th>\n",
       "      <th>POVERTY3</th>\n",
       "      <th>TOOLONG</th>\n",
       "      <th>TROUBUND</th>\n",
       "      <th>PDEN10</th>\n",
       "      <th>COUTYP4</th>\n",
       "      <th>MAIIN102</th>\n",
       "      <th>AIIND102</th>\n",
       "      <th>ANALWT_C</th>\n",
       "      <th>VESTR</th>\n",
       "      <th>VEREP</th>\n",
       "    </tr>\n",
       "  </thead>\n",
       "  <tbody>\n",
       "    <tr>\n",
       "      <th>0</th>\n",
       "      <td>11015143</td>\n",
       "      <td>10/08/2019</td>\n",
       "      <td>1</td>\n",
       "      <td>99</td>\n",
       "      <td>99</td>\n",
       "      <td>12</td>\n",
       "      <td>9999</td>\n",
       "      <td>99</td>\n",
       "      <td>1</td>\n",
       "      <td>20</td>\n",
       "      <td>...</td>\n",
       "      <td>3.0</td>\n",
       "      <td>2</td>\n",
       "      <td>2</td>\n",
       "      <td>1</td>\n",
       "      <td>1</td>\n",
       "      <td>2</td>\n",
       "      <td>2</td>\n",
       "      <td>20783.261908</td>\n",
       "      <td>40001</td>\n",
       "      <td>1</td>\n",
       "    </tr>\n",
       "    <tr>\n",
       "      <th>1</th>\n",
       "      <td>86325143</td>\n",
       "      <td>10/08/2019</td>\n",
       "      <td>2</td>\n",
       "      <td>99</td>\n",
       "      <td>99</td>\n",
       "      <td>991</td>\n",
       "      <td>9991</td>\n",
       "      <td>91</td>\n",
       "      <td>91</td>\n",
       "      <td>91</td>\n",
       "      <td>...</td>\n",
       "      <td>2.0</td>\n",
       "      <td>2</td>\n",
       "      <td>2</td>\n",
       "      <td>3</td>\n",
       "      <td>3</td>\n",
       "      <td>2</td>\n",
       "      <td>2</td>\n",
       "      <td>1095.884074</td>\n",
       "      <td>40004</td>\n",
       "      <td>1</td>\n",
       "    </tr>\n",
       "    <tr>\n",
       "      <th>2</th>\n",
       "      <td>35425143</td>\n",
       "      <td>10/08/2019</td>\n",
       "      <td>1</td>\n",
       "      <td>99</td>\n",
       "      <td>99</td>\n",
       "      <td>13</td>\n",
       "      <td>9999</td>\n",
       "      <td>99</td>\n",
       "      <td>4</td>\n",
       "      <td>93</td>\n",
       "      <td>...</td>\n",
       "      <td>3.0</td>\n",
       "      <td>2</td>\n",
       "      <td>2</td>\n",
       "      <td>2</td>\n",
       "      <td>2</td>\n",
       "      <td>2</td>\n",
       "      <td>2</td>\n",
       "      <td>374.445005</td>\n",
       "      <td>40017</td>\n",
       "      <td>2</td>\n",
       "    </tr>\n",
       "    <tr>\n",
       "      <th>3</th>\n",
       "      <td>98125143</td>\n",
       "      <td>10/08/2019</td>\n",
       "      <td>2</td>\n",
       "      <td>99</td>\n",
       "      <td>99</td>\n",
       "      <td>991</td>\n",
       "      <td>9991</td>\n",
       "      <td>91</td>\n",
       "      <td>91</td>\n",
       "      <td>91</td>\n",
       "      <td>...</td>\n",
       "      <td>2.0</td>\n",
       "      <td>2</td>\n",
       "      <td>2</td>\n",
       "      <td>2</td>\n",
       "      <td>2</td>\n",
       "      <td>2</td>\n",
       "      <td>2</td>\n",
       "      <td>2421.263435</td>\n",
       "      <td>40038</td>\n",
       "      <td>2</td>\n",
       "    </tr>\n",
       "    <tr>\n",
       "      <th>4</th>\n",
       "      <td>15945143</td>\n",
       "      <td>10/08/2019</td>\n",
       "      <td>2</td>\n",
       "      <td>99</td>\n",
       "      <td>99</td>\n",
       "      <td>991</td>\n",
       "      <td>9991</td>\n",
       "      <td>91</td>\n",
       "      <td>91</td>\n",
       "      <td>91</td>\n",
       "      <td>...</td>\n",
       "      <td>2.0</td>\n",
       "      <td>1</td>\n",
       "      <td>2</td>\n",
       "      <td>1</td>\n",
       "      <td>1</td>\n",
       "      <td>2</td>\n",
       "      <td>2</td>\n",
       "      <td>6637.319591</td>\n",
       "      <td>40040</td>\n",
       "      <td>2</td>\n",
       "    </tr>\n",
       "  </tbody>\n",
       "</table>\n",
       "<p>5 rows × 2691 columns</p>\n",
       "</div>"
      ],
      "text/plain": [
       "   QUESTID2    FILEDATE  CIGEVER  CIGOFRSM  CIGWILYR  CIGTRY  CIGYFU  CIGMFU  \\\n",
       "0  11015143  10/08/2019        1        99        99      12    9999      99   \n",
       "1  86325143  10/08/2019        2        99        99     991    9991      91   \n",
       "2  35425143  10/08/2019        1        99        99      13    9999      99   \n",
       "3  98125143  10/08/2019        2        99        99     991    9991      91   \n",
       "4  15945143  10/08/2019        2        99        99     991    9991      91   \n",
       "\n",
       "   CIGREC  CIG30USE  ...  POVERTY3  TOOLONG  TROUBUND  PDEN10  COUTYP4  \\\n",
       "0       1        20  ...       3.0        2         2       1        1   \n",
       "1      91        91  ...       2.0        2         2       3        3   \n",
       "2       4        93  ...       3.0        2         2       2        2   \n",
       "3      91        91  ...       2.0        2         2       2        2   \n",
       "4      91        91  ...       2.0        1         2       1        1   \n",
       "\n",
       "   MAIIN102  AIIND102      ANALWT_C  VESTR  VEREP  \n",
       "0         2         2  20783.261908  40001      1  \n",
       "1         2         2   1095.884074  40004      1  \n",
       "2         2         2    374.445005  40017      2  \n",
       "3         2         2   2421.263435  40038      2  \n",
       "4         2         2   6637.319591  40040      2  \n",
       "\n",
       "[5 rows x 2691 columns]"
      ]
     },
     "execution_count": 4,
     "metadata": {},
     "output_type": "execute_result"
    }
   ],
   "source": [
    "NSDUH2018 = readInData(\"datasets/National Survey on Drug Use and Health 2018/NSDUH_2018_Tab.tsv\", \"tsv\")\n",
    "NSDUH2018.head()"
   ]
  },
  {
   "cell_type": "code",
   "execution_count": 5,
   "metadata": {},
   "outputs": [],
   "source": [
    "CoreTrends2021 = readInData(\"datasets/Jan-25-Feb-8-2021-Core-Trends-Survey/Jan 25-Feb 8, 2021 - Core Trends Survey - CSV.csv\", \"csv\")\n",
    "# display(CoreTrends2021.head())"
   ]
  },
  {
   "cell_type": "code",
   "execution_count": 6,
   "metadata": {},
   "outputs": [],
   "source": [
    "CoreTrends2019 = readInData(\"datasets/January-8-February-7-2019-Core-Trends-Survey-SPSS/January 8-February 7, 2019 - Core Trends Survey - CSV.csv\", \"csv\")\n",
    "# display(CoreTrends2019.head())"
   ]
  },
  {
   "cell_type": "code",
   "execution_count": 7,
   "metadata": {},
   "outputs": [
    {
     "data": {
      "text/html": [
       "<div>\n",
       "<style scoped>\n",
       "    .dataframe tbody tr th:only-of-type {\n",
       "        vertical-align: middle;\n",
       "    }\n",
       "\n",
       "    .dataframe tbody tr th {\n",
       "        vertical-align: top;\n",
       "    }\n",
       "\n",
       "    .dataframe thead th {\n",
       "        text-align: right;\n",
       "    }\n",
       "</style>\n",
       "<table border=\"1\" class=\"dataframe\">\n",
       "  <thead>\n",
       "    <tr style=\"text-align: right;\">\n",
       "      <th></th>\n",
       "      <th>respid</th>\n",
       "      <th>sample</th>\n",
       "      <th>comp</th>\n",
       "      <th>int_date</th>\n",
       "      <th>lang</th>\n",
       "      <th>cregion</th>\n",
       "      <th>state</th>\n",
       "      <th>density</th>\n",
       "      <th>usr</th>\n",
       "      <th>qs1</th>\n",
       "      <th>...</th>\n",
       "      <th>inc</th>\n",
       "      <th>party</th>\n",
       "      <th>partyln</th>\n",
       "      <th>hh1</th>\n",
       "      <th>hh3</th>\n",
       "      <th>ql1</th>\n",
       "      <th>ql1a</th>\n",
       "      <th>qc1</th>\n",
       "      <th>weight</th>\n",
       "      <th>cellweight</th>\n",
       "    </tr>\n",
       "  </thead>\n",
       "  <tbody>\n",
       "    <tr>\n",
       "      <th>0</th>\n",
       "      <td>1</td>\n",
       "      <td>1</td>\n",
       "      <td>1</td>\n",
       "      <td>180103</td>\n",
       "      <td>1</td>\n",
       "      <td>1</td>\n",
       "      <td>42</td>\n",
       "      <td>5</td>\n",
       "      <td>U</td>\n",
       "      <td></td>\n",
       "      <td>...</td>\n",
       "      <td>6</td>\n",
       "      <td>2</td>\n",
       "      <td></td>\n",
       "      <td>5</td>\n",
       "      <td>4</td>\n",
       "      <td>1</td>\n",
       "      <td></td>\n",
       "      <td></td>\n",
       "      <td>1.746359</td>\n",
       "      <td></td>\n",
       "    </tr>\n",
       "    <tr>\n",
       "      <th>1</th>\n",
       "      <td>2</td>\n",
       "      <td>1</td>\n",
       "      <td>1</td>\n",
       "      <td>180103</td>\n",
       "      <td>1</td>\n",
       "      <td>3</td>\n",
       "      <td>45</td>\n",
       "      <td>2</td>\n",
       "      <td>S</td>\n",
       "      <td></td>\n",
       "      <td>...</td>\n",
       "      <td>4</td>\n",
       "      <td>3</td>\n",
       "      <td>8</td>\n",
       "      <td>2</td>\n",
       "      <td>2</td>\n",
       "      <td>2</td>\n",
       "      <td>2</td>\n",
       "      <td></td>\n",
       "      <td>1.659764</td>\n",
       "      <td></td>\n",
       "    </tr>\n",
       "    <tr>\n",
       "      <th>2</th>\n",
       "      <td>3</td>\n",
       "      <td>1</td>\n",
       "      <td>1</td>\n",
       "      <td>180103</td>\n",
       "      <td>1</td>\n",
       "      <td>1</td>\n",
       "      <td>34</td>\n",
       "      <td>5</td>\n",
       "      <td>S</td>\n",
       "      <td></td>\n",
       "      <td>...</td>\n",
       "      <td>4</td>\n",
       "      <td>1</td>\n",
       "      <td></td>\n",
       "      <td>1</td>\n",
       "      <td></td>\n",
       "      <td>1</td>\n",
       "      <td></td>\n",
       "      <td></td>\n",
       "      <td>0.490804</td>\n",
       "      <td></td>\n",
       "    </tr>\n",
       "    <tr>\n",
       "      <th>3</th>\n",
       "      <td>4</td>\n",
       "      <td>1</td>\n",
       "      <td>1</td>\n",
       "      <td>180103</td>\n",
       "      <td>1</td>\n",
       "      <td>3</td>\n",
       "      <td>24</td>\n",
       "      <td>4</td>\n",
       "      <td>S</td>\n",
       "      <td></td>\n",
       "      <td>...</td>\n",
       "      <td>2</td>\n",
       "      <td>2</td>\n",
       "      <td></td>\n",
       "      <td>2</td>\n",
       "      <td>2</td>\n",
       "      <td>1</td>\n",
       "      <td></td>\n",
       "      <td></td>\n",
       "      <td>0.947965</td>\n",
       "      <td></td>\n",
       "    </tr>\n",
       "    <tr>\n",
       "      <th>4</th>\n",
       "      <td>5</td>\n",
       "      <td>1</td>\n",
       "      <td>1</td>\n",
       "      <td>180103</td>\n",
       "      <td>1</td>\n",
       "      <td>1</td>\n",
       "      <td>33</td>\n",
       "      <td>2</td>\n",
       "      <td>R</td>\n",
       "      <td></td>\n",
       "      <td>...</td>\n",
       "      <td>7</td>\n",
       "      <td>1</td>\n",
       "      <td></td>\n",
       "      <td>3</td>\n",
       "      <td>3</td>\n",
       "      <td>1</td>\n",
       "      <td></td>\n",
       "      <td></td>\n",
       "      <td>0.915959</td>\n",
       "      <td></td>\n",
       "    </tr>\n",
       "  </tbody>\n",
       "</table>\n",
       "<p>5 rows × 70 columns</p>\n",
       "</div>"
      ],
      "text/plain": [
       "   respid  sample  comp  int_date  lang  cregion  state  density usr qs1  ...  \\\n",
       "0       1       1     1    180103     1        1     42        5   U      ...   \n",
       "1       2       1     1    180103     1        3     45        2   S      ...   \n",
       "2       3       1     1    180103     1        1     34        5   S      ...   \n",
       "3       4       1     1    180103     1        3     24        4   S      ...   \n",
       "4       5       1     1    180103     1        1     33        2   R      ...   \n",
       "\n",
       "   inc  party  partyln hh1 hh3 ql1 ql1a qc1    weight  cellweight  \n",
       "0    6      2            5   4   1           1.746359              \n",
       "1    4      3        8   2   2   2    2      1.659764              \n",
       "2    4      1            1       1           0.490804              \n",
       "3    2      2            2   2   1           0.947965              \n",
       "4    7      1            3   3   1           0.915959              \n",
       "\n",
       "[5 rows x 70 columns]"
      ]
     },
     "metadata": {},
     "output_type": "display_data"
    }
   ],
   "source": [
    "CoreTrends2018 = readInData(\"datasets/January 3-10, 2018 - Core Trends Survey/January 3-10, 2018 - Core Trends Survey - CSV.csv\", \"csv\")\n",
    "display(CoreTrends2018.head())"
   ]
  },
  {
   "cell_type": "markdown",
   "metadata": {},
   "source": [
    "## Clean up data"
   ]
  },
  {
   "cell_type": "markdown",
   "metadata": {},
   "source": [
    "\n",
    "###ADMT16 - ADMT21  : How many visits to various types of outpatient facilities for mental health\n",
    "\n",
    "<br>AGE3: age (intervals of 2, e.g. 1 = age 12 or 13, up to age 65)\n",
    "<br>IRSEX: gender 1=male, 2=female\n",
    "\n",
    "<br>ADMT01 : AUINPYR : stayed in hospital for mental health\n",
    "<br>ADMT25/ADMTREF25 : AURXYR : taken any medication for mental health\n",
    "\n",
    "<br>YE09 : YEATNDYR : HAs attended some sort of school\n",
    "<br>YE10 : YESCHFLT : how much they like going to school (1-4, 4=hated it)\n",
    "<br>YE23b : YEPRBSLV : participated in self-esteem group\n",
    "\n",
    "<br>NERVE30 : DSTNRV30 : How often felt nervous (1-5, 5=never) in past 30 days\n",
    "<br>HOPE30 : DSTHOP30 : How often feel hopeless\n",
    "<br>NOCHR30 : DSTCHR30 : How often felt depressed\n",
    "<br>DOWN30 : DSTNGD30 : How often feeling down/worthless\n",
    "<br>WORST30 : DSTWORST : In past year has there been a worse month than current (1-2, 2=No)\n",
    "<br>DSNERV1 : DSTNRV12 : in WORST30 month, how often felt nervous\n",
    "<br>DSHOPE : DSTHOP12 : In WORST30 month, how often felt hopeless\n",
    "<br>DSNOCHR : DSTCHR12 : in WORST30 month, how often felt depressed\n",
    "<br>DSDOWN : DSTNGD12 : in WORST30 month, how often felt worthless\n",
    "\n",
    "<br>LICONCEN : IMPCONCN : Difficulty concentrating in their worst month (1-4, 4= severe)\n",
    "<br>LIGOOUT1 : IMPGOUT : Difficulty leaving house\n",
    "<br>LISTRAN1 : IMPPEOP : Difficulty dealing with less known people\n",
    "<br>LISOC1 : IMPSOC : Difficulty participating in social activites\n",
    "<br>LISOC2 : IMPSOCM : Did mental health problems keep from participating socially\n",
    "\n",
    "<br>SUI01 : SUICTHNK : Think about suicide in past year\n",
    "<br>SUI02 : SUIPLANYR :  Plans for suicide\n",
    "\n",
    "<br>ASC21 : ADDPREV : Long periods of feeling sad\n"
   ]
  },
  {
   "cell_type": "code",
   "execution_count": 8,
   "metadata": {},
   "outputs": [],
   "source": [
    "cols = [\"AGE3\",\"IRSEX\",\"AUINPYR\",\"AURXYR\",\"YEATNDYR\",\"YESCHFLT\",\"YEPRBSLV\",\"DSTNRV30\",\"DSTHOP30\",\"DSTCHR30\",\"DSTNGD30\",\"DSTWORST\",\"DSTNRV12\",\"DSTHOP12\",\"DSTCHR12\",\"DSTNGD12\",\"IMPCONCN\",\"IMPGOUT\",\"IMPPEOP\",\"IMPSOC\",\"IMPSOCM\",\"SUICTHNK\",\"SUIPLANYR\",\"ADDPREV\"]\n",
    "\n",
    "NSDUH2021_wantedCols = getWantedColumns(NSDUH2021, cols)"
   ]
  },
  {
   "cell_type": "code",
   "execution_count": 9,
   "metadata": {},
   "outputs": [
    {
     "data": {
      "text/plain": [
       "Index(['AGE2', 'IRSEX', 'AUINPYR', 'AURXYR', 'YEATNDYR', 'YESCHFLT',\n",
       "       'YEPRBSLV', 'DSTNRV30', 'DSTHOP30', 'DSTCHR30', 'DSTNGD30', 'DSTWORST',\n",
       "       'DSTNRV12', 'DSTHOP12', 'DSTCHR12', 'DSTNGD12', 'IMPCONCN', 'IMPGOUT',\n",
       "       'IMPPEOP', 'IMPSOC', 'IMPSOCM', 'SUICTHNK', 'ADDPREV'],\n",
       "      dtype='object')"
      ]
     },
     "execution_count": 9,
     "metadata": {},
     "output_type": "execute_result"
    }
   ],
   "source": [
    "#Removed \"SUIPLANYR\" because its not present\n",
    "cols = [\"AGE2\", \"IRSEX\", \"AUINPYR\",\"AURXYR\",\"YEATNDYR\",\"YESCHFLT\",\"YEPRBSLV\",\"DSTNRV30\",\"DSTHOP30\",\"DSTCHR30\",\"DSTNGD30\",\"DSTWORST\",\"DSTNRV12\",\"DSTHOP12\",\"DSTCHR12\",\"DSTNGD12\",\"IMPCONCN\",\"IMPGOUT\",\"IMPPEOP\",\"IMPSOC\",\"IMPSOCM\",\"SUICTHNK\",\"ADDPREV\"]\n",
    "\n",
    "NSDUH2019_wantedCols = getWantedColumns(NSDUH2019, cols)\n",
    "NSDUH2019_wantedCols.columns"
   ]
  },
  {
   "cell_type": "code",
   "execution_count": 10,
   "metadata": {},
   "outputs": [],
   "source": [
    "NSDUH2018_wantedCols = getWantedColumns(NSDUH2018, cols)\n"
   ]
  },
  {
   "cell_type": "markdown",
   "metadata": {},
   "source": [
    "Core trends variables:\n",
    "\n",
    "web1a    -\tTwitter\n",
    "web1b    -\tInstagram\n",
    "web1c    -\tFacebook \n",
    "web1d    -\tSnapchat\n",
    "web1e    -\tYouTube\n",
    "\n",
    "How often use social media, 1-5, 5=less often\n",
    "\n",
    "sns2a    -\tTwitter\n",
    "sns2b    -\tInstagram\n",
    "sns2c    -\tFacebook \n",
    "sns2d    -\tSnapchat\n",
    "sns2e    -\tYouTube\n",
    "\n",
    "gender  - gender\n",
    "age     - age\n",
    "\n"
   ]
  },
  {
   "cell_type": "code",
   "execution_count": 11,
   "metadata": {},
   "outputs": [],
   "source": [
    "CoreTrends2021Cols = [\"web1a\", \"web1b\", \"web1c\", \"web1d\", \"web1e\",\"sns2a\", \"sns2b\", \"sns2c\", \"sns2d\", \"sns2e\",\"gender\", \"age\"]\n",
    "\n",
    "CoreTrends2021_wantedCols = getWantedColumns(CoreTrends2021, CoreTrends2021Cols)"
   ]
  },
  {
   "cell_type": "code",
   "execution_count": 12,
   "metadata": {},
   "outputs": [],
   "source": [
    "CoreTrends2019Cols = [\"web1a\", \"web1b\", \"web1c\", \"web1d\", \"web1e\",\"sns2a\", \"sns2b\", \"sns2c\", \"sns2d\", \"sns2e\",\"sex\", \"age\"]\n",
    "\n",
    "CoreTrends2019_wantedCols = getWantedColumns(CoreTrends2019, CoreTrends2019Cols)"
   ]
  },
  {
   "cell_type": "code",
   "execution_count": 17,
   "metadata": {},
   "outputs": [],
   "source": [
    "# CoreTrends2018Cols = [\"respid\", \"web1a\", \"web1b\", \"web1c\", \"web1d\", \"web1e\",\"sns2a\", \"sns2b\", \"sns2c\", \"sns2d\", \"sns2e\",\"sex\", \"age\"]\n",
    "\n",
    "CoreTrends2018Cols = [\"web1a\", \"web1b\", \"web1c\", \"web1d\", \"web1e\",\"sns2a\", \"sns2b\", \"sns2c\", \"sns2d\", \"sns2e\",\"sex\", \"age\"]\n",
    "\n",
    "CoreTrends2018_wantedCols = getWantedColumns(CoreTrends2018, CoreTrends2018Cols)"
   ]
  },
  {
   "cell_type": "code",
   "execution_count": 14,
   "metadata": {},
   "outputs": [
    {
     "data": {
      "text/html": [
       "<div>\n",
       "<style scoped>\n",
       "    .dataframe tbody tr th:only-of-type {\n",
       "        vertical-align: middle;\n",
       "    }\n",
       "\n",
       "    .dataframe tbody tr th {\n",
       "        vertical-align: top;\n",
       "    }\n",
       "\n",
       "    .dataframe thead th {\n",
       "        text-align: right;\n",
       "    }\n",
       "</style>\n",
       "<table border=\"1\" class=\"dataframe\">\n",
       "  <thead>\n",
       "    <tr style=\"text-align: right;\">\n",
       "      <th></th>\n",
       "      <th>web1a</th>\n",
       "      <th>web1b</th>\n",
       "      <th>web1c</th>\n",
       "      <th>web1d</th>\n",
       "      <th>web1e</th>\n",
       "      <th>sns2a</th>\n",
       "      <th>sns2b</th>\n",
       "      <th>sns2c</th>\n",
       "      <th>sns2d</th>\n",
       "      <th>sns2e</th>\n",
       "      <th>sex</th>\n",
       "      <th>age</th>\n",
       "    </tr>\n",
       "  </thead>\n",
       "  <tbody>\n",
       "    <tr>\n",
       "      <th>0</th>\n",
       "      <td>2</td>\n",
       "      <td>1</td>\n",
       "      <td>1</td>\n",
       "      <td>1</td>\n",
       "      <td>1</td>\n",
       "      <td></td>\n",
       "      <td>1</td>\n",
       "      <td>1</td>\n",
       "      <td>3</td>\n",
       "      <td>3</td>\n",
       "      <td>2</td>\n",
       "      <td>33</td>\n",
       "    </tr>\n",
       "    <tr>\n",
       "      <th>1</th>\n",
       "      <td>2</td>\n",
       "      <td>2</td>\n",
       "      <td>2</td>\n",
       "      <td>2</td>\n",
       "      <td>2</td>\n",
       "      <td></td>\n",
       "      <td></td>\n",
       "      <td></td>\n",
       "      <td></td>\n",
       "      <td></td>\n",
       "      <td>2</td>\n",
       "      <td>76</td>\n",
       "    </tr>\n",
       "    <tr>\n",
       "      <th>2</th>\n",
       "      <td>2</td>\n",
       "      <td>2</td>\n",
       "      <td>2</td>\n",
       "      <td>2</td>\n",
       "      <td>2</td>\n",
       "      <td></td>\n",
       "      <td></td>\n",
       "      <td></td>\n",
       "      <td></td>\n",
       "      <td></td>\n",
       "      <td>2</td>\n",
       "      <td>99</td>\n",
       "    </tr>\n",
       "    <tr>\n",
       "      <th>3</th>\n",
       "      <td>2</td>\n",
       "      <td>2</td>\n",
       "      <td>1</td>\n",
       "      <td>2</td>\n",
       "      <td>2</td>\n",
       "      <td></td>\n",
       "      <td></td>\n",
       "      <td>3</td>\n",
       "      <td></td>\n",
       "      <td></td>\n",
       "      <td>2</td>\n",
       "      <td>60</td>\n",
       "    </tr>\n",
       "    <tr>\n",
       "      <th>4</th>\n",
       "      <td>2</td>\n",
       "      <td>2</td>\n",
       "      <td>1</td>\n",
       "      <td>2</td>\n",
       "      <td>1</td>\n",
       "      <td></td>\n",
       "      <td></td>\n",
       "      <td>3</td>\n",
       "      <td></td>\n",
       "      <td>2</td>\n",
       "      <td>1</td>\n",
       "      <td>55</td>\n",
       "    </tr>\n",
       "  </tbody>\n",
       "</table>\n",
       "</div>"
      ],
      "text/plain": [
       "  web1a web1b web1c web1d web1e sns2a sns2b sns2c sns2d sns2e  sex  age\n",
       "0     2     1     1     1     1           1     1     3     3    2   33\n",
       "1     2     2     2     2     2                                  2   76\n",
       "2     2     2     2     2     2                                  2   99\n",
       "3     2     2     1     2     2                 3                2   60\n",
       "4     2     2     1     2     1                 3           2    1   55"
      ]
     },
     "execution_count": 14,
     "metadata": {},
     "output_type": "execute_result"
    }
   ],
   "source": [
    "CoreTrends2018_wantedCols.head()"
   ]
  },
  {
   "cell_type": "code",
   "execution_count": 32,
   "metadata": {},
   "outputs": [
    {
     "data": {
      "text/plain": [
       "Index(['AGE2', 'IRSEX', 'AUINPYR', 'AURXYR', 'YEATNDYR', 'YESCHFLT',\n",
       "       'YEPRBSLV', 'DSTNRV30', 'DSTHOP30', 'DSTCHR30', 'DSTNGD30', 'DSTWORST',\n",
       "       'DSTNRV12', 'DSTHOP12', 'DSTCHR12', 'DSTNGD12', 'IMPCONCN', 'IMPGOUT',\n",
       "       'IMPPEOP', 'IMPSOC', 'IMPSOCM', 'SUICTHNK', 'ADDPREV'],\n",
       "      dtype='object')"
      ]
     },
     "execution_count": 32,
     "metadata": {},
     "output_type": "execute_result"
    }
   ],
   "source": [
    "NSDUH2018_wantedCols.columns"
   ]
  },
  {
   "cell_type": "code",
   "execution_count": 30,
   "metadata": {},
   "outputs": [
    {
     "ename": "NameError",
     "evalue": "name 'cleanUpNSDUH' is not defined",
     "output_type": "error",
     "traceback": [
      "\u001b[0;31m---------------------------------------------------------------------------\u001b[0m",
      "\u001b[0;31mNameError\u001b[0m                                 Traceback (most recent call last)",
      "Cell \u001b[0;32mIn[30], line 1\u001b[0m\n\u001b[0;32m----> 1\u001b[0m NSDUH2018_wantedCols \u001b[38;5;241m=\u001b[39m cleanUpNSDUH(NSDUH2018_wantedCols)\n",
      "\u001b[0;31mNameError\u001b[0m: name 'cleanUpNSDUH' is not defined"
     ]
    }
   ],
   "source": [
    "NSDUH2018_wantedCols = cleanUpNSDUH(NSDUH2018_wantedCols)"
   ]
  },
  {
   "cell_type": "code",
   "execution_count": 33,
   "metadata": {},
   "outputs": [],
   "source": [
    "longForm_NSDUH2018 = pd.melt(NSDUH2018_wantedCols, id_vars=['AGE2'], value_vars=['IRSEX', 'AUINPYR', 'AURXYR', 'YEATNDYR', 'YESCHFLT',\n",
    "       'YEPRBSLV', 'DSTNRV30', 'DSTHOP30', 'DSTCHR30', 'DSTNGD30', 'DSTWORST',\n",
    "       'DSTNRV12', 'DSTHOP12', 'DSTCHR12', 'DSTNGD12', 'IMPCONCN', 'IMPGOUT',\n",
    "       'IMPPEOP', 'IMPSOC', 'IMPSOCM', 'SUICTHNK', 'ADDPREV'])"
   ]
  },
  {
   "cell_type": "code",
   "execution_count": null,
   "metadata": {},
   "outputs": [],
   "source": [
    "print(longForm_NSDUH2018)"
   ]
  },
  {
   "cell_type": "code",
   "execution_count": null,
   "metadata": {},
   "outputs": [
    {
     "name": "stdout",
     "output_type": "stream",
     "text": [
      "Index(['AGE2', 'IRSEX', 'AUINPYR', 'AURXYR', 'YEATNDYR', 'YESCHFLT',\n",
      "       'YEPRBSLV', 'DSTNRV30', 'DSTHOP30', 'DSTCHR30', 'DSTNGD30', 'DSTWORST',\n",
      "       'DSTNRV12', 'DSTHOP12', 'DSTCHR12', 'DSTNGD12', 'IMPCONCN', 'IMPGOUT',\n",
      "       'IMPPEOP', 'IMPSOC', 'IMPSOCM', 'SUICTHNK', 'ADDPREV'],\n",
      "      dtype='object')\n",
      "Index(['web1a', 'web1b', 'web1c', 'web1d', 'web1e', 'sns2a', 'sns2b', 'sns2c',\n",
      "       'sns2d', 'sns2e', 'sex', 'age'],\n",
      "      dtype='object')\n"
     ]
    },
    {
     "data": {
      "text/plain": [
       "(2002, 12)"
      ]
     },
     "execution_count": 16,
     "metadata": {},
     "output_type": "execute_result"
    }
   ],
   "source": [
    "print(NSDUH2018_wantedCols.columns)\n",
    "print(CoreTrends2018_wantedCols.columns)\n",
    "CoreTrends2018_wantedCols.shape"
   ]
  },
  {
   "cell_type": "code",
   "execution_count": null,
   "metadata": {},
   "outputs": [],
   "source": []
  },
  {
   "cell_type": "markdown",
   "metadata": {},
   "source": [
    "Map the ages from CoreTrends to match the age ranges in NSDUH for simplicity"
   ]
  },
  {
   "cell_type": "code",
   "execution_count": null,
   "metadata": {},
   "outputs": [],
   "source": [
    "age_mapping_CoreToNSDUH2018 = { 12: 1, 13: 2, 14: 3, 15: 4, 16: 5, 17: 6, 18: 7, 19: 8, 20: 9, 21: 10, 22: 11, 23: 11, 24: 12, 25: 12, \n",
    "                                   **{age: 13 for age in range(26, 30)}, **{age: 14 for age in range(30, 35)}, **{age: 15 for age in range(35, 50)}, **{age: 16 for age in range(50, 65)}, **{age: 17 for age in range(65, 100)}}\n",
    "CoreTrends2018_wantedCols['age'] = CoreTrends2018_wantedCols['age'].map(age_mapping_CoreToNSDUH2018)\n",
    "CoreTrends2018_wantedCols['age']  = CoreTrends2018_wantedCols['age'].astype('Int64')"
   ]
  },
  {
   "cell_type": "code",
   "execution_count": null,
   "metadata": {},
   "outputs": [],
   "source": [
    "NSDUH2018_wantedCols['AGE2']  = NSDUH2018_wantedCols['AGE2'].astype('Int64')"
   ]
  },
  {
   "cell_type": "code",
   "execution_count": null,
   "metadata": {},
   "outputs": [
    {
     "data": {
      "text/plain": [
       "(2002, 12)"
      ]
     },
     "execution_count": 19,
     "metadata": {},
     "output_type": "execute_result"
    }
   ],
   "source": [
    "CoreTrends2018_wantedCols.shape"
   ]
  },
  {
   "cell_type": "code",
   "execution_count": null,
   "metadata": {},
   "outputs": [],
   "source": [
    "merged_2018 = convertAndMergeCoreTrendstoNSDUH(CoreTrends2018_wantedCols, NSDUH2018_wantedCols, 2018)"
   ]
  },
  {
   "cell_type": "code",
   "execution_count": null,
   "metadata": {},
   "outputs": [
    {
     "data": {
      "text/plain": [
       "(4104429, 35)"
      ]
     },
     "execution_count": 21,
     "metadata": {},
     "output_type": "execute_result"
    }
   ],
   "source": [
    "merged_2018.shape"
   ]
  },
  {
   "cell_type": "code",
   "execution_count": null,
   "metadata": {},
   "outputs": [],
   "source": [
    "merged_2019 = convertAndMergeCoreTrendstoNSDUH(CoreTrends2019_wantedCols, NSDUH2019_wantedCols, 2019)"
   ]
  },
  {
   "cell_type": "code",
   "execution_count": null,
   "metadata": {},
   "outputs": [],
   "source": [
    "merged_2021 = convertAndMergeCoreTrendstoNSDUH(CoreTrends2021_wantedCols, NSDUH2021_wantedCols, 2021)"
   ]
  },
  {
   "cell_type": "code",
   "execution_count": null,
   "metadata": {},
   "outputs": [
    {
     "data": {
      "text/plain": [
       "(4104429, 35)"
      ]
     },
     "execution_count": 24,
     "metadata": {},
     "output_type": "execute_result"
    }
   ],
   "source": [
    "merged_2018.head()\n",
    "merged_2018.shape"
   ]
  },
  {
   "cell_type": "code",
   "execution_count": null,
   "metadata": {},
   "outputs": [],
   "source": [
    "merged_2018['average_SM_use'] = merged_2018[['sns2a', 'sns2b', 'sns2c','sns2d']].sum(axis=1, skipna=True)\n",
    "merged_2019['average_SM_use'] = merged_2019[['sns2a', 'sns2b', 'sns2c','sns2d']].sum(axis=1, skipna=True)\n",
    "merged_2021['average_SM_use'] = merged_2021[['sns2a', 'sns2b', 'sns2c','sns2d']].sum(axis=1, skipna=True)\n"
   ]
  },
  {
   "cell_type": "code",
   "execution_count": null,
   "metadata": {},
   "outputs": [],
   "source": [
    "merged_2018 = merged_2018.dropna(subset=['average_SM_use', 'AGE2'])\n",
    "merged_2019 = merged_2019.dropna(subset=['average_SM_use', 'AGE2'])\n",
    "merged_2021 = merged_2021.dropna(subset=['average_SM_use', 'AGE3'])"
   ]
  },
  {
   "cell_type": "code",
   "execution_count": null,
   "metadata": {},
   "outputs": [],
   "source": [
    "merged_2018_SMUseAge = merged_2018[['age', 'average_SM_use']]\n",
    "merged_2019_SMUseAge = merged_2019[['age', 'average_SM_use']]\n",
    "merged_2021_SMUseAge = merged_2021[['age', 'average_SM_use']]"
   ]
  },
  {
   "cell_type": "code",
   "execution_count": null,
   "metadata": {},
   "outputs": [],
   "source": [
    "merged_2018_SMUseAge = merged_2018_SMUseAge.dropna()\n",
    "merged_2019_SMUseAge = merged_2019_SMUseAge.dropna()\n",
    "merged_2021_SMUseAge = merged_2021_SMUseAge.dropna()"
   ]
  },
  {
   "cell_type": "code",
   "execution_count": null,
   "metadata": {},
   "outputs": [],
   "source": [
    "average_use_by_age2018 = merged_2018_SMUseAge.groupby('age')['average_SM_use'].mean()\n",
    "average_use_by_age2019 = merged_2019_SMUseAge.groupby('age')['average_SM_use'].mean()\n",
    "average_use_by_age2021 = merged_2021_SMUseAge.groupby('age')['average_SM_use'].mean()"
   ]
  },
  {
   "cell_type": "code",
   "execution_count": null,
   "metadata": {},
   "outputs": [],
   "source": [
    "# merged_20182019 = pd.merge(merged_2018_SMUseAge, merged_2019_SMUseAge, left_on='age', right_on='age', how='left')\n",
    "# merged_allYears = pd.merge(merged_20182019, merged_2021_SMUseAge, left_on='age', right_on='age', how='left')\n"
   ]
  },
  {
   "cell_type": "code",
   "execution_count": null,
   "metadata": {},
   "outputs": [
    {
     "name": "stdout",
     "output_type": "stream",
     "text": [
      "    age  average_SM_use dataset\n",
      "0     1        5.203390    2018\n",
      "1     2        4.256410    2018\n",
      "2     3        3.971831    2018\n",
      "3     4        3.665803    2018\n",
      "4     5        2.928309    2018\n",
      "5     6        2.024221    2018\n",
      "0     7        5.037037    2019\n",
      "1     8        4.052632    2019\n",
      "2     9        5.000000    2019\n",
      "3    10        6.157895    2019\n",
      "4    11        4.378378    2019\n",
      "5    12        4.790698    2019\n",
      "6    13        4.000000    2019\n",
      "7    14        4.377551    2019\n",
      "8    15        3.875421    2019\n",
      "9    16        3.021226    2019\n",
      "10   17        1.794183    2019\n",
      "0     4        4.806452    2021\n",
      "1     5        5.811321    2021\n",
      "2     6        4.500000    2021\n",
      "3     7        5.150943    2021\n",
      "4     8        4.414634    2021\n",
      "5     9        3.931034    2021\n",
      "6    10        3.331461    2021\n",
      "7    11        1.985537    2021\n"
     ]
    }
   ],
   "source": [
    "# plt.plot(merged_2018_SMUseAge['age'], merged_2018_SMUseAge['average_SM_use'], label=\"2018\")\n",
    "# plt.plot(merged_2019_SMUseAge['age'], merged_2019_SMUseAge['average_SM_use'], label=\"2019\")\n",
    "# plt.plot(merged_2021_SMUseAge['age'], merged_2021_SMUseAge['average_SM_use'], label=\"2021\")\n",
    "\n",
    "average_use_by_age2018_df = average_use_by_age2018.reset_index()\n",
    "average_use_by_age2019_df = average_use_by_age2019.reset_index()\n",
    "average_use_by_age2021_df = average_use_by_age2021.reset_index()\n",
    "\n",
    "average_use_by_age2018_df['dataset'] = '2018'\n",
    "average_use_by_age2019_df['dataset'] = '2019'\n",
    "average_use_by_age2021_df['dataset'] = '2021'\n",
    "\n",
    "combined_df = pd.concat([average_use_by_age2018_df, average_use_by_age2019_df, average_use_by_age2021_df])\n",
    "\n",
    "print(combined_df)\n"
   ]
  },
  {
   "cell_type": "code",
   "execution_count": null,
   "metadata": {},
   "outputs": [
    {
     "data": {
      "text/plain": [
       "<Axes: xlabel='age', ylabel='average_SM_use'>"
      ]
     },
     "execution_count": 45,
     "metadata": {},
     "output_type": "execute_result"
    },
    {
     "data": {
      "image/png": "[encoded data removed]",
      "text/plain": [
       "<Figure size 640x480 with 1 Axes>"
      ]
     },
     "metadata": {},
     "output_type": "display_data"
    }
   ],
   "source": [
    "sns.barplot(data=combined_df, x='age', y='average_SM_use', hue='dataset' ,palette='viridis')\n"
   ]
  },
  {
   "cell_type": "code",
   "execution_count": null,
   "metadata": {},
   "outputs": [
    {
     "data": {
      "text/plain": [
       "(array([0, 1, 2, 3, 4, 5]),\n",
       " [Text(0, 0, '1'),\n",
       "  Text(1, 0, '2'),\n",
       "  Text(2, 0, '3'),\n",
       "  Text(3, 0, '4'),\n",
       "  Text(4, 0, '5'),\n",
       "  Text(5, 0, '6')])"
      ]
     },
     "execution_count": 27,
     "metadata": {},
     "output_type": "execute_result"
    },
    {
     "data": {
      "image/png": "[encoded data removed]",
      "text/plain": [
       "<Figure size 640x480 with 1 Axes>"
      ]
     },
     "metadata": {},
     "output_type": "display_data"
    }
   ],
   "source": [
    "sns.barplot(data=merged_2018, x='AGE2', y='average_SM_use',palette='viridis')\n",
    "plt.xlabel(\"Age group\")\n",
    "plt.ylabel(\"Social media usage\")\n",
    "plt.title(\"Snapchat and TikTok users perceive poorer economic conditions than users on other platforms.\")\n",
    "plt.xticks(rotation=45)"
   ]
  }
 ],
 "metadata": {
  "kernelspec": {
   "display_name": "cs418",
   "language": "python",
   "name": "python3"
  },
  "language_info": {
   "codemirror_mode": {
    "name": "ipython",
    "version": 3
   },
   "file_extension": ".py",
   "mimetype": "text/x-python",
   "name": "python",
   "nbconvert_exporter": "python",
   "pygments_lexer": "ipython3",
   "version": "3.11.5"
  }
 },
 "nbformat": 4,
 "nbformat_minor": 2
}
