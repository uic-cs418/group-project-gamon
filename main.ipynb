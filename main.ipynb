{
 "cells": [
  {
   "cell_type": "markdown",
   "metadata": {},
   "source": [
    "# Introduction"
   ]
  },
  {
   "cell_type": "markdown",
   "metadata": {},
   "source": [
    "There are 2 datasets that serperatly span 3 years, 2018, 2019, 2021* : \n",
    "<br>\n",
    "NSDUH - National Survey on Drug Use and Health which contains data on mental health\n",
    "<br>\n",
    "Core Trends - Pew Research Core trends survey which contains data on social media use\n",
    "\n",
    "*2020 was not included because the Core Trends survey for that year doesn't exist.\n",
    "\n",
    "With this data we are trying to answer whether there is a correlation between Social Media use and negative Mental health outcomes\n"
   ]
  },
  {
   "cell_type": "code",
   "execution_count": 1,
   "metadata": {
    "ExecuteTime": {
     "end_time": "2024-04-03T02:32:52.347997Z",
     "start_time": "2024-04-03T02:32:51.753190Z"
    }
   },
   "outputs": [],
   "source": [
    "import pandas as pd\n",
    "import numpy as np\n",
    "from ml_analysis import to_numeric, predictUsageOfAgeGroups"
   ]
  },
  {
   "cell_type": "markdown",
   "metadata": {},
   "source": [
    "# EDA"
   ]
  },
  {
   "cell_type": "code",
   "execution_count": null,
   "metadata": {},
   "outputs": [],
   "source": []
  },
  {
   "cell_type": "markdown",
   "metadata": {},
   "source": [
    "# Visual 1"
   ]
  },
  {
   "cell_type": "code",
   "execution_count": null,
   "metadata": {},
   "outputs": [],
   "source": []
  },
  {
   "cell_type": "markdown",
   "metadata": {
    "collapsed": false
   },
   "source": [
    "# Machine Learning"
   ]
  },
  {
   "cell_type": "code",
   "execution_count": 2,
   "metadata": {
    "ExecuteTime": {
     "end_time": "2024-04-03T02:32:54.434273Z",
     "start_time": "2024-04-03T02:32:54.315922Z"
    },
    "collapsed": false
   },
   "outputs": [
    {
     "name": "stdout",
     "output_type": "stream",
     "text": [
      "Accuracy: 0.32\n",
      "Classification Report:\n",
      "              precision    recall  f1-score   support\n",
      "\n",
      "       18-24       0.45      0.43      0.44       101\n",
      "       25-34       0.21      0.26      0.24       136\n",
      "       35-44       0.20      0.05      0.09       129\n",
      "       45-54       0.26      0.07      0.11       155\n",
      "       55-64       0.23      0.10      0.14       157\n",
      "         65+       0.36      0.81      0.50       215\n",
      "\n",
      "    accuracy                           0.32       893\n",
      "   macro avg       0.29      0.29      0.25       893\n",
      "weighted avg       0.28      0.32      0.26       893\n",
      "\n",
      "Confusion Matrix:\n",
      "[[ 43  33   1   1   1  22]\n",
      " [ 27  36  10   6  12  45]\n",
      " [ 12  32   7   9   9  60]\n",
      " [  4  30   9  11  18  83]\n",
      " [  4  22   5   8  15 103]\n",
      " [  6  15   3   7  10 174]]\n"
     ]
    }
   ],
   "source": [
    "nsduh2018 = pd.read_csv('datasets/January 3-10, 2018 - Core Trends Survey/January 3-10, 2018 - Core Trends Survey - CSV.csv')\n",
    "cleaned = to_numeric(nsduh2018, 'intfreq')\n",
    "pred = predictUsageOfAgeGroups(cleaned)"
   ]
  },
  {
   "cell_type": "markdown",
   "metadata": {
    "collapsed": false
   },
   "source": [
    "After feeding the 2018 Core Trends data frame to the SVM model, we get a very low accuracy number. We're not entirely sure why this could be the case, but due to these results we plan on using Recursive Feature Elimination to help with finding the right columns to feed the model. For the results above, we are feeding it the internet frequency, the age, and which social medias they specifically use. There could be other responses that could help like, income, race, and marital status which are in the data.\n",
    "This data frame has good features such as how much said users use certain social medias, 5 being rarely and 1 being several times a day. Which is what we're trying to predict, which social media is used the most amongst age groups.\n",
    "\n",
    "What we plan to do is merge all the years, 2018, 2019 and 2021 to give the model more data to have a better accuracy score. However, some of the newer tests added new questions so the combined data frame has to be merged together and cleaned for it to inputted properly."
   ]
  }
 ],
 "metadata": {
  "kernelspec": {
   "display_name": "Python 3 (ipykernel)",
   "language": "python",
   "name": "python3"
  },
  "language_info": {
   "codemirror_mode": {
    "name": "ipython",
    "version": 3
   },
   "file_extension": ".py",
   "mimetype": "text/x-python",
   "name": "python",
   "nbconvert_exporter": "python",
   "pygments_lexer": "ipython3",
   "version": "3.11.5"
  }
 },
 "nbformat": 4,
 "nbformat_minor": 4
}
