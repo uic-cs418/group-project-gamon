{
 "cells": [
  {
   "cell_type": "markdown",
   "metadata": {},
   "source": [
    "# Introduction"
   ]
  },
  {
   "cell_type": "markdown",
   "metadata": {},
   "source": [
    "There are 2 datasets that serperatly span 3 years, 2018, 2019, 2021* : \n",
    "<br>\n",
    "NSDUH - National Survey on Drug Use and Health which contains data on mental health\n",
    "<br>\n",
    "Core Trends - Pew Research Core trends survey which contains data on social media use\n",
    "\n",
    "*2020 was not included because the Core Trends survey for that year doesn't exist.\n",
    "\n",
    "With this data we are trying to answer whether there is a correlation between Social Media use and negative Mental health outcomes\n"
   ]
  },
  {
   "cell_type": "code",
   "execution_count": 1,
   "metadata": {
    "ExecuteTime": {
     "end_time": "2024-04-03T02:32:52.347997Z",
     "start_time": "2024-04-03T02:32:51.753190Z"
    }
   },
   "outputs": [],
   "source": [
    "import pandas as pd\n",
    "import numpy as np\n",
    "import seaborn as sns\n",
    "%matplotlib inline\n",
    "import matplotlib.pyplot as plt\n",
    "from ml_analysis import to_numeric, predictUsageOfAgeGroups\n",
    "from helper_code import *"
   ]
  },
  {
   "cell_type": "markdown",
   "metadata": {},
   "source": [
    "# EDA"
   ]
  },
  {
   "cell_type": "code",
   "execution_count": null,
   "metadata": {},
   "outputs": [],
   "source": []
  },
  {
   "cell_type": "markdown",
   "metadata": {},
   "source": [
    "# Visual 1"
   ]
  },
  {
   "cell_type": "markdown",
   "metadata": {},
   "source": [
    "##### Read in datasets"
   ]
  },
  {
   "cell_type": "code",
   "execution_count": 2,
   "metadata": {},
   "outputs": [
    {
     "name": "stderr",
     "output_type": "stream",
     "text": [
      "/Users/synth/Documents/UNI/418/group-project-gamon/helper_code.py:17: DtypeWarning: Columns (2799) have mixed types. Specify dtype option on import or set low_memory=False.\n",
      "  data = pd.read_table(path)\n",
      "/Users/synth/Documents/UNI/418/group-project-gamon/helper_code.py:17: DtypeWarning: Columns (2575) have mixed types. Specify dtype option on import or set low_memory=False.\n",
      "  data = pd.read_table(path)\n",
      "/Users/synth/Documents/UNI/418/group-project-gamon/helper_code.py:17: DtypeWarning: Columns (2525) have mixed types. Specify dtype option on import or set low_memory=False.\n",
      "  data = pd.read_table(path)\n"
     ]
    }
   ],
   "source": [
    "NSDUH2021 = readInData(\"datasets/National Survey on Drug Use and Health 2021/NSDUH_2021_Tab.txt\", \"txt\")\n",
    "NSDUH2019 = readInData(\"datasets/National Survey on Drug Use and Health 2019/NSDUH_2019_Tab.txt\", \"txt\")\n",
    "NSDUH2018 = readInData(\"datasets/National Survey on Drug Use and Health 2018/NSDUH_2018_Tab.tsv\", \"tsv\")\n",
    "CoreTrends2021 = readInData(\"datasets/Jan-25-Feb-8-2021-Core-Trends-Survey/Jan 25-Feb 8, 2021 - Core Trends Survey - CSV.csv\", \"csv\")\n",
    "CoreTrends2019 = readInData(\"datasets/January-8-February-7-2019-Core-Trends-Survey-SPSS/January 8-February 7, 2019 - Core Trends Survey - CSV.csv\", \"csv\")\n",
    "CoreTrends2018 = readInData(\"datasets/January 3-10, 2018 - Core Trends Survey/January 3-10, 2018 - Core Trends Survey - CSV.csv\", \"csv\")"
   ]
  },
  {
   "cell_type": "markdown",
   "metadata": {},
   "source": [
    "##### Get all columns valuable to us\n",
    "After manually going through the codebooks and choosing variables that we want to analyze, we simply create a deep copy of the read-in DF with only the selected columns."
   ]
  },
  {
   "cell_type": "code",
   "execution_count": 3,
   "metadata": {},
   "outputs": [],
   "source": [
    "NSDUH2021Cols = [\"AGE3\",\"IRSEX\",\"AUINPYR\",\"AURXYR\",\"YEATNDYR\",\"YESCHFLT\",\"YEPRBSLV\",\"DSTNRV30\",\"DSTHOP30\",\"DSTCHR30\",\"DSTNGD30\",\"DSTWORST\",\"DSTNRV12\",\"DSTHOP12\",\"DSTCHR12\",\"DSTNGD12\",\"IMPCONCN\",\"IMPGOUT\",\"IMPPEOP\",\"IMPSOC\",\"IMPSOCM\",\"SUICTHNK\",\"SUIPLANYR\",\"ADDPREV\"]\n",
    "NSDUH201819Cols = [\"AGE2\", \"IRSEX\", \"AUINPYR\",\"AURXYR\",\"YEATNDYR\",\"YESCHFLT\",\"YEPRBSLV\",\"DSTNRV30\",\"DSTHOP30\",\"DSTCHR30\",\"DSTNGD30\",\"DSTWORST\",\"DSTNRV12\",\"DSTHOP12\",\"DSTCHR12\",\"DSTNGD12\",\"IMPCONCN\",\"IMPGOUT\",\"IMPPEOP\",\"IMPSOC\",\"IMPSOCM\",\"SUICTHNK\",\"ADDPREV\"]\n",
    "CoreTrends2021Cols = [\"web1a\", \"web1b\", \"web1c\", \"web1d\", \"web1e\",\"sns2a\", \"sns2b\", \"sns2c\", \"sns2d\", \"sns2e\",\"gender\", \"age\"]\n",
    "CoreTrends2019Cols = [\"web1a\", \"web1b\", \"web1c\", \"web1d\", \"web1e\",\"sns2a\", \"sns2b\", \"sns2c\", \"sns2d\", \"sns2e\",\"sex\", \"age\"]\n",
    "CoreTrends2018Cols = [\"web1a\", \"web1b\", \"web1c\", \"web1d\", \"web1e\",\"sns2a\", \"sns2b\", \"sns2c\", \"sns2d\", \"sns2e\",\"sex\", \"age\"]\n",
    "\n",
    "NSDUH2019_wantedCols = getWantedColumns(NSDUH2019, NSDUH201819Cols)\n",
    "NSDUH2018_wantedCols = getWantedColumns(NSDUH2018, NSDUH201819Cols)\n",
    "NSDUH2021_wantedCols = getWantedColumns(NSDUH2021, NSDUH2021Cols)\n",
    "\n",
    "CoreTrends2021_wantedCols = getWantedColumns(CoreTrends2021, CoreTrends2021Cols)\n",
    "CoreTrends2019_wantedCols = getWantedColumns(CoreTrends2019, CoreTrends2019Cols)\n",
    "CoreTrends2018_wantedCols = getWantedColumns(CoreTrends2018, CoreTrends2018Cols)"
   ]
  },
  {
   "cell_type": "markdown",
   "metadata": {},
   "source": [
    "##### Clean up data\n",
    "This is where we clean up the datasets and convert it to a more usable format. Code is in helper_code.py\n",
    "<br><br>\n",
    "CoreTrends Dataset:\n",
    "<br>First all data is converted to numeric.\n",
    "<br>Drop 'sns2a' column because all values are empty.\n",
    "<br>Remove values over 98 because those indicate a refused or skipped answer.\n",
    "<br>Cut the age data into bins representing ranges of ages to match with NSDUH.\n",
    "<br>Melt the data into longform, using selected id and values (in this case age and web1a...web1e).\n",
    "<br>Convert the values from ints to more descriptive value (1->Uses Social Media, 2->Doesnt Use Social Media), this eliminates a manual labeling step later\n",
    "Drop null values.\n",
    "<br><br>\n",
    "NSDUH Dataset:\n",
    "<br>First all data is converted to numeric.\n",
    "<br>Remove values over 85 because those indicate a refused or skipped answer.\n",
    "<br>Cut the age data into matching bins as CoreTrends\n",
    "<br>Cut the desired column values into two bins for more relevant/consistent data since most values are in a range.\n",
    "<br>Melt the data into longform, using selected id and values (in this case either AGE2/AGE3 depending on year, and desired mental health column)\n",
    "<br>Rename AGE2/AGE3 column to age, for consistency\n",
    "<br>Drop null values\n"
   ]
  },
  {
   "cell_type": "code",
   "execution_count": 4,
   "metadata": {},
   "outputs": [],
   "source": [
    "CoreTrends_id = ['age']\n",
    "CoreTrends_values = [\"web1a\", \"web1b\", \"web1c\", \"web1d\", \"web1e\"]\n",
    "NSDUH_id=['AGE2']\n",
    "NSDUH_values = ['DSTCHR12']\n",
    "\n",
    "CoreTrends2018_long = cleanUpCoreTrends(CoreTrends2018_wantedCols, CoreTrends_id, CoreTrends_values)\n",
    "CoreTrends2019_long = cleanUpCoreTrends(CoreTrends2019_wantedCols, CoreTrends_id, CoreTrends_values)\n",
    "CoreTrends2021_long = cleanUpCoreTrends(CoreTrends2021_wantedCols, CoreTrends_id, CoreTrends_values)\n",
    "NSDUH2018_long = cleanUpNSDUH(NSDUH2018_wantedCols,NSDUH_id,NSDUH_values)\n",
    "NSDUH2019_long = cleanUpNSDUH(NSDUH2019_wantedCols,NSDUH_id,NSDUH_values)\n",
    "NSDUH2021_long = cleanUpNSDUH(NSDUH2021_wantedCols,['AGE3'],NSDUH_values)\n"
   ]
  },
  {
   "cell_type": "markdown",
   "metadata": {},
   "source": [
    "##### Get Percentages"
   ]
  },
  {
   "cell_type": "code",
   "execution_count": 5,
   "metadata": {},
   "outputs": [],
   "source": [
    "percDepressed_NSDUH2018 = getPercentage(NSDUH2018_long, \"Depressed\", \"age\", 2018)\n",
    "percDepressed_NSDUH2019 = getPercentage(NSDUH2019_long, \"Depressed\", \"age\", 2019)\n",
    "percDepressed_NSDUH2021 = getPercentage(NSDUH2021_long, \"Depressed\", \"age\", 2021)\n",
    "SMUse_sum_CoreTrends2018 = getPercentage(CoreTrends2018_long, \"Uses Social Media\", \"age\", 2018)\n",
    "SMUse_sum_CoreTrends2019 = getPercentage(CoreTrends2019_long, \"Uses Social Media\", \"age\", 2019)\n",
    "SMUse_sum_CoreTrends2021 = getPercentage(CoreTrends2021_long, \"Uses Social Media\", \"age\", 2021)\n",
    "\n",
    "CoreTrends_SMUseSum_concat = pd.concat([SMUse_sum_CoreTrends2018,SMUse_sum_CoreTrends2019, SMUse_sum_CoreTrends2021])\n",
    "NSDUH_concat = pd.concat([percDepressed_NSDUH2018,percDepressed_NSDUH2019,percDepressed_NSDUH2021])"
   ]
  },
  {
   "cell_type": "markdown",
   "metadata": {},
   "source": [
    "##### Display final graph"
   ]
  },
  {
   "cell_type": "code",
   "execution_count": 6,
   "metadata": {},
   "outputs": [
    {
     "data": {
      "text/plain": [
       "<matplotlib.legend.Legend at 0x15016e310>"
      ]
     },
     "execution_count": 6,
     "metadata": {},
     "output_type": "execute_result"
    },
    {
     "data": {
      "image/png": "[encoded data removed]",
      "text/plain": [
       "<Figure size 640x480 with 1 Axes>"
      ]
     },
     "metadata": {},
     "output_type": "display_data"
    }
   ],
   "source": [
    "sns.barplot(data=NSDUH_concat, x='age', y='percentage',hue='dataset', palette='bright')\n",
    "sns.barplot(data=CoreTrends_SMUseSum_concat, x='age', y='percentage', hue='dataset' ,palette='dark')\n",
    "\n",
    "plt.title(\"As social media use increases for Millenials & up, so does depression. Inversely so for Gen Z.\")\n",
    "plt.ylabel(\"Percentage\")\n",
    "plt.xlabel(\"Age Group\")\n",
    "plt.legend(loc='upper right', bbox_to_anchor=(1.5, 1))"
   ]
  },
  {
   "cell_type": "markdown",
   "metadata": {},
   "source": [
    "*Note: For transparency, in this graph we used the variable DSTCHR12 in NSDUH which represents how often someone felt sad in their worst month within the year, as opposed to DSTCHR30 which is the same but only in the past 30 days. We believe this is more relevant/accurate as it accounts for the most sad someone has been throughout the year, rather than simply the past month. Therefore it should provide a better idea on any more generalized trends throughout the years. Also for this project report specifically, we labeled this as \"Depression\" to be concise. We may change this label in the future if there's another way to label it more appropriately. \n",
    "\n",
    "The most interesting result from this data is non-obvious trends when looking at how social media usage changed throughout the 3 years compared to the percentage of people depressed within the age ranges.\n",
    "\n",
    "For 18-25 year olds (roughly Gen Z), there was an inverse correlation. The percentage of those depressed consistently increased, while social media usage consistently decreased.\n",
    "\n",
    "However for ages 26-49 (roughly Millenials & Gen X), both depression and social media usage percentages increased.\n",
    "\n",
    "For ages 50-64, Depression remained relatively unchaged while social media usage increased. And for ages 60+ there was no data on Depression so a correllation cannot be made, unless we interpret that as people 65+ refusing to acknowledge mental health which would be an interesting result.\n",
    "\n",
    "The most surprising result is regarding Gen Z having the inverse correlation with depression and social media usage, as one may have expected a result similar to those for Millenials/Gen X. However, what isn't surprising is the fact that the percentages of those depressed decreases throughout the generations as younger people are often more willing/open to acknowledge and in some cases even embrace their mental health struggles."
   ]
  },
  {
   "cell_type": "markdown",
   "metadata": {
    "collapsed": false
   },
   "source": [
    "# Machine Learning"
   ]
  },
  {
   "cell_type": "code",
   "execution_count": 2,
   "metadata": {
    "ExecuteTime": {
     "end_time": "2024-04-03T02:32:54.434273Z",
     "start_time": "2024-04-03T02:32:54.315922Z"
    },
    "collapsed": false
   },
   "outputs": [
    {
     "name": "stdout",
     "output_type": "stream",
     "text": [
      "Accuracy: 0.32\n",
      "Classification Report:\n",
      "              precision    recall  f1-score   support\n",
      "\n",
      "       18-24       0.45      0.43      0.44       101\n",
      "       25-34       0.21      0.26      0.24       136\n",
      "       35-44       0.20      0.05      0.09       129\n",
      "       45-54       0.26      0.07      0.11       155\n",
      "       55-64       0.23      0.10      0.14       157\n",
      "         65+       0.36      0.81      0.50       215\n",
      "\n",
      "    accuracy                           0.32       893\n",
      "   macro avg       0.29      0.29      0.25       893\n",
      "weighted avg       0.28      0.32      0.26       893\n",
      "\n",
      "Confusion Matrix:\n",
      "[[ 43  33   1   1   1  22]\n",
      " [ 27  36  10   6  12  45]\n",
      " [ 12  32   7   9   9  60]\n",
      " [  4  30   9  11  18  83]\n",
      " [  4  22   5   8  15 103]\n",
      " [  6  15   3   7  10 174]]\n"
     ]
    }
   ],
   "source": [
    "nsduh2018 = pd.read_csv('datasets/January 3-10, 2018 - Core Trends Survey/January 3-10, 2018 - Core Trends Survey - CSV.csv')\n",
    "cleaned = to_numeric(nsduh2018, 'intfreq')\n",
    "pred = predictUsageOfAgeGroups(cleaned)"
   ]
  },
  {
   "cell_type": "markdown",
   "metadata": {
    "collapsed": false
   },
   "source": [
    "After feeding the 2018 Core Trends data frame to the SVM model, we get a very low accuracy number. We're not entirely sure why this could be the case, but due to these results we plan on using Recursive Feature Elimination to help with finding the right columns to feed the model. For the results above, we are feeding it the internet frequency, the age, and which social medias they specifically use. There could be other responses that could help like, income, race, and marital status which are in the data.\n",
    "This data frame has good features such as how much said users use certain social medias, 5 being rarely and 1 being several times a day. Which is what we're trying to predict, which social media is used the most amongst age groups.\n",
    "\n",
    "What we plan to do is merge all the years, 2018, 2019 and 2021 to give the model more data to have a better accuracy score. However, some of the newer tests added new questions so the combined data frame has to be merged together and cleaned for it to inputted properly."
   ]
  }
 ],
 "metadata": {
  "kernelspec": {
   "display_name": "Python 3 (ipykernel)",
   "language": "python",
   "name": "python3"
  },
  "language_info": {
   "codemirror_mode": {
    "name": "ipython",
    "version": 3
   },
   "file_extension": ".py",
   "mimetype": "text/x-python",
   "name": "python",
   "nbconvert_exporter": "python",
   "pygments_lexer": "ipython3",
   "version": "3.11.5"
  }
 },
 "nbformat": 4,
 "nbformat_minor": 4
}
