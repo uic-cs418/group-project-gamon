{
 "cells": [
  {
   "cell_type": "markdown",
   "metadata": {},
   "source": [
    "# Introduction"
   ]
  },
  {
   "cell_type": "markdown",
   "metadata": {},
   "source": [
    "There are 2 datasets that serperatly span 3 years, 2018, 2019, 2021* : \n",
    "<br>\n",
    "NSDUH - National Survey on Drug Use and Health which contains data on mental health\n",
    "<br>\n",
    "Core Trends - Pew Research Core trends survey which contains data on social media use\n",
    "\n",
    "*2020 was not included because the Core Trends survey for that year doesn't exist.\n",
    "\n",
    "With this data we are trying to answer whether there is a correlation between Social Media use and negative Mental health outcomes\n"
   ]
  },
  {
   "cell_type": "code",
   "execution_count": null,
   "metadata": {},
   "outputs": [],
   "source": []
  }
 ],
 "metadata": {
  "language_info": {
   "name": "python"
  }
 },
 "nbformat": 4,
 "nbformat_minor": 2
}
